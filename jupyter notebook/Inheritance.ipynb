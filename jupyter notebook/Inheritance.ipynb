{
 "cells": [
  {
   "cell_type": "markdown",
   "id": "f3a34edc",
   "metadata": {},
   "source": [
    "## Single Inheritance"
   ]
  },
  {
   "cell_type": "code",
   "execution_count": 2,
   "id": "c2a7fea6",
   "metadata": {},
   "outputs": [
    {
     "ename": "SyntaxError",
     "evalue": "invalid syntax (729032634.py, line 1)",
     "output_type": "error",
     "traceback": [
      "\u001b[1;36m  File \u001b[1;32m\"C:\\Users\\nitcha01\\AppData\\Local\\Temp\\ipykernel_19092\\729032634.py\"\u001b[1;36m, line \u001b[1;32m1\u001b[0m\n\u001b[1;33m    a =  new string(\"Hello\")\u001b[0m\n\u001b[1;37m             ^\u001b[0m\n\u001b[1;31mSyntaxError\u001b[0m\u001b[1;31m:\u001b[0m invalid syntax\n"
     ]
    }
   ],
   "source": [
    "a =  new string(\"Hello\")\n",
    "b = \"Hello\"\n",
    "peint(a==b)"
   ]
  },
  {
   "cell_type": "code",
   "execution_count": 2,
   "id": "ef860ede",
   "metadata": {},
   "outputs": [
    {
     "name": "stdout",
     "output_type": "stream",
     "text": [
      "animal speak\n",
      "dog bark\n"
     ]
    }
   ],
   "source": [
    "class animal():\n",
    "    def speak(self):\n",
    "        return \"animal speak\"\n",
    "    \n",
    "class dog(animal):\n",
    "    def bark(self):\n",
    "        return \"dog bark\"\n",
    "    \n",
    "d = dog()\n",
    "print(d.speak())\n",
    "print(d.bark())"
   ]
  },
  {
   "cell_type": "markdown",
   "id": "7c4e6f2a",
   "metadata": {},
   "source": [
    "## Multiple Inheritance"
   ]
  },
  {
   "cell_type": "code",
   "execution_count": 4,
   "id": "350884ff",
   "metadata": {},
   "outputs": [
    {
     "name": "stdout",
     "output_type": "stream",
     "text": [
      "engineer\n",
      "Gov Officer\n"
     ]
    }
   ],
   "source": [
    "class nitin():\n",
    "    def chaudhary(self):\n",
    "        return \"engineer\"\n",
    "class nishant():\n",
    "    def kumar(self):\n",
    "        return \"Gov Officer\"\n",
    "class person(nitin , nishant):\n",
    "    pass\n",
    "\n",
    "obj = person()\n",
    "print(obj.chaudhary())\n",
    "print(obj.kumar())\n"
   ]
  },
  {
   "cell_type": "code",
   "execution_count": 3,
   "id": "4c2dd5fa",
   "metadata": {},
   "outputs": [
    {
     "name": "stdout",
     "output_type": "stream",
     "text": [
      "(5, 1)\n"
     ]
    }
   ],
   "source": [
    "def allones(arr):\n",
    "    count=0\n",
    "    max_length=0\n",
    "    \n",
    "    for num in arr:\n",
    "        if num==1:\n",
    "            count+=1\n",
    "            max_length=+1\n",
    "    return count , max_length\n",
    "            \n",
    "arr=[1 , 5 ,1 , 6 , 1 ,  7 , 1 , 1]\n",
    "print(allones(arr))"
   ]
  },
  {
   "cell_type": "code",
   "execution_count": 12,
   "id": "ad1324f5",
   "metadata": {},
   "outputs": [
    {
     "name": "stdout",
     "output_type": "stream",
     "text": [
      "{1, 2, 3, 6, 8, 9, 44}\n",
      "2\n",
      "{1, 2, 3, 6, 8, 9, 44}\n",
      "3\n",
      "([1, 2, 3], 3)\n"
     ]
    }
   ],
   "source": [
    "def cinsecutiveones(num):\n",
    "    curr_nume=set(num)\n",
    "    max_length=0\n",
    "    word=0\n",
    "    \n",
    "    for num in curr_nume:\n",
    "        if num-1 not in curr_nume:\n",
    "            current_num =num\n",
    "            \n",
    "            current_streak=1\n",
    "            \n",
    "            current_word=[current_num]\n",
    "            \n",
    "            while current_num+1 in curr_nume:\n",
    "                current_num +=1\n",
    "                print(curr_nume)\n",
    "                current_streak +=1\n",
    "                print(current_streak)\n",
    "                current_word.append(current_num)\n",
    "                \n",
    "            if current_streak > max_length:\n",
    "                max_length=current_streak\n",
    "                word =current_word\n",
    "                \n",
    "            max_length=max(max_length , current_num)\n",
    "            \n",
    "        return word , max_length\n",
    "    \n",
    "num=[3 , 1, 6 , 2 ,  8 , 9  ,2 , 44]\n",
    "print(cinsecutiveones(num))"
   ]
  },
  {
   "cell_type": "code",
   "execution_count": 8,
   "id": "69683efc",
   "metadata": {},
   "outputs": [
    {
     "name": "stdout",
     "output_type": "stream",
     "text": [
      "Missing elements: [5, 7, 9]\n"
     ]
    }
   ],
   "source": [
    "def counting(arr):\n",
    "    miss=[]\n",
    "    for num in range(arr[0] , arr[-1] +1):\n",
    "        if num not in arr:\n",
    "            miss.append(num)\n",
    "    return miss\n",
    "\n",
    "a = [1, 2, 3, 4, 6, 8, 10]\n",
    "missing_elements = counting(a)\n",
    "print(\"Missing elements:\", missing_elements)"
   ]
  }
 ],
 "metadata": {
  "kernelspec": {
   "display_name": "Python 3 (ipykernel)",
   "language": "python",
   "name": "python3"
  },
  "language_info": {
   "codemirror_mode": {
    "name": "ipython",
    "version": 3
   },
   "file_extension": ".py",
   "mimetype": "text/x-python",
   "name": "python",
   "nbconvert_exporter": "python",
   "pygments_lexer": "ipython3",
   "version": "3.9.13"
  }
 },
 "nbformat": 4,
 "nbformat_minor": 5
}
