{
 "cells": [
  {
   "cell_type": "code",
   "execution_count": 3,
   "id": "8a6765ea",
   "metadata": {},
   "outputs": [
    {
     "data": {
      "text/plain": [
       "[('Nishant', 99), ('nitin', 45), ('rahul', 33)]"
      ]
     },
     "execution_count": 3,
     "metadata": {},
     "output_type": "execute_result"
    }
   ],
   "source": [
    "## Sort pair on the bases of second value\n",
    "l = [('nitin' , 45) , (\"rahul\" , 33) , (\"Nishant\"  , 99)]\n",
    "sorted(l,key=lambda x: x[1] , reverse=True)"
   ]
  },
  {
   "cell_type": "code",
   "execution_count": 37,
   "id": "829d625f-b3fe-46be-8e16-424b79505596",
   "metadata": {},
   "outputs": [
    {
     "name": "stdout",
     "output_type": "stream",
     "text": [
      "nitin chaudhary\n",
      "nitin chaudhary\n"
     ]
    }
   ],
   "source": [
    "input_str = \"nitinchaudhary\"\n",
    "output = input_str[:5] + \" \" + input_str[5:]\n",
    "print(output)  # Output: \"nitin chaudhary\"\n",
    "first_name= \"nitin\"\n",
    "if input_str.startswith(first_name):\n",
    "    result=first_name + \" \" +  input_str[len(first_name):]\n",
    "    print(result)"
   ]
  },
  {
   "cell_type": "code",
   "execution_count": 39,
   "id": "91efc43c-0248-44f7-936e-6f08603b98b9",
   "metadata": {},
   "outputs": [
    {
     "name": "stdout",
     "output_type": "stream",
     "text": [
      "nit32inchaudhary\n",
      "nitinchaudhary\n",
      "2\n"
     ]
    }
   ],
   "source": [
    "word='nit$32in&^%chaudhary'\n",
    "ch=\"\".join(i for i in word if i.isalnum())\n",
    "print(ch)\n",
    "p=[]\n",
    "c=[]\n",
    "for i in word:\n",
    "    if i.isdigit():\n",
    "        p.append(\"\".join(i))\n",
    "    elif i.isalpha():\n",
    "        c.append(i)\n",
    "print(\"\".join(c))\n",
    "print(len(p))"
   ]
  },
  {
   "cell_type": "code",
   "execution_count": 43,
   "id": "43b46ea4-1130-4171-b014-e48e4fa89ffe",
   "metadata": {},
   "outputs": [
    {
     "ename": "AttributeError",
     "evalue": "'Gaurav' object has no attribute '_Gaurav'",
     "output_type": "error",
     "traceback": [
      "\u001b[1;31m---------------------------------------------------------------------------\u001b[0m",
      "\u001b[1;31mAttributeError\u001b[0m                            Traceback (most recent call last)",
      "Cell \u001b[1;32mIn[43], line 12\u001b[0m\n\u001b[0;32m      8\u001b[0m         \u001b[38;5;28msuper\u001b[39m()\u001b[38;5;241m.\u001b[39m\u001b[38;5;21m__init__\u001b[39m(name)\n\u001b[0;32m     11\u001b[0m g\u001b[38;5;241m=\u001b[39mGaurav(\u001b[38;5;124m\"\u001b[39m\u001b[38;5;124mtest\u001b[39m\u001b[38;5;124m\"\u001b[39m)\n\u001b[1;32m---> 12\u001b[0m \u001b[38;5;28mprint\u001b[39m(g\u001b[38;5;241m.\u001b[39m_Gaurav\u001b[38;5;241m.\u001b[39m__name)\n",
      "\u001b[1;31mAttributeError\u001b[0m: 'Gaurav' object has no attribute '_Gaurav'"
     ]
    }
   ],
   "source": [
    "class Gaurav:\n",
    "\n",
    "    def __init__(self,name):\n",
    "        self.__name=name\n",
    "\n",
    "class Test():\n",
    "    def power(self,age):\n",
    "        super().__init__(name)\n",
    "\n",
    "\n",
    "g=Gaurav(\"test\")\n",
    "print(g._Gaurav.__name)"
   ]
  },
  {
   "cell_type": "code",
   "execution_count": 2,
   "id": "d4b41e2b",
   "metadata": {},
   "outputs": [
    {
     "name": "stdout",
     "output_type": "stream",
     "text": [
      "Longest Substring Length: 6\n",
      "Longest Substring: abcdef\n"
     ]
    }
   ],
   "source": [
    "def find_longest_uppercase_subarray(s):\n",
    "    max_length=0\n",
    "    word=\"\"\n",
    "    start=0\n",
    "    char_frequency={}\n",
    "    \n",
    "    for i in range(len(s)):\n",
    "        if s[i] in char_frequency and char_frequency[s[i]] >=start:\n",
    "            start = char_frequency[s[i]]+1\n",
    "        char_frequency[s[i]] =i\n",
    "        \n",
    "        current_max=i-start+1\n",
    "        if current_max >max_length:\n",
    "            max_length =current_max\n",
    "            word = s[start:i+1]\n",
    "    return max_length , word\n",
    "\n",
    "arr = 'abcdabcdefabcdef'\n",
    "max_length, word = find_longest_uppercase_subarray(arr)\n",
    "print(\"Longest Substring Length:\", max_length)\n",
    "print(\"Longest Substring:\", word)"
   ]
  },
  {
   "cell_type": "code",
   "execution_count": 2,
   "id": "55c78fdf",
   "metadata": {},
   "outputs": [
    {
     "name": "stdout",
     "output_type": "stream",
     "text": [
      "Enter a string: Nitin\n",
      "Length of the longest subarray with uppercase letters: 1\n"
     ]
    }
   ],
   "source": [
    "def find_longest_uppercase_subarray(s):\n",
    "    max_length = 0\n",
    "    current_length = 0\n",
    "\n",
    "    for char in s:\n",
    "        if char.isupper():  # Check if the character is uppercase\n",
    "            current_length += 1\n",
    "            max_length = max(max_length, current_length)\n",
    "        else:\n",
    "            current_length = 0  # Reset the length when a non-uppercase character is encountered\n",
    "\n",
    "    return max_length if max_length > 0 else 0\n",
    "\n",
    "# Example usage\n",
    "s = input(\"Enter a string: \")\n",
    "result = find_longest_uppercase_subarray(s)\n",
    "print(\"Length of the longest subarray with uppercase letters:\", result)"
   ]
  },
  {
   "cell_type": "code",
   "execution_count": 11,
   "id": "db6c1a85",
   "metadata": {},
   "outputs": [
    {
     "name": "stdout",
     "output_type": "stream",
     "text": [
      "Enter a string: RHahul\n",
      "Length of the longest subarray with uppercase letters: 2\n"
     ]
    }
   ],
   "source": [
    "def find_longest_uppercase_subarray(s):\n",
    "    max_length = 0\n",
    "    current_length = 0\n",
    "    for char in s:\n",
    "        if char.isupper():\n",
    "            current_length +=1\n",
    "            max_length=max(max_length , current_length)\n",
    "        else:\n",
    "            current_length=0\n",
    "    return max_length if max_length >0  else 0\n",
    "\n",
    "s = input(\"Enter a string: \")\n",
    "result = find_longest_uppercase_subarray(s)\n",
    "print(\"Length of the longest subarray with uppercase letters:\", result)"
   ]
  },
  {
   "cell_type": "code",
   "execution_count": 2,
   "id": "4ff85930",
   "metadata": {},
   "outputs": [
    {
     "name": "stdout",
     "output_type": "stream",
     "text": [
      "frl\n"
     ]
    }
   ],
   "source": [
    "def longestCommonPrefix(strs):\n",
    "    commoprf = \"\"\n",
    "    if not strs:  # Check if the list is empty\n",
    "        return commoprf\n",
    "    \n",
    "    minstr = min(strs)\n",
    "    maxstr = max(strs)\n",
    "    \n",
    "    len_min_str = len(minstr)\n",
    "    \n",
    "    for i in range(len_min_str):\n",
    "        if minstr[i] == maxstr[i]:\n",
    "            commoprf += minstr[i]\n",
    "        else:\n",
    "            break\n",
    "    return commoprf\n",
    "\n",
    "# Call the function directly\n",
    "strs = [\"frleower\", \"frltow\", \"frleight\"]\n",
    "print(longestCommonPrefix(strs))  # Output: \"frl\""
   ]
  },
  {
   "cell_type": "code",
   "execution_count": 1,
   "id": "a79d3e57",
   "metadata": {},
   "outputs": [
    {
     "name": "stdout",
     "output_type": "stream",
     "text": [
      "frl\n"
     ]
    }
   ],
   "source": [
    "def longestCommonPrefix(strs):\n",
    "    if not strs:  # Check if the list is empty\n",
    "        return \"\"\n",
    "    \n",
    "    # Start with the first string as a reference\n",
    "    for i in range(len(strs[0])):\n",
    "        char = strs[0][i]\n",
    "        for s in strs:\n",
    "            # If the current character doesn't match, return the prefix found so far\n",
    "            if i == len(s) or s[i] != char:\n",
    "                return strs[0][:i]\n",
    "    \n",
    "    return strs[0]  # All strings are the same as the first string\n",
    "strs = [\"frleower\", \"frltow\", \"frleight\"]\n",
    "print(longestCommonPrefix(strs))"
   ]
  },
  {
   "cell_type": "code",
   "execution_count": 4,
   "id": "515b278a",
   "metadata": {},
   "outputs": [
    {
     "name": "stdout",
     "output_type": "stream",
     "text": [
      "Nitin\n"
     ]
    }
   ],
   "source": [
    "a = 'nitin'\n",
    "b = a[0].upper() +a[1:].lower()\n",
    "print(b)"
   ]
  },
  {
   "cell_type": "code",
   "execution_count": 5,
   "id": "7a2104b2",
   "metadata": {},
   "outputs": [
    {
     "ename": "TypeError",
     "evalue": "'set' object does not support item assignment",
     "output_type": "error",
     "traceback": [
      "\u001b[1;31m---------------------------------------------------------------------------\u001b[0m",
      "\u001b[1;31mTypeError\u001b[0m                                 Traceback (most recent call last)",
      "Cell \u001b[1;32mIn[5], line 2\u001b[0m\n\u001b[0;32m      1\u001b[0m a \u001b[38;5;241m=\u001b[39m {\u001b[38;5;241m1\u001b[39m ,\u001b[38;5;241m2\u001b[39m ,\u001b[38;5;241m3\u001b[39m , \u001b[38;5;241m5\u001b[39m}\n\u001b[1;32m----> 2\u001b[0m a[\u001b[38;5;241m0\u001b[39m]\u001b[38;5;241m=\u001b[39m\u001b[38;5;241m4\u001b[39m\n\u001b[0;32m      3\u001b[0m \u001b[38;5;28mprint\u001b[39m(a)\n",
      "\u001b[1;31mTypeError\u001b[0m: 'set' object does not support item assignment"
     ]
    }
   ],
   "source": [
    "a = {1 ,2 ,3 , 5}\n",
    "a[0]=4\n",
    "print(a)"
   ]
  },
  {
   "cell_type": "code",
   "execution_count": 7,
   "id": "356e9cf7",
   "metadata": {},
   "outputs": [
    {
     "name": "stdout",
     "output_type": "stream",
     "text": [
      "y name is nitin\n",
      "nitin si eman yM\n",
      "n\n",
      "M aei\n"
     ]
    }
   ],
   "source": [
    "a = \"My name is nitin\"\n",
    "print(a[1:])\n",
    "print(a[::-1])\n",
    "print(a[-1])\n",
    "print(a[0:10:2])"
   ]
  },
  {
   "cell_type": "code",
   "execution_count": 21,
   "id": "5b656e7f",
   "metadata": {},
   "outputs": [
    {
     "name": "stdout",
     "output_type": "stream",
     "text": [
      "8\n",
      "5\n"
     ]
    }
   ],
   "source": [
    "b = [3 , 4 , 6 , 8 , 0 , 5]\n",
    "a =0\n",
    "c = 0\n",
    "for i in b:\n",
    "    if i > a:\n",
    "        b = a\n",
    "        a =i\n",
    "    elif i >c:\n",
    "        c = i\n",
    "print(a)\n",
    "print(c)"
   ]
  },
  {
   "cell_type": "code",
   "execution_count": 2,
   "id": "087614ac",
   "metadata": {},
   "outputs": [
    {
     "name": "stdout",
     "output_type": "stream",
     "text": [
      "John\n"
     ]
    }
   ],
   "source": [
    "##     write a code to fetch the value from the map using keys\n",
    "my_map = {\n",
    "    \"name\": \"John\",\n",
    "    \"age\": 30,\n",
    "    \"city\": \"New York\"\n",
    "}\n",
    "key = \"name\"\n",
    "value = my_map.get(key)\n",
    "print(value)"
   ]
  },
  {
   "cell_type": "code",
   "execution_count": 52,
   "id": "902d7e50",
   "metadata": {},
   "outputs": [
    {
     "name": "stdout",
     "output_type": "stream",
     "text": [
      "28\n"
     ]
    }
   ],
   "source": [
    "##seprate number and integer\n",
    "a = \"abc38gh89\"\n",
    "nume=0\n",
    "alpha=\"\"\n",
    "for i in a:\n",
    "    if i.isnumeric():\n",
    "        nume+=int(i)\n",
    "    else:\n",
    "        alpha +=i\n",
    "print(nume)"
   ]
  },
  {
   "cell_type": "code",
   "execution_count": null,
   "id": "c2dbcc69",
   "metadata": {},
   "outputs": [],
   "source": []
  },
  {
   "cell_type": "code",
   "execution_count": 5,
   "id": "8d733849",
   "metadata": {},
   "outputs": [
    {
     "name": "stdout",
     "output_type": "stream",
     "text": [
      "N\n",
      "28\n",
      "N28\n"
     ]
    }
   ],
   "source": [
    "##seprate upper and umeruc charcter\n",
    "a='nitiN28'\n",
    "u = []\n",
    "b= []\n",
    "for i in a:\n",
    "    if i.isupper():\n",
    "        u.append(i)\n",
    "    elif i.isnumeric():\n",
    "        b.append(i) \n",
    "print(\"\".join(u))\n",
    "print(\"\".join(b))\n",
    "print(\"\".join(u) +\"\".join(b))"
   ]
  },
  {
   "cell_type": "code",
   "execution_count": 3,
   "id": "8a3f0e16",
   "metadata": {},
   "outputs": [
    {
     "name": "stdout",
     "output_type": "stream",
     "text": [
      "[1, 123]\n"
     ]
    }
   ],
   "source": [
    "#Given a arrya like arr=[1 , 23 , 123 ,45,67] printnumber that starts with 1\n",
    "arr=[1 , 23 , 123 ,45,67]\n",
    "val =[num forF{}"
   ]
  },
  {
   "cell_type": "code",
   "execution_count": 3,
   "id": "c0e27c77",
   "metadata": {},
   "outputs": [
    {
     "name": "stdout",
     "output_type": "stream",
     "text": [
      "1 2\n"
     ]
    }
   ],
   "source": [
    "#indices of sum\n",
    "\n",
    "nume=[3, 2 , 4]\n",
    "target = 6\n",
    "\n",
    "for i in range(len(nume)):\n",
    "    for j in range(i + 1, len(nume)):\n",
    "        if nume[i] + nume[j] ==target:\n",
    "            print(i,j)"
   ]
  },
  {
   "cell_type": "code",
   "execution_count": 86,
   "id": "ca073e80",
   "metadata": {},
   "outputs": [
    {
     "data": {
      "text/plain": [
       "[-1, -2, -17, -3, 4, 6, 5]"
      ]
     },
     "execution_count": 86,
     "metadata": {},
     "output_type": "execute_result"
    }
   ],
   "source": [
    "a = [-1  ,4, -2 , 6 , -8  -9  , 5, -3]\n",
    "[b for b in a if b <0]  + [b for b in a if b >0]"
   ]
  },
  {
   "cell_type": "code",
   "execution_count": 6,
   "id": "add77c67",
   "metadata": {},
   "outputs": [
    {
     "name": "stdout",
     "output_type": "stream",
     "text": [
      "{'name': 'rahul', 'age': 30, 'city': 'New York'}\n"
     ]
    }
   ],
   "source": [
    "my_map = {\n",
    "    \"name\": \"John\",\n",
    "    \"age\": 30,\n",
    "    \"city\": \"New York\"\n",
    "}\n",
    "\n",
    "for i in my_map:\n",
    "    my_map['name'] =\"rahul\"\n",
    "print(my_map)"
   ]
  },
  {
   "cell_type": "code",
   "execution_count": 5,
   "id": "2ea7f459",
   "metadata": {},
   "outputs": [
    {
     "name": "stdout",
     "output_type": "stream",
     "text": [
      "nitin is not a palindrome\n"
     ]
    }
   ],
   "source": [
    "##Common prefix\n",
    "def palindrome(a):\n",
    "    left = 0\n",
    "    right =len(a)-1\n",
    "    while left != right:\n",
    "        return False\n",
    "        print(\"not a aplindrome\")\n",
    "    left +=1\n",
    "    right -=1\n",
    "    return True\n",
    "    print(\"is palindrome\")\n",
    "name= 'nitin'\n",
    "if palindrome(name):\n",
    "    print(f\"{name} is a palindrome\")\n",
    "else:\n",
    "    print(f\"{name} is not a palindrome\")"
   ]
  },
  {
   "cell_type": "code",
   "execution_count": 9,
   "id": "cfe2d900",
   "metadata": {},
   "outputs": [
    {
     "name": "stdout",
     "output_type": "stream",
     "text": [
      "not a aplindrome\n",
      "abad is not a palindrome\n"
     ]
    }
   ],
   "source": [
    "def palindrome(a):\n",
    "    left = 0\n",
    "    right = len(a)-1\n",
    "    while left < right:\n",
    "        if a[left] != a[right]:\n",
    "            print(\"not a aplindrome\")\n",
    "            return False\n",
    "            \n",
    "        \n",
    "        left +=1\n",
    "        right -=1\n",
    "    print(f\"{a} is palindrome\")\n",
    "    return True\n",
    "    \n",
    "    \n",
    "name = 'abad'\n",
    "if palindrome(name):\n",
    "    print(f\"{name} is a palindrome\")\n",
    "else:\n",
    "    print(f\"{name} is not a palindrome\")"
   ]
  },
  {
   "cell_type": "code",
   "execution_count": 2,
   "id": "642d28db",
   "metadata": {},
   "outputs": [
    {
     "name": "stdout",
     "output_type": "stream",
     "text": [
      "luhar\n",
      "[]\n"
     ]
    }
   ],
   "source": [
    "word = 'rahul'\n",
    "stack = []\n",
    "stack2 = []\n",
    "stack =stack2\n",
    "\n",
    "for i in word:\n",
    "    stack.append(i)\n",
    "test=[]\n",
    "while stack:\n",
    "    test.append(stack.pop())\n",
    "print(''.join(test))\n",
    "print(stack2)"
   ]
  },
  {
   "cell_type": "code",
   "execution_count": 1,
   "id": "d6282d47",
   "metadata": {},
   "outputs": [
    {
     "name": "stdout",
     "output_type": "stream",
     "text": [
      "Sorted array: [11, 12, 22, 25, 34, 64, 90]\n"
     ]
    }
   ],
   "source": [
    "def bubblesort(arr):\n",
    "    n= len(arr)\n",
    "    for i in range(n):\n",
    "        for j in range(0 ,n-i-1):\n",
    "            if arr[j] >arr[j+1]:\n",
    "                arr[j] , arr[j+1]=arr[j+1] , arr[j]\n",
    "\n",
    "arr = [64, 34, 25, 12, 22, 11, 90]\n",
    "b = bubblesort(arr)\n",
    "print(\"Sorted array:\", arr)"
   ]
  },
  {
   "cell_type": "code",
   "execution_count": 1,
   "id": "5ecd23da",
   "metadata": {},
   "outputs": [
    {
     "name": "stdout",
     "output_type": "stream",
     "text": [
      "{1: 3, 2: 3, 3: 2, 5: 1, 7: 1}\n",
      "1 3\n",
      "2 3\n",
      "3 2\n",
      "5 1\n",
      "7 1\n",
      "[1, 2, 3]\n"
     ]
    }
   ],
   "source": [
    "a = [1 , 2 , 3 ,1 , 3 , 2 , 5 , 7 , 1   , 2]\n",
    "\n",
    "b = {}\n",
    "c =[]\n",
    "\n",
    "for  i in a:\n",
    "    if i in b:\n",
    "        b[i]+=1\n",
    "    else:\n",
    "        b[i] =1\n",
    "print(b)\n",
    "for  value, coun in b.items():\n",
    "    if coun>1:\n",
    "        c.append(value)\n",
    "    print(value, coun)\n",
    "    \n",
    "print(c)\n",
    "        "
   ]
  },
  {
   "cell_type": "code",
   "execution_count": 6,
   "id": "35c4dd1d",
   "metadata": {},
   "outputs": [
    {
     "name": "stdout",
     "output_type": "stream",
     "text": [
      "nitin is a plindrome\n",
      "True is a palindrome\n"
     ]
    }
   ],
   "source": [
    "def palindrome(l):\n",
    "    l= l.lower()\n",
    "    left =0\n",
    "    right =len(l)-1\n",
    "    while left <right:\n",
    "        if l[left] != l[right]:\n",
    "            print(f\"{l}not a palindrome\")\n",
    "            return False\n",
    "        left +=1\n",
    "        right -=1\n",
    "    print(f\"{l} is a plindrome\")\n",
    "    return True\n",
    "    \n",
    "a= \"Nitin\"\n",
    "obj = palindrome(a)\n",
    "print(f\"{obj} is a palindrome\")"
   ]
  },
  {
   "cell_type": "code",
   "execution_count": 10,
   "id": "2871a565",
   "metadata": {},
   "outputs": [
    {
     "name": "stdout",
     "output_type": "stream",
     "text": [
      "krishna hare rama hare\n"
     ]
    }
   ],
   "source": [
    "##reverse String\n",
    "def reverseword(s):\n",
    "    s = list(s)  # Convert the string to a list since strings are immutable in Python\n",
    "    left = 0\n",
    "    right = len(s) - 1\n",
    "    while left < right:\n",
    "        s[left] ,s[right]=a[right] , s[left]\n",
    "        left +=1\n",
    "        right-=1\n",
    "    return s\n",
    "a = 'hare rama hare krishna'.split()       \n",
    "r = reverseword(a)\n",
    "print(' '.join(r))"
   ]
  },
  {
   "cell_type": "code",
   "execution_count": 1,
   "id": "6341ccc1",
   "metadata": {},
   "outputs": [
    {
     "name": "stdout",
     "output_type": "stream",
     "text": [
      "anhsirk erah amar erah\n"
     ]
    }
   ],
   "source": [
    "def reverseword(s):\n",
    "    s = list(s)  # Convert the string to a list since strings are immutable in Python\n",
    "    left = 0\n",
    "    right = len(s) - 1\n",
    "    \n",
    "    while left < right:\n",
    "        s[left], s[right] = s[right], s[left]\n",
    "        left += 1\n",
    "        right -= 1\n",
    "    \n",
    "    return ''.join(s)  # Convert the list back to a string\n",
    "\n",
    "a = 'hare rama hare krishna'\n",
    "r = reverseword(a)\n",
    "print(r)"
   ]
  },
  {
   "cell_type": "code",
   "execution_count": 6,
   "id": "469bccdf",
   "metadata": {},
   "outputs": [
    {
     "name": "stdout",
     "output_type": "stream",
     "text": [
      "nitin-rama-hare-krishna-hare-rama-hare-krishna-hare-rama-hare-krishna-hare-rama-hare-krishna-hare\n"
     ]
    }
   ],
   "source": [
    "word = 'hare krishna hare rama hare krishna hare rama hare krishna hare rama hare krishna hare rama nitin'\n",
    "stack=[]\n",
    "\n",
    "for i in word.split():\n",
    "    stack.append(i)\n",
    "rev=[]\n",
    "while stack:\n",
    "    rev.append(stack.pop())\n",
    "print('-'.join(rev))"
   ]
  },
  {
   "cell_type": "code",
   "execution_count": 6,
   "id": "a0db3275",
   "metadata": {},
   "outputs": [
    {
     "name": "stdout",
     "output_type": "stream",
     "text": [
      "nitin rama hare krishna hare rama hare krishna hare rama hare krishna hare rama hare krishna hare\n"
     ]
    }
   ],
   "source": [
    "t=[]\n",
    "word1=[1 , 2 ,3 , 4 , 5]\n",
    "word = 'hare krishna hare rama hare krishna hare rama hare krishna hare rama hare krishna hare rama nitin'.split()\n",
    "for i in range(len(word)-1 , -1 , -1):\n",
    "    t.append(word[i])\n",
    "print(' '.join(t))"
   ]
  },
  {
   "cell_type": "code",
   "execution_count": 12,
   "id": "1dc8ec69",
   "metadata": {},
   "outputs": [
    {
     "name": "stdout",
     "output_type": "stream",
     "text": [
      "[6, 5, 4, 3, 2, 1]\n"
     ]
    }
   ],
   "source": [
    "a = [1 , 2 ,3 ,4 , 5 , 6]\n",
    "b = []\n",
    "for i in range(len(a)-1 , -1  , -1):\n",
    "    b.append(a[i])\n",
    "    \n",
    "print(b)"
   ]
  },
  {
   "cell_type": "code",
   "execution_count": 7,
   "id": "14c89784",
   "metadata": {},
   "outputs": [
    {
     "name": "stdout",
     "output_type": "stream",
     "text": [
      "palindrome\n"
     ]
    }
   ],
   "source": [
    "a= \"Nitin\".lower()\n",
    "if a == a[::-1]:\n",
    "    print(\"palindrome\")\n",
    "else:\n",
    "    print(\"not a palindrome\")"
   ]
  },
  {
   "cell_type": "code",
   "execution_count": 9,
   "id": "ceb0a7ce",
   "metadata": {},
   "outputs": [
    {
     "name": "stdout",
     "output_type": "stream",
     "text": [
      "0\n",
      "1\n",
      "1\n",
      "2\n",
      "3\n",
      "5\n",
      "8\n",
      "13\n"
     ]
    }
   ],
   "source": [
    "def fibb():\n",
    "    a , b =0 , 1\n",
    "    while True:\n",
    "        yield a\n",
    "        a , b=b , a+b\n",
    "f1=fibb()     \n",
    "print(next(f1))\n",
    "print(next(f1))\n",
    "print(next(f1))\n",
    "print(next(f1))\n",
    "print(next(f1))\n",
    "print(next(f1))\n",
    "print(next(f1))\n",
    "print(next(f1))"
   ]
  },
  {
   "cell_type": "code",
   "execution_count": 16,
   "id": "8a0e7bd7",
   "metadata": {},
   "outputs": [
    {
     "name": "stdout",
     "output_type": "stream",
     "text": [
      "not a anagram\n"
     ]
    }
   ],
   "source": [
    "#Anagram\n",
    "a = 'nitin'\n",
    "b = 'rahul'\n",
    "\n",
    "c = sorted(a)\n",
    "d = sorted(b)\n",
    "\n",
    "if a == b:\n",
    "    print(\"anagram\")\n",
    "else:\n",
    "    print('not a anagram')"
   ]
  },
  {
   "cell_type": "code",
   "execution_count": 40,
   "id": "ff67adfe",
   "metadata": {},
   "outputs": [
    {
     "name": "stdout",
     "output_type": "stream",
     "text": [
      "executed first\n"
     ]
    },
    {
     "data": {
      "text/plain": [
       "'nitinrahul'"
      ]
     },
     "execution_count": 40,
     "metadata": {},
     "output_type": "execute_result"
    }
   ],
   "source": [
    "def test():\n",
    "    print(\"executed first\")\n",
    "test()    \n",
    "def test1(*args):\n",
    "    c =a +b\n",
    "    return c\n",
    "test1()"
   ]
  },
  {
   "cell_type": "code",
   "execution_count": 41,
   "id": "8faa8729",
   "metadata": {},
   "outputs": [
    {
     "name": "stdout",
     "output_type": "stream",
     "text": [
      "26\n"
     ]
    }
   ],
   "source": [
    "def test(*args):\n",
    "    return sum(args)\n",
    "result = test( 2, 2 , 3 ,4 ,7 , 8)\n",
    "print(result)"
   ]
  },
  {
   "cell_type": "code",
   "execution_count": 50,
   "id": "c4755e48",
   "metadata": {},
   "outputs": [
    {
     "name": "stdout",
     "output_type": "stream",
     "text": [
      "['geeks', 'quiz', 'practice', 'code']\n",
      "code practice quiz geeks "
     ]
    }
   ],
   "source": [
    "sentence = \"geeks quiz practice code\"\n",
    "sentences=sentence.split()\n",
    "print(sentences)\n",
    "for i in range(len(sentences)-1,-1,-1):\n",
    "    print(sentences[i] , end=' ')"
   ]
  },
  {
   "cell_type": "code",
   "execution_count": 54,
   "id": "1da78f7b",
   "metadata": {},
   "outputs": [
    {
     "name": "stdout",
     "output_type": "stream",
     "text": [
      "edoc ecitcarp ziuq skeeg\n"
     ]
    }
   ],
   "source": [
    "stack = []\n",
    "for i in sentence:\n",
    "    stack.append(i)\n",
    "reversedd=[]\n",
    "while stack:\n",
    "    for i in stack:\n",
    "        reversedd.append(stack.pop())\n",
    "print(''.join(reversedd))"
   ]
  },
  {
   "cell_type": "code",
   "execution_count": 14,
   "id": "52848a8a",
   "metadata": {},
   "outputs": [
    {
     "name": "stdout",
     "output_type": "stream",
     "text": [
      "0\n",
      "1\n",
      "2\n",
      "3\n",
      "4\n",
      "5\n"
     ]
    }
   ],
   "source": [
    "def printTo(n):\n",
    "    for i in range(0,n+1):\n",
    "        print(i)\n",
    "n = 5        \n",
    "printTo(n)"
   ]
  },
  {
   "cell_type": "code",
   "execution_count": 55,
   "id": "c016b2dd",
   "metadata": {},
   "outputs": [
    {
     "name": "stdout",
     "output_type": "stream",
     "text": [
      "5\n",
      "4\n",
      "3\n",
      "2\n",
      "1\n"
     ]
    }
   ],
   "source": [
    "def printTo(n):\n",
    "    for i in range(n,0 , -1):\n",
    "        print(i)\n",
    "n = 5        \n",
    "printTo(n)"
   ]
  },
  {
   "cell_type": "code",
   "execution_count": 9,
   "id": "5ef9189a",
   "metadata": {},
   "outputs": [
    {
     "name": "stdout",
     "output_type": "stream",
     "text": [
      "XXXX\n",
      "XXX\n",
      "XX\n",
      "X\n"
     ]
    }
   ],
   "source": [
    "n =4\n",
    "for i in range(n,0 , -1):\n",
    "    print(\"X\"*i)"
   ]
  },
  {
   "cell_type": "code",
   "execution_count": 56,
   "id": "bfa51340",
   "metadata": {},
   "outputs": [
    {
     "name": "stdout",
     "output_type": "stream",
     "text": [
      "The sum of digits until a single digit is: 6\n"
     ]
    }
   ],
   "source": [
    "def sum_of_digits_until_single_digit(number):\n",
    "    while number >= 10:  # Continue looping until the number is a single digit\n",
    "        number = sum(int(digit) for digit in str(number))\n",
    "    return number\n",
    "\n",
    "# Example usage\n",
    "num = 12345\n",
    "result = sum_of_digits_until_single_digit(num)\n",
    "print(f\"The sum of digits until a single digit is: {result}\")\n"
   ]
  },
  {
   "cell_type": "code",
   "execution_count": 57,
   "id": "e8a255a1",
   "metadata": {},
   "outputs": [
    {
     "name": "stdout",
     "output_type": "stream",
     "text": [
      "[6, 5, 4, 3, 2, 1, 0]\n"
     ]
    }
   ],
   "source": [
    "l = [1 , 2 ,3 ,4 ,0 , -1  , 0]\n",
    "\n",
    "temp=[]\n",
    "\n",
    "for i in range(len(l)):\n",
    "    temp.insert(0,i)\n",
    "print(temp)"
   ]
  },
  {
   "cell_type": "code",
   "execution_count": 58,
   "id": "816dc00e",
   "metadata": {},
   "outputs": [
    {
     "name": "stdout",
     "output_type": "stream",
     "text": [
      "n\n",
      "n i\n"
     ]
    }
   ],
   "source": [
    "l ='nitin'\n",
    "\n",
    "duplicate=[]\n",
    "for  i in l:\n",
    "    if l.count(i) >1 and i not in duplicate:\n",
    "        duplicate.append(i)\n",
    "        print(*duplicate)"
   ]
  },
  {
   "cell_type": "code",
   "execution_count": 59,
   "id": "36749512",
   "metadata": {},
   "outputs": [
    {
     "name": "stdout",
     "output_type": "stream",
     "text": [
      "2\n"
     ]
    }
   ],
   "source": [
    "l=[2,3,4,2,1,5,7]\n",
    "y = max(l, key=l.count)\n",
    "print(y)"
   ]
  },
  {
   "cell_type": "code",
   "execution_count": 60,
   "id": "fc485d4d",
   "metadata": {},
   "outputs": [
    {
     "name": "stdout",
     "output_type": "stream",
     "text": [
      "True\n"
     ]
    }
   ],
   "source": [
    "arr = [4, 6, 23, 10, 1, 3]\n",
    "def check_subset_sum_to_max(arr):\n",
    "    max_ele=max(arr)\n",
    "    arr.remove(max_ele)\n",
    "\n",
    "    total_sum = sum(arr)\n",
    "\n",
    "    if max_ele==total_sum:\n",
    "        return True\n",
    "    else:\n",
    "        return False\n",
    "    \n",
    "# Test the function with an example array\n",
    "arr = [4, 6, 24, 10,1, 3]\n",
    "result = check_subset_sum_to_max(arr)\n",
    "print(result)  # Output: True or False based on the condition\n"
   ]
  },
  {
   "cell_type": "code",
   "execution_count": 1,
   "id": "88bb0dff",
   "metadata": {},
   "outputs": [
    {
     "name": "stdout",
     "output_type": "stream",
     "text": [
      "False\n"
     ]
    }
   ],
   "source": [
    "print(min(max(False, -3, -4), 2, 7))\n"
   ]
  },
  {
   "cell_type": "code",
   "execution_count": 6,
   "id": "ea885068",
   "metadata": {},
   "outputs": [
    {
     "name": "stdout",
     "output_type": "stream",
     "text": [
      "111\n"
     ]
    }
   ],
   "source": [
    "class Acc:\n",
    "    def __init__(self , id):\n",
    "        self.id = id\n",
    "        id = 555\n",
    "        \n",
    "acc=Acc(111)\n",
    "print(acc.id)"
   ]
  },
  {
   "cell_type": "code",
   "execution_count": 23,
   "id": "3e473197",
   "metadata": {},
   "outputs": [
    {
     "name": "stdout",
     "output_type": "stream",
     "text": [
      "[7, 5, 1, 2, 4, 3, 2]\n"
     ]
    }
   ],
   "source": [
    "l=[2,3,4,2,1,5,7]\n",
    "left=0\n",
    "right=len(l)-1\n",
    "\n",
    "while (left <right):\n",
    "\n",
    "    temp=l[left]\n",
    "    l[left]=l[right]\n",
    "    l[right]=temp\n",
    "    left +=1\n",
    "    right -=1\n",
    "    \n",
    "print(l)"
   ]
  },
  {
   "cell_type": "code",
   "execution_count": 1,
   "id": "bf62b78d",
   "metadata": {},
   "outputs": [
    {
     "name": "stdout",
     "output_type": "stream",
     "text": [
      "7\n",
      "5\n",
      "1\n",
      "2\n",
      "4\n",
      "3\n",
      "2\n"
     ]
    }
   ],
   "source": [
    "l=[2,3,4,2,1,5,7]\n",
    "\n",
    "for i in range(len(l)-1,-1,-1):\n",
    "    print(l[i])"
   ]
  },
  {
   "cell_type": "code",
   "execution_count": 7,
   "id": "7ba76ee7",
   "metadata": {},
   "outputs": [
    {
     "name": "stdout",
     "output_type": "stream",
     "text": [
      "[7, 5, 1, 2, 4, 3, 2]\n"
     ]
    }
   ],
   "source": [
    "l=[2,3,4,2,1,5,7]\n",
    "l = l\n",
    "left=0\n",
    "right=len(l)-1\n",
    "\n",
    "while left <right:\n",
    "\n",
    "    temp=l[left]\n",
    "    l[left]=l[right]\n",
    "    l[right]=temp\n",
    "    left +=1\n",
    "    right -=1\n",
    "\n",
    "print(l)"
   ]
  },
  {
   "cell_type": "code",
   "execution_count": 2,
   "id": "d19b09cc",
   "metadata": {},
   "outputs": [
    {
     "name": "stdout",
     "output_type": "stream",
     "text": [
      "36\n"
     ]
    }
   ],
   "source": [
    "def nested_list_sum(lst):\n",
    "    total = 0\n",
    "    for item in lst:\n",
    "        if isinstance(item, list):\n",
    "            total += nested_list_sum(item)\n",
    "        else:\n",
    "            total += item \n",
    "    return total\n",
    "\n",
    "   # Example nested list\n",
    "nested_list = [1, 2, [3, 4, 5], [6, 7, 8]]\n",
    "\n",
    "# Calculate the sum of the nested list\n",
    "result = nested_list_sum(nested_list)\n",
    "print(result)"
   ]
  },
  {
   "cell_type": "code",
   "execution_count": 8,
   "id": "4c4f65ee",
   "metadata": {},
   "outputs": [
    {
     "name": "stdout",
     "output_type": "stream",
     "text": [
      "36\n"
     ]
    }
   ],
   "source": [
    "def nested_list_sum(lst):\n",
    "    total = 0\n",
    "    for item in lst:\n",
    "        if type(item) == list:\n",
    "            total +=nested_list_sum(item)\n",
    "        else:\n",
    "            total += item\n",
    "    return total\n",
    "\n",
    "nested_list = [1, 2, [3, 4, 5], [6, 7, 8]]\n",
    "\n",
    "# Calculate the sum of the nested list\n",
    "result = nested_list_sum(nested_list)\n",
    "print(result)"
   ]
  },
  {
   "cell_type": "code",
   "execution_count": 1,
   "id": "b2472b53",
   "metadata": {
    "scrolled": true
   },
   "outputs": [
    {
     "name": "stdout",
     "output_type": "stream",
     "text": [
      "36\n"
     ]
    }
   ],
   "source": [
    "def nested_list_sum(lst):\n",
    "    total = 0\n",
    "    for item in lst:\n",
    "        if type(item) == list:  # Check if the item is a list\n",
    "            total += nested_list_sum(item)\n",
    "        else:\n",
    "            total += item\n",
    "    return total\n",
    "\n",
    "# Example nested list\n",
    "nested_list = [1, 2, [3, 4, 5], [6, 7, 8]]\n",
    "\n",
    "# Calculate the sum of the nested list\n",
    "result = nested_list_sum(nested_list)\n",
    "print(result)\n"
   ]
  },
  {
   "cell_type": "code",
   "execution_count": 3,
   "id": "af39784a",
   "metadata": {},
   "outputs": [
    {
     "name": "stdout",
     "output_type": "stream",
     "text": [
      "36\n"
     ]
    }
   ],
   "source": [
    "def nedted_lits(lst):\n",
    "    total =0\n",
    "    \n",
    "    for i in lst:\n",
    "        if type(item)== list:\n",
    "            total += nedted_lits(item)\n",
    "        else:\n",
    "            total +=item\n",
    "    return total\n",
    "\n",
    "nedted_lits = [1, 2, [3, 4, 5], [6, 7, 8]]\n",
    "\n",
    "# Calculate the sum of the nested list\n",
    "result = nested_list_sum(nested_list)\n",
    "print(result)\n"
   ]
  },
  {
   "cell_type": "code",
   "execution_count": 5,
   "id": "bb15c1aa",
   "metadata": {},
   "outputs": [
    {
     "name": "stdout",
     "output_type": "stream",
     "text": [
      "3\n",
      "[4, 5, 0, 1, 2, 3]\n",
      "1 2 4\n"
     ]
    }
   ],
   "source": [
    "lst = [1 , 2 ,3 , 4 ,5,0]\n",
    "stack= len(lst)//2\n",
    "print(stack)\n",
    "a= lst[stack:]\n",
    "b= lst[:stack]\n",
    "print(a + b)\n",
    "\n",
    "lst=lst[0]\n",
    "middle_1= stack-1\n",
    "middle=stack+1\n",
    "print(lst,middle_1 , middle )"
   ]
  },
  {
   "cell_type": "code",
   "execution_count": 3,
   "id": "239daa10",
   "metadata": {},
   "outputs": [
    {
     "name": "stdout",
     "output_type": "stream",
     "text": [
      "nitin 1 3\n"
     ]
    }
   ],
   "source": [
    "name= 'nitin'\n",
    "stack= len(name)//2\n",
    "name1=name[0]\n",
    "middle=stack-1\n",
    "middle1=stack+1\n",
    "print(name , middle, middle1)"
   ]
  },
  {
   "cell_type": "code",
   "execution_count": 6,
   "id": "4cf36578",
   "metadata": {},
   "outputs": [
    {
     "name": "stdout",
     "output_type": "stream",
     "text": [
      "ntn\n"
     ]
    }
   ],
   "source": [
    "name= 'nitin'\n",
    "stack= len(name)//2\n",
    "if len(name) %2==0:\n",
    "    middle=name[stack-1:stack+1]\n",
    "else:\n",
    "    middle=name[stack]\n",
    "    \n",
    "middle= ''.join(middle)\n",
    "\n",
    "\n",
    "last=name[-1]\n",
    "name=name1+middle +last\n",
    "print(name)"
   ]
  },
  {
   "cell_type": "code",
   "execution_count": 21,
   "id": "23d60ca6",
   "metadata": {},
   "outputs": [
    {
     "name": "stdout",
     "output_type": "stream",
     "text": [
      "ntn\n"
     ]
    }
   ],
   "source": [
    "# Input name\n",
    "name = 'nitin'\n",
    "\n",
    "# Calculate the stack index for the middle character(s)\n",
    "stack = len(name) // 2\n",
    "\n",
    "# Determine the middle character(s) based on the length of the name\n",
    "if len(name) % 2 == 0:\n",
    "    middle = name[stack-1:stack+1]  # Get two characters for even-length names\n",
    "else:\n",
    "    middle = name[stack]  # Get one character for odd-length names\n",
    "\n",
    "# Convert middle to a string (in case it's a single character)\n",
    "middle = ''.join(middle)\n",
    "\n",
    "# Extract the last character of the name\n",
    "last = name[-1]\n",
    "\n",
    "# Construct the new word using the specified characters\n",
    "new_word = name[0] + middle + last\n",
    "\n",
    "# Print the new word\n",
    "print(new_word)\n"
   ]
  },
  {
   "cell_type": "code",
   "execution_count": null,
   "id": "30b6198f",
   "metadata": {},
   "outputs": [],
   "source": []
  },
  {
   "cell_type": "code",
   "execution_count": 2,
   "id": "3b65946d",
   "metadata": {},
   "outputs": [
    {
     "name": "stdout",
     "output_type": "stream",
     "text": [
      "['m', 'y', ' ', 'n', 'a', 'e', 'i', 's', 't']\n",
      "['m', ' ', 'n', 'i']\n"
     ]
    }
   ],
   "source": [
    "string = 'my name is nitin'\n",
    "word=[]\n",
    "duplicate=[]\n",
    "\n",
    "for i in string:\n",
    "    if i in word:\n",
    "        if i not in duplicate:\n",
    "            duplicate.append(i)\n",
    "    else:\n",
    "        word.append(i)\n",
    "        \n",
    "        \n",
    "print(word)\n",
    "print(duplicate)"
   ]
  },
  {
   "cell_type": "code",
   "execution_count": 4,
   "id": "59f6c980",
   "metadata": {},
   "outputs": [
    {
     "name": "stdout",
     "output_type": "stream",
     "text": [
      "{'m': 2, 'y': 1, ' ': 3, 'n': 3, 'a': 1, 'e': 1, 'i': 3, 's': 1, 't': 1}\n"
     ]
    }
   ],
   "source": [
    "word = 'my name is nitin'\n",
    "t ={}\n",
    "for i in word:\n",
    "    if i in t:\n",
    "        t[i]+=1\n",
    "    else:\n",
    "        t[i]=1\n",
    "print(t)"
   ]
  },
  {
   "cell_type": "code",
   "execution_count": 7,
   "id": "0e6f1189",
   "metadata": {},
   "outputs": [
    {
     "name": "stdout",
     "output_type": "stream",
     "text": [
      "['my', 'name', 'is', 'nitin']\n",
      "my\n"
     ]
    }
   ],
   "source": [
    "string = 'my name is nitin my'\n",
    "words = []  # Use a list to store words\n",
    "duplicate = None  # Initialize duplicate to None\n",
    "\n",
    "for word in string.split():\n",
    "    if word in words:\n",
    "        duplicate = word\n",
    "        break  # If a duplicate is found, no need to continue searching\n",
    "    else:\n",
    "        words.append(word)\n",
    "\n",
    "print(words)\n",
    "print(duplicate)\n"
   ]
  },
  {
   "cell_type": "code",
   "execution_count": 10,
   "id": "cdbab012",
   "metadata": {},
   "outputs": [
    {
     "name": "stdout",
     "output_type": "stream",
     "text": [
      "{'m': 3, 'y': 2, ' ': 4, 'n': 3, 'a': 1, 'e': 1, 'i': 3, 's': 1, 't': 1}\n",
      "<class 'dict'>\n"
     ]
    }
   ],
   "source": [
    "string = 'my name is nitin my'\n",
    "\n",
    "word = {}\n",
    "\n",
    "for i in string:\n",
    "    if i in word:\n",
    "        word[i]+=1\n",
    "    else:\n",
    "        word[i] =1\n",
    "        \n",
    "print(word)\n"
   ]
  },
  {
   "cell_type": "code",
   "execution_count": 2,
   "id": "acaed00e",
   "metadata": {},
   "outputs": [
    {
     "name": "stdout",
     "output_type": "stream",
     "text": [
      "{'m': 3, 'y': 2, ' ': 4, 'n': 3, 'a': 1, 'e': 1, 'i': 3, 's': 1, 't': 1}\n"
     ]
    },
    {
     "ename": "TypeError",
     "evalue": "'>' not supported between instances of 'str' and 'int'",
     "output_type": "error",
     "traceback": [
      "\u001b[1;31m---------------------------------------------------------------------------\u001b[0m",
      "\u001b[1;31mTypeError\u001b[0m                                 Traceback (most recent call last)",
      "\u001b[1;32m~\\AppData\\Local\\Temp\\ipykernel_11044\\1606721392.py\u001b[0m in \u001b[0;36m<module>\u001b[1;34m\u001b[0m\n\u001b[0;32m     12\u001b[0m \u001b[1;33m\u001b[0m\u001b[0m\n\u001b[0;32m     13\u001b[0m \u001b[1;32mfor\u001b[0m \u001b[0mword1\u001b[0m \u001b[1;32min\u001b[0m \u001b[0mword\u001b[0m\u001b[1;33m:\u001b[0m\u001b[1;33m\u001b[0m\u001b[1;33m\u001b[0m\u001b[0m\n\u001b[1;32m---> 14\u001b[1;33m     \u001b[1;32mif\u001b[0m \u001b[0mword1\u001b[0m \u001b[1;33m>\u001b[0m \u001b[1;36m1\u001b[0m\u001b[1;33m:\u001b[0m\u001b[1;33m\u001b[0m\u001b[1;33m\u001b[0m\u001b[0m\n\u001b[0m\u001b[0;32m     15\u001b[0m         \u001b[0mduplicate\u001b[0m\u001b[1;33m.\u001b[0m\u001b[0mappend\u001b[0m\u001b[1;33m(\u001b[0m\u001b[0mword1\u001b[0m\u001b[1;33m)\u001b[0m\u001b[1;33m\u001b[0m\u001b[1;33m\u001b[0m\u001b[0m\n\u001b[0;32m     16\u001b[0m \u001b[0mprint\u001b[0m\u001b[1;33m(\u001b[0m\u001b[0mduplicate\u001b[0m\u001b[1;33m)\u001b[0m\u001b[1;33m\u001b[0m\u001b[1;33m\u001b[0m\u001b[0m\n",
      "\u001b[1;31mTypeError\u001b[0m: '>' not supported between instances of 'str' and 'int'"
     ]
    }
   ],
   "source": [
    "string = 'my name is nitin my'\n",
    "\n",
    "word = {}\n",
    "duplicate=[]\n",
    "for i in string:\n",
    "    if i in word:\n",
    "        word[i]+=1\n",
    "    else:\n",
    "        word[i] =1\n",
    "        \n",
    "print(word)\n",
    "\n",
    "for word1 in word:\n",
    "    if word1 > 1:\n",
    "        duplicate.append(word1)\n",
    "print(duplicate)"
   ]
  },
  {
   "cell_type": "code",
   "execution_count": 12,
   "id": "d6785e19",
   "metadata": {},
   "outputs": [
    {
     "name": "stdout",
     "output_type": "stream",
     "text": [
      "[7, 5, 1, 2, 4, 3, 2]\n"
     ]
    }
   ],
   "source": [
    "def reverse_list(lst):\n",
    "    left = 0\n",
    "    right= len(lst)-1\n",
    "\n",
    "    while left < right:\n",
    "        lst [left] , lst[right]=lst[right],lst[left]\n",
    "        left +=1\n",
    "        right -=1\n",
    "my_list = [2,3,4,2,1,5,7]\n",
    "\n",
    "    # Reverse the list\n",
    "reverse_list(my_list)\n",
    "\n",
    "    # Print the reversed list\n",
    "print(my_list)  # Output: [5, 4, 3, 2, 1]"
   ]
  },
  {
   "cell_type": "code",
   "execution_count": 24,
   "id": "7469f7ee",
   "metadata": {},
   "outputs": [
    {
     "name": "stdout",
     "output_type": "stream",
     "text": [
      "7\n",
      "5\n",
      "1\n",
      "2\n",
      "4\n",
      "3\n",
      "2\n"
     ]
    }
   ],
   "source": [
    "my_list = [2,3,4,2,1,5,7]\n",
    "for i in range(len(my_list)-1,-1,-1):\n",
    "    print(my_list[i])"
   ]
  },
  {
   "cell_type": "code",
   "execution_count": 11,
   "id": "7a403da1",
   "metadata": {},
   "outputs": [
    {
     "name": "stdout",
     "output_type": "stream",
     "text": [
      "[5, 4, 3, 2, 1]\n"
     ]
    }
   ],
   "source": [
    "def reverse_list(lst):\n",
    "    left = 0\n",
    "    right= len(lst)-1\n",
    "    while left < right:\n",
    "        lst [left] , lst[right]=lst[right],lst[left]\n",
    "        left +=1\n",
    "        right -=1\n",
    "my_list = [1, 2, 3, 4, 5]\n",
    "\n",
    "    # Reverse the list\n",
    "reverse_list(my_list)\n",
    "\n",
    "    # Print the reversed list\n",
    "print(my_list)  # Output: [5, 4, 3, 2, 1]"
   ]
  },
  {
   "cell_type": "code",
   "execution_count": 35,
   "id": "0cf049cd",
   "metadata": {},
   "outputs": [
    {
     "name": "stdout",
     "output_type": "stream",
     "text": [
      "0\n",
      "1\n",
      "1\n",
      "2\n",
      "3\n",
      "5\n"
     ]
    }
   ],
   "source": [
    "def fib():\n",
    "    a,b =0,1\n",
    "    \n",
    "    while True:\n",
    "        yield a\n",
    "        a , b=b , a+b\n",
    "    \n",
    "f1= fib()  \n",
    "print(next(f1))\n",
    "print(next(f1))\n",
    "print(next(f1))\n",
    "print(next(f1))\n",
    "print(next(f1))\n",
    "print(next(f1))"
   ]
  },
  {
   "cell_type": "code",
   "execution_count": 1,
   "id": "f0fe84d6",
   "metadata": {},
   "outputs": [
    {
     "name": "stdout",
     "output_type": "stream",
     "text": [
      "([6, 2, 3], [1, 2])\n"
     ]
    }
   ],
   "source": [
    "a = ([1 , 2 , 3], [1 , 2])\n",
    "a[0][0]=6\n",
    "print(a)"
   ]
  },
  {
   "cell_type": "code",
   "execution_count": 3,
   "id": "7da9aca0",
   "metadata": {},
   "outputs": [
    {
     "ename": "TypeError",
     "evalue": "'tuple' object does not support item assignment",
     "output_type": "error",
     "traceback": [
      "\u001b[1;31m---------------------------------------------------------------------------\u001b[0m",
      "\u001b[1;31mTypeError\u001b[0m                                 Traceback (most recent call last)",
      "\u001b[1;32m~\\AppData\\Local\\Temp\\ipykernel_17432\\1156691068.py\u001b[0m in \u001b[0;36m<module>\u001b[1;34m\u001b[0m\n\u001b[0;32m      1\u001b[0m \u001b[0ma\u001b[0m \u001b[1;33m=\u001b[0m \u001b[1;33m(\u001b[0m\u001b[1;33m[\u001b[0m\u001b[1;36m1\u001b[0m \u001b[1;33m,\u001b[0m \u001b[1;36m2\u001b[0m \u001b[1;33m,\u001b[0m \u001b[1;36m3\u001b[0m\u001b[1;33m]\u001b[0m\u001b[1;33m,\u001b[0m \u001b[1;33m[\u001b[0m\u001b[1;36m1\u001b[0m \u001b[1;33m,\u001b[0m \u001b[1;36m2\u001b[0m\u001b[1;33m]\u001b[0m\u001b[1;33m)\u001b[0m\u001b[1;33m\u001b[0m\u001b[1;33m\u001b[0m\u001b[0m\n\u001b[1;32m----> 2\u001b[1;33m \u001b[0ma\u001b[0m\u001b[1;33m[\u001b[0m\u001b[1;36m0\u001b[0m\u001b[1;33m]\u001b[0m\u001b[1;33m=\u001b[0m\u001b[1;33m[\u001b[0m\u001b[1;36m12\u001b[0m \u001b[1;33m,\u001b[0m \u001b[1;36m4\u001b[0m \u001b[1;33m,\u001b[0m\u001b[1;36m5\u001b[0m\u001b[1;33m]\u001b[0m\u001b[1;33m\u001b[0m\u001b[1;33m\u001b[0m\u001b[0m\n\u001b[0m\u001b[0;32m      3\u001b[0m \u001b[0mprint\u001b[0m\u001b[1;33m(\u001b[0m\u001b[0ma\u001b[0m\u001b[1;33m)\u001b[0m\u001b[1;33m\u001b[0m\u001b[1;33m\u001b[0m\u001b[0m\n",
      "\u001b[1;31mTypeError\u001b[0m: 'tuple' object does not support item assignment"
     ]
    }
   ],
   "source": [
    "a = ([1 , 2 , 3], [1 , 2])\n",
    "a[0]=[12 , 4 ,5]\n",
    "print(a)"
   ]
  },
  {
   "cell_type": "code",
   "execution_count": 34,
   "id": "3b902be9",
   "metadata": {},
   "outputs": [
    {
     "name": "stdout",
     "output_type": "stream",
     "text": [
      "None\n"
     ]
    }
   ],
   "source": [
    "def add_sum(a , b):\n",
    "    c = a+b\n",
    "    \n",
    "    a=10\n",
    "    b=3\n",
    "a=10\n",
    "b=0\n",
    "f=add_sum(a,b)\n",
    "print(f)"
   ]
  },
  {
   "cell_type": "markdown",
   "id": "bf5f5d93",
   "metadata": {},
   "source": [
    "## Code to swan 2 number position in list"
   ]
  },
  {
   "cell_type": "code",
   "execution_count": 21,
   "id": "abd3da9b",
   "metadata": {},
   "outputs": [
    {
     "name": "stdout",
     "output_type": "stream",
     "text": [
      "[2, 6, 5, 3, 7]\n"
     ]
    }
   ],
   "source": [
    "def swamnumber(list , num1, num2):\n",
    "    list[num1], list[num2]=list[num2] , list[num1]\n",
    "    return list\n",
    "list=[2 , 3 ,5 , 6 ,7]\n",
    "num1 , num2=1 , 3\n",
    "\n",
    "print(swamnumber(list,num1 , num2))"
   ]
  },
  {
   "cell_type": "markdown",
   "id": "aac16e82",
   "metadata": {},
   "source": [
    "## WRA to swap last and first number "
   ]
  },
  {
   "cell_type": "code",
   "execution_count": 19,
   "id": "68a67287",
   "metadata": {},
   "outputs": [
    {
     "name": "stdout",
     "output_type": "stream",
     "text": [
      "[6, 3, 4, 5, 1]\n"
     ]
    }
   ],
   "source": [
    "def swap(newlist):\n",
    "    size=len(newlist)\n",
    "    \n",
    "    temp =newlist[0]\n",
    "    newlist[0]=newlist[size-1]\n",
    "    newlist[size-1]=temp\n",
    "    return newlist\n",
    "    \n",
    "newlist=[1 , 3, 4 ,5 ,6]\n",
    "print(swap(newlist))"
   ]
  },
  {
   "cell_type": "code",
   "execution_count": 20,
   "id": "902787a7",
   "metadata": {},
   "outputs": [
    {
     "ename": "NameError",
     "evalue": "name 'string' is not defined",
     "output_type": "error",
     "traceback": [
      "\u001b[1;31m---------------------------------------------------------------------------\u001b[0m",
      "\u001b[1;31mNameError\u001b[0m                                 Traceback (most recent call last)",
      "\u001b[1;32m~\\AppData\\Local\\Temp\\ipykernel_17432\\3532753063.py\u001b[0m in \u001b[0;36m<module>\u001b[1;34m\u001b[0m\n\u001b[1;32m----> 1\u001b[1;33m \u001b[1;32mdef\u001b[0m \u001b[0mrandom_generator\u001b[0m\u001b[1;33m(\u001b[0m\u001b[0msize\u001b[0m\u001b[1;33m=\u001b[0m\u001b[1;36m8\u001b[0m\u001b[1;33m,\u001b[0m \u001b[0mchars\u001b[0m\u001b[1;33m=\u001b[0m\u001b[0mstring\u001b[0m\u001b[1;33m.\u001b[0m\u001b[0mascii_lowercase\u001b[0m \u001b[1;33m+\u001b[0m \u001b[0mstring\u001b[0m\u001b[1;33m.\u001b[0m\u001b[0mdigits\u001b[0m\u001b[1;33m)\u001b[0m\u001b[1;33m:\u001b[0m\u001b[1;33m\u001b[0m\u001b[1;33m\u001b[0m\u001b[0m\n\u001b[0m\u001b[0;32m      2\u001b[0m     \u001b[1;32mreturn\u001b[0m \u001b[1;34m''\u001b[0m\u001b[1;33m.\u001b[0m\u001b[0mjoin\u001b[0m\u001b[1;33m(\u001b[0m\u001b[0mrandom\u001b[0m\u001b[1;33m.\u001b[0m\u001b[0mchoice\u001b[0m\u001b[1;33m(\u001b[0m\u001b[0mchars\u001b[0m\u001b[1;33m)\u001b[0m \u001b[1;32mfor\u001b[0m \u001b[0mx\u001b[0m \u001b[1;32min\u001b[0m \u001b[0mrange\u001b[0m\u001b[1;33m(\u001b[0m\u001b[0msize\u001b[0m\u001b[1;33m)\u001b[0m\u001b[1;33m)\u001b[0m\u001b[1;33m\u001b[0m\u001b[1;33m\u001b[0m\u001b[0m\n\u001b[0;32m      3\u001b[0m \u001b[1;33m\u001b[0m\u001b[0m\n\u001b[0;32m      4\u001b[0m \u001b[0memail\u001b[0m\u001b[1;33m=\u001b[0m\u001b[0mrandom_generator\u001b[0m\u001b[1;33m(\u001b[0m\u001b[1;33m)\u001b[0m\u001b[1;33m\u001b[0m\u001b[1;33m\u001b[0m\u001b[0m\n",
      "\u001b[1;31mNameError\u001b[0m: name 'string' is not defined"
     ]
    }
   ],
   "source": [
    "def random_generator(size=8, chars=string.ascii_lowercase + string.digits):\n",
    "    return ''.join(random.choice(chars) for x in range(size))\n",
    "\n",
    "email=random_generator()"
   ]
  },
  {
   "cell_type": "code",
   "execution_count": 13,
   "id": "c643d9f6",
   "metadata": {},
   "outputs": [
    {
     "name": "stdout",
     "output_type": "stream",
     "text": [
      "5 4\n"
     ]
    }
   ],
   "source": [
    " l = [1,2,3,4,5]\n",
    "first=l[0]\n",
    "second=l[0]\n",
    "\n",
    "for i in l:\n",
    "    if i > first:\n",
    "        second=first\n",
    "        first = i\n",
    "    elif i <first:\n",
    "            second = i\n",
    "            \n",
    "print(first,second)"
   ]
  },
  {
   "cell_type": "code",
   "execution_count": 15,
   "id": "d111fa4e",
   "metadata": {},
   "outputs": [
    {
     "name": "stdout",
     "output_type": "stream",
     "text": [
      "1 5\n"
     ]
    }
   ],
   "source": [
    "l = [1,2,3,4,5]\n",
    "first=l[0]\n",
    "second=l[0]\n",
    "\n",
    "for i in l:\n",
    "    if i <first:\n",
    "        second = first\n",
    "        first =i\n",
    "    elif i >first:\n",
    "        second = i\n",
    "print(first, second)"
   ]
  },
  {
   "cell_type": "code",
   "execution_count": 95,
   "id": "0836d8b4",
   "metadata": {},
   "outputs": [
    {
     "name": "stdout",
     "output_type": "stream",
     "text": [
      "-1\n"
     ]
    }
   ],
   "source": [
    "def first_negative_number(nums):\n",
    "    for num in nums:\n",
    "        if num <0:\n",
    "            return num\n",
    "    return None\n",
    "\n",
    "lst = [3, 5, -1, 7, -4, 8]\n",
    "result = first_negative_number(lst)\n",
    "print(result)  # Output: -1"
   ]
  },
  {
   "cell_type": "code",
   "execution_count": 21,
   "id": "6bc7429e",
   "metadata": {},
   "outputs": [
    {
     "name": "stdout",
     "output_type": "stream",
     "text": [
      "niTin\n"
     ]
    }
   ],
   "source": [
    "a=\"nitin\"\n",
    "word=\"\"\n",
    "for i in range(len(a)):\n",
    "    if i==2:\n",
    "        word +=a[i].upper()\n",
    "    else:\n",
    "        word+=a[i]\n",
    "print(word)"
   ]
  },
  {
   "cell_type": "code",
   "execution_count": 100,
   "id": "0e016835",
   "metadata": {},
   "outputs": [
    {
     "name": "stdout",
     "output_type": "stream",
     "text": [
      "Enter a string: NiTin\n",
      "Length of the longest subarray with uppercase letters: 1\n"
     ]
    }
   ],
   "source": [
    "def tee(arr):\n",
    "    max_length=0\n",
    "    current_legth=0\n",
    "    \n",
    "    for i in arr:\n",
    "        if i.isupper():\n",
    "            current_legth +=1\n",
    "            max_length=max(max_length , current_legth)\n",
    "\n",
    "        else:\n",
    "            current_legth =0\n",
    "    return max_length if max_length >0 else 0\n",
    "\n",
    "# Example usage\n",
    "s = input(\"Enter a string: \")\n",
    "result = tee(s)\n",
    "print(\"Length of the longest subarray with uppercase letters:\", result)    "
   ]
  },
  {
   "cell_type": "code",
   "execution_count": 2,
   "id": "7b2081a4",
   "metadata": {},
   "outputs": [
    {
     "name": "stdout",
     "output_type": "stream",
     "text": [
      "Enter a string: 11\n",
      "Length of the longest subarray with uppercase letters: 0\n"
     ]
    }
   ],
   "source": [
    "def find_longest_uppercase_subarray(s):\n",
    "    max_length = 0\n",
    "    current_length = 0\n",
    "\n",
    "    for char in s:\n",
    "        if char.isupper():  # Check if the character is uppercase\n",
    "            current_length += 1\n",
    "            max_length = max(max_length, current_length)\n",
    "        else:\n",
    "            current_length = 0  # Reset the length when a non-uppercase character is encountered\n",
    "\n",
    "    return max_length if max_length > 0 else 0\n",
    "\n",
    "# Example usage\n",
    "s = input(\"Enter a string: \")\n",
    "result = find_longest_uppercase_subarray(s)\n",
    "print(\"Length of the longest subarray with uppercase letters:\", result)"
   ]
  },
  {
   "cell_type": "code",
   "execution_count": 1,
   "id": "4fc31779",
   "metadata": {},
   "outputs": [
    {
     "name": "stdout",
     "output_type": "stream",
     "text": [
      "[1, 2, 3, 4, 5, 6]\n"
     ]
    }
   ],
   "source": [
    "def merge_sorted_arrays(arr1, arr2):\n",
    "    i, j = 0, 0  # Pointers for arr1 and arr2\n",
    "    merged = []  # Resultant merged array\n",
    "\n",
    "    # Traverse both arrays\n",
    "    while i < len(arr1) and j < len(arr2):\n",
    "        if arr1[i] < arr2[j]:\n",
    "            merged.append(arr1[i])\n",
    "            i += 1\n",
    "        else:\n",
    "            merged.append(arr2[j])\n",
    "            j += 1\n",
    "\n",
    "    # If there are remaining elements in arr1, add them\n",
    "    merged.extend(arr1[i:])\n",
    "\n",
    "    # If there are remaining elements in arr2, add them\n",
    "    merged.extend(arr2[j:])\n",
    "\n",
    "    return merged\n",
    "\n",
    "# Example usage\n",
    "arr1 = [1, 3, 5]\n",
    "arr2 = [2, 4, 6]\n",
    "print(merge_sorted_arrays(arr1, arr2))\n"
   ]
  },
  {
   "cell_type": "code",
   "execution_count": 8,
   "id": "b9b5e846",
   "metadata": {},
   "outputs": [
    {
     "name": "stdout",
     "output_type": "stream",
     "text": [
      "[1, 2, 3, 4, 5, 6]\n"
     ]
    }
   ],
   "source": [
    "def merge_sorted_arrays(arr1, arr2):\n",
    "    i , j=0 , 0\n",
    "    merger=[]\n",
    "    while i <len(arr1) and j <len(arr2):\n",
    "        if arr1[i] < arr2[j]:\n",
    "            merger.append(arr1[i])\n",
    "            i+=1\n",
    "        else:\n",
    "            merger.append(arr2[j])\n",
    "            j+=1\n",
    "            \n",
    "    merger.extend(arr1[i:])\n",
    "    \n",
    "    merger.extend(arr2[j:])\n",
    "    \n",
    "    return merger\n",
    "\n",
    "# Example usage\n",
    "arr1 = [1, 3, 5]\n",
    "arr2 = [2, 4, 6]\n",
    "print(merge_sorted_arrays(arr1, arr2))           "
   ]
  },
  {
   "cell_type": "code",
   "execution_count": null,
   "id": "b6f266c6",
   "metadata": {},
   "outputs": [],
   "source": []
  }
 ],
 "metadata": {
  "kernelspec": {
   "display_name": "Python 3 (ipykernel)",
   "language": "python",
   "name": "python3"
  },
  "language_info": {
   "codemirror_mode": {
    "name": "ipython",
    "version": 3
   },
   "file_extension": ".py",
   "mimetype": "text/x-python",
   "name": "python",
   "nbconvert_exporter": "python",
   "pygments_lexer": "ipython3",
   "version": "3.12.7"
  }
 },
 "nbformat": 4,
 "nbformat_minor": 5
}
