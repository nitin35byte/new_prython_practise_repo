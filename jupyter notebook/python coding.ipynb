{
 "cells": [
  {
   "cell_type": "markdown",
   "id": "4d692449",
   "metadata": {},
   "source": [
    "## WAP To reverse the sting"
   ]
  },
  {
   "cell_type": "code",
   "execution_count": 1,
   "id": "71afe8d5",
   "metadata": {},
   "outputs": [
    {
     "name": "stdout",
     "output_type": "stream",
     "text": [
      "geeks\n",
      "quiz\n",
      "practice\n",
      "code\n",
      "['code', 'practice', 'quiz', 'geeks']\n"
     ]
    }
   ],
   "source": [
    "string = \"geeks quiz practice code\"\n",
    "\n",
    "stack = []\n",
    "for i in string.split():\n",
    "    stack.append(i)\n",
    "    print(i)\n",
    "empty_stack = []\n",
    "while stack:\n",
    "    empty_stack.append(stack.pop())\n",
    "print(empty_stack)"
   ]
  },
  {
   "cell_type": "code",
   "execution_count": 3,
   "id": "9e11bdf4",
   "metadata": {},
   "outputs": [
    {
     "name": "stdout",
     "output_type": "stream",
     "text": [
      "code practice quiz geeks\n"
     ]
    }
   ],
   "source": [
    "def reversest(arr):\n",
    "    arr=arr.split()\n",
    "    left=0\n",
    "    right =len(arr)-1\n",
    "    \n",
    "    while left < right:\n",
    "        arr[left] , arr[right]=arr[right] , arr[left]\n",
    "        left +=1\n",
    "        right -=1\n",
    "        \n",
    "    reverse_sen= ' '.join(arr)\n",
    "    return reverse_sen\n",
    "string = \"geeks quiz practice code\"\n",
    "a = reversest(string)\n",
    "print(a)"
   ]
  },
  {
   "cell_type": "code",
   "execution_count": 4,
   "id": "722c54ef",
   "metadata": {},
   "outputs": [
    {
     "name": "stdout",
     "output_type": "stream",
     "text": [
      "nitin is palindrome\n",
      "True\n"
     ]
    }
   ],
   "source": [
    "def palindrome(arr):\n",
    "    left = 0\n",
    "    right =len(arr)-1\n",
    "    \n",
    "    while left  < right:\n",
    "        if arr[left] != arr[right]:\n",
    "            return False\n",
    "        left +=1\n",
    "        right -=1\n",
    "    \n",
    "    return True\n",
    "        \n",
    "arr='nitin'            \n",
    "if palindrome(arr):\n",
    "    print(f\"{arr} is palindrome\")\n",
    "else:\n",
    "    print('bhaag sa sale')\n",
    "        \n",
    "d = palindrome(arr)\n",
    "print(d)"
   ]
  },
  {
   "cell_type": "code",
   "execution_count": 1,
   "id": "64d61af1",
   "metadata": {},
   "outputs": [
    {
     "name": "stdout",
     "output_type": "stream",
     "text": [
      "{'n': 2, 'i': 2, 't': 1}\n"
     ]
    }
   ],
   "source": [
    "a = 'nitin'\n",
    "b = {}\n",
    "\n",
    "for i in a:\n",
    "    if i in b:\n",
    "        b[i]+=1\n",
    "    else:\n",
    "        b[i]=1\n",
    "print(b)"
   ]
  },
  {
   "cell_type": "code",
   "execution_count": 9,
   "id": "8dc6407b",
   "metadata": {},
   "outputs": [
    {
     "name": "stdout",
     "output_type": "stream",
     "text": [
      "Verify Login Functionality And Navigating To Callhandling Screen\n",
      "vERIFY LOGIN FUNCTIONALITY AND NAVIGATING TO CALLHANDLING SCREEN\n",
      "Verify Login Functionality And Navigating To Callhandling Screen\n",
      "Verify Login Functionality And Navigating To Callhandling Screen\n",
      "Verify login functionality and navigating to callhandling screen\n"
     ]
    }
   ],
   "source": [
    "a ='Verify Login functionality and Navigating to callhandling screen'\n",
    "b = a.title()\n",
    "print(b)\n",
    "\n",
    "c = a[0].lower() + a[1:].upper()\n",
    "print(c)\n",
    "w=\"vERIFY LOGIN FUNCTIONALITY AND NAVIGATING TO CALLHANDLING SCREEN\"\n",
    "\n",
    "r=[]\n",
    "for i in w.split():\n",
    "    r.append(i[0].upper() +i[1:].lower())\n",
    "print(' '.join(r))\n",
    "m =w.title()\n",
    "print(m)\n",
    "print(w.capitalize())"
   ]
  },
  {
   "cell_type": "code",
   "execution_count": 10,
   "id": "1ea2dc4d",
   "metadata": {},
   "outputs": [
    {
     "name": "stdout",
     "output_type": "stream",
     "text": [
      "not a aplindrome\n",
      "False\n"
     ]
    }
   ],
   "source": [
    "##WAP Pallindrome\n",
    "def isplaindrome(name):\n",
    "    name = name.lower()\n",
    "    left = 0\n",
    "    right = len(name)-1\n",
    "    \n",
    "    while left <right:\n",
    "        if name[left] != name[right]:\n",
    "            print(\"not a aplindrome\")\n",
    "            return False\n",
    "        left +=1\n",
    "        right -=1\n",
    "    print(\"is palindrome\")\n",
    "    return True\n",
    "a = \"rahul\"\n",
    "b = isplaindrome(a)\n",
    "print(b)"
   ]
  },
  {
   "cell_type": "code",
   "execution_count": 13,
   "id": "b3fe0c41",
   "metadata": {},
   "outputs": [
    {
     "name": "stdout",
     "output_type": "stream",
     "text": [
      "enter number :5\n",
      "enter factorial :7\n",
      "840\n"
     ]
    }
   ],
   "source": [
    "num = int(input(\"enter number :\"))\n",
    "\n",
    "factorial = int(input(\"enter factorial :\"))\n",
    "if num < 0:\n",
    "    print(\"factorial of o is 1\")\n",
    "elif num ==0:\n",
    "    print(\"bhag sale\")\n",
    "else:\n",
    "    for i in range(1 ,num+1):\n",
    "        factorial = factorial *i\n",
    "print(factorial)"
   ]
  },
  {
   "cell_type": "code",
   "execution_count": 14,
   "id": "38ad6a40",
   "metadata": {},
   "outputs": [
    {
     "name": "stdout",
     "output_type": "stream",
     "text": [
      "Rahul\n"
     ]
    }
   ],
   "source": [
    "t=a[0].upper()+a[1:].lower()\n",
    "print(t)"
   ]
  },
  {
   "cell_type": "code",
   "execution_count": 8,
   "id": "f6d7e730",
   "metadata": {},
   "outputs": [
    {
     "name": "stdout",
     "output_type": "stream",
     "text": [
      "Palindrome\n",
      "True\n"
     ]
    }
   ],
   "source": [
    "def is_palindrome(name):\n",
    "    # Convert the input to lowercase for case-insensitive comparison\n",
    "    name = name.lower()\n",
    "    \n",
    "    left = 0\n",
    "    right = len(name) - 1\n",
    "    \n",
    "    while left < right:\n",
    "        if name[left] != name[right]:  # Compare left and right characters\n",
    "            print(\"Not a palindrome\")\n",
    "            return False\n",
    "        left += 1\n",
    "        right -= 1\n",
    "    \n",
    "    print(\"Palindrome\")\n",
    "    return True\n",
    "\n",
    "# Test case\n",
    "a = \"Nitin\"\n",
    "b = is_palindrome(a)\n",
    "print(b)\n"
   ]
  },
  {
   "cell_type": "code",
   "execution_count": 14,
   "id": "7e5a20aa",
   "metadata": {},
   "outputs": [
    {
     "name": "stdout",
     "output_type": "stream",
     "text": [
      "Rahul\n"
     ]
    }
   ],
   "source": [
    "l=[]\n",
    "for i in a.split():\n",
    "    l.append(i[0].upper()+i[1:].lower())\n",
    "print(\" \".join(l))"
   ]
  },
  {
   "cell_type": "code",
   "execution_count": 25,
   "id": "2f78ca54",
   "metadata": {},
   "outputs": [
    {
     "name": "stdout",
     "output_type": "stream",
     "text": [
      "EOUNAOAC\n"
     ]
    }
   ],
   "source": [
    "l=[]\n",
    "for i in a.split():\n",
    "    l.append(i[1].upper())\n",
    "print(\"\".join(l))"
   ]
  },
  {
   "cell_type": "code",
   "execution_count": 15,
   "id": "b87468c7",
   "metadata": {},
   "outputs": [
    {
     "name": "stdout",
     "output_type": "stream",
     "text": [
      "['hare', 'krishna', 'hare', 'rama', 'hare', 'krishna', 'hare', 'rama', 'hare', 'krishna', 'hare', 'rama', 'hare', 'krishna', 'hare', 'rama']\n",
      "rama hare krishna hare rama hare krishna hare rama hare krishna hare rama hare krishna hare\n"
     ]
    }
   ],
   "source": [
    "word= 'hare krishna hare rama hare krishna hare rama hare krishna hare rama hare krishna hare rama'\n",
    "stack = []\n",
    "\n",
    "for i in word.split():\n",
    "    stack.append(i)\n",
    "print(stack)\n",
    "    \n",
    "word=[]\n",
    "\n",
    "while stack:\n",
    "    word.append(stack.pop())\n",
    "word = \" \".join(word)\n",
    "print(word)"
   ]
  },
  {
   "cell_type": "code",
   "execution_count": 1,
   "id": "8881cea3",
   "metadata": {},
   "outputs": [
    {
     "name": "stdout",
     "output_type": "stream",
     "text": [
      "code practice quiz geeks\n"
     ]
    }
   ],
   "source": [
    "def reverse_words(string):\n",
    "\t# split the string into a list of words\n",
    "\twords = string.split()\n",
    "\n",
    "\t# initialize an empty string to store the reversed words\n",
    "\treversed_string = ''\n",
    "\n",
    "\t# loop through the words in reverse order and append them to the reversed string\n",
    "\tfor i in range(len(words)-1, -1, -1):\n",
    "\t\treversed_string += words[i] + ' '\n",
    "\n",
    "\t# remove the extra space at the end of the reversed string and return it\n",
    "\treturn reversed_string.strip()\n",
    "\n",
    "# example usage\n",
    "string = \"geeks quiz practice code\"\n",
    "reversed_string = reverse_words(string)\n",
    "print(reversed_string) # output: \"code practice quiz geeks\"\n"
   ]
  },
  {
   "cell_type": "code",
   "execution_count": 4,
   "id": "4f3c88b4",
   "metadata": {},
   "outputs": [
    {
     "name": "stdout",
     "output_type": "stream",
     "text": [
      "['skeeg', 'ziuq', 'ecitcarp', 'edoc']\n"
     ]
    }
   ],
   "source": [
    "strr=string.split()\n",
    "word=[]\n",
    "for i in range(len(strr)):\n",
    "    word.append(strr[i][::-1])\n",
    "print(word)"
   ]
  },
  {
   "cell_type": "code",
   "execution_count": 6,
   "id": "795daec9",
   "metadata": {},
   "outputs": [
    {
     "name": "stdout",
     "output_type": "stream",
     "text": [
      "2 22\n",
      "3 34\n",
      "4 55\n",
      "5 66\n",
      "6 88\n"
     ]
    }
   ],
   "source": [
    "list1=[2,3,4,5,6]\n",
    "list2=[22,34,55,66,88]\n",
    "for i ,j in zip(list1,list2):\n",
    "    print(i,j)"
   ]
  },
  {
   "cell_type": "code",
   "execution_count": 8,
   "id": "cf533e3d",
   "metadata": {},
   "outputs": [
    {
     "name": "stdout",
     "output_type": "stream",
     "text": [
      "[(22, 2), (23, 3), (24, 4), (25, 5), (26, 6)]\n"
     ]
    }
   ],
   "source": [
    "list1=[2,3,4,5,6]\n",
    "list2=[22,34,55,66,88]\n",
    "r=[(i ,j) for i,j in  enumerate(list1 , start=22)]\n",
    "print(r)"
   ]
  },
  {
   "cell_type": "code",
   "execution_count": 7,
   "id": "c25fa0bb",
   "metadata": {},
   "outputs": [
    {
     "name": "stdout",
     "output_type": "stream",
     "text": [
      "23\n",
      "[4, 6, 10, 1, 3]\n",
      "true\n"
     ]
    }
   ],
   "source": [
    "def ArrayAdditionI(arr):\n",
    "    # Find the largest number in the array\n",
    "    max_num = max(arr)\n",
    "    print(max_num)\n",
    "    # Remove the largest number from the array\n",
    "    arr.remove(max_num)\n",
    "    print(arr)\n",
    "    \n",
    "    # Function to recursively check for subset sum\n",
    "    def can_sum_to_target(nums, target):\n",
    "        if target == 0:\n",
    "            return True\n",
    "        if not nums or target < 0:\n",
    "            return False\n",
    "        \n",
    "        # Try including the last element in the subset\n",
    "        include_last = can_sum_to_target(nums[:-1], target - nums[-1])\n",
    "        \n",
    "        # Try excluding the last element from the subset\n",
    "        exclude_last = can_sum_to_target(nums[:-1], target)\n",
    "        \n",
    "        return include_last or exclude_last\n",
    "    \n",
    "    # Check if any subset of arr can sum up to max_num\n",
    "    if can_sum_to_target(arr, max_num):\n",
    "        return \"true\"\n",
    "    else:\n",
    "        return \"false\"\n",
    "\n",
    "# Test the function\n",
    "arr = [4, 6, 23, 10, 1, 3]\n",
    "print(ArrayAdditionI(arr))  # Output: \"true\"\n"
   ]
  },
  {
   "cell_type": "code",
   "execution_count": 6,
   "id": "45956f1b",
   "metadata": {},
   "outputs": [
    {
     "name": "stdout",
     "output_type": "stream",
     "text": [
      "true\n"
     ]
    }
   ],
   "source": [
    "def ArrayAdditionI(arr):\n",
    "    # Find the largest number in the array\n",
    "    max_num = max(arr)\n",
    "    \n",
    "    # Remove the largest number from the array\n",
    "    arr.remove(max_num)\n",
    "    \n",
    "    # Function to recursively check for subset sum\n",
    "    def can_sum_to_target(nums, target):\n",
    "        if target == 0:\n",
    "            return True\n",
    "        if not nums or target < 0:\n",
    "            return False\n",
    "        \n",
    "        # Try including the last element in the subset\n",
    "        include_last = can_sum_to_target(nums[:-1], target - nums[-1])\n",
    "        \n",
    "        # Try excluding the last element from the subset\n",
    "        exclude_last = can_sum_to_target(nums[:-1], target)\n",
    "        \n",
    "        return include_last or exclude_last\n",
    "    \n",
    "    # Check if any subset of arr can sum up to max_num\n",
    "    if can_sum_to_target(arr, max_num):\n",
    "        return \"true\"\n",
    "    else:\n",
    "        return \"false\"\n",
    "\n",
    "# Test the function\n",
    "arr = [4, 6, 23, 10, 1, 3]\n",
    "print(ArrayAdditionI(arr))  # Output: \"true\"\n"
   ]
  },
  {
   "cell_type": "code",
   "execution_count": 5,
   "id": "56db980e",
   "metadata": {},
   "outputs": [
    {
     "name": "stdout",
     "output_type": "stream",
     "text": [
      "{1: 'n', 2: 'w', 3: 'r', 4: 't'}\n"
     ]
    }
   ],
   "source": [
    "## List to dictionary\n",
    "keys =[1 ,2 ,3,4 ]\n",
    "value=['n' , 'w' , 'r' , 't' , 'y']\n",
    "result=dict(zip(keys,value))\n",
    "print(result)\n",
    "\n"
   ]
  },
  {
   "cell_type": "code",
   "execution_count": 6,
   "id": "69a1e0f0",
   "metadata": {},
   "outputs": [
    {
     "name": "stdout",
     "output_type": "stream",
     "text": [
      "{0: 1, 1: 2, 2: 3, 3: 4}\n"
     ]
    }
   ],
   "source": [
    "re=[i for i in enumerate(keys)]\n",
    "print(dict(re))"
   ]
  },
  {
   "cell_type": "code",
   "execution_count": 7,
   "id": "715a64a7",
   "metadata": {},
   "outputs": [
    {
     "name": "stdout",
     "output_type": "stream",
     "text": [
      "enter number6\n",
      "Factorial of 6 is 720\n"
     ]
    }
   ],
   "source": [
    "number = int(input(\"enter number\"))\n",
    "if number<0:\n",
    "    print(\"enter valid number\")\n",
    "        \n",
    "elif number ==0:\n",
    "    print(\"factorial of o is 1\")\n",
    "else:\n",
    "    factorial = 1\n",
    "    for i in range(1, number + 1):\n",
    "        factorial *= i\n",
    "    print(\"Factorial of\", number, \"is\", factorial)"
   ]
  },
  {
   "cell_type": "code",
   "execution_count": 8,
   "id": "2fafe07b",
   "metadata": {},
   "outputs": [
    {
     "name": "stdout",
     "output_type": "stream",
     "text": [
      "{'h': 12, 'a': 20, 'r': 16, 'e': 8, 'k': 4, 'i': 4, 's': 4, 'n': 4, 'm': 4, 't': 1, 'Q': 1, 'H': 1}\n",
      "h12a20r16e8k4i4s4n4m4t1Q1H1\n"
     ]
    }
   ],
   "source": [
    "w= 'hare krishna hare rama hare krishna hare rama hare krishna hare rama hare krishna hare rama t , Q , H'\n",
    "word=\"\".join(i for i in w if i.isalnum())\n",
    "value={}\n",
    "for i in word:\n",
    "    if i in value:\n",
    "        value[i] +=1\n",
    "    else:\n",
    "        value[i] =1\n",
    "        \n",
    "print(value)\n",
    "rt=\"\".join(f\"{value}{count}\" for value , count in value.items())\n",
    "print(rt)"
   ]
  },
  {
   "cell_type": "code",
   "execution_count": 9,
   "id": "690a9b93",
   "metadata": {},
   "outputs": [
    {
     "name": "stdout",
     "output_type": "stream",
     "text": [
      "duplicate wprd is: ['h', 'a', 'r', 'e', 'k', 'i', 's', 'n', 'm']\n",
      "Word: h, Count: 12\n",
      "Word: a, Count: 20\n",
      "Word: r, Count: 16\n",
      "Word: e, Count: 8\n",
      "Word: k, Count: 4\n",
      "Word: i, Count: 4\n",
      "Word: s, Count: 4\n",
      "Word: n, Count: 4\n",
      "Word: m, Count: 4\n"
     ]
    }
   ],
   "source": [
    "duplicate=[]\n",
    "for word ,count in value.items():\n",
    "    if count> 1:\n",
    "        duplicate.append(word)\n",
    "print(\"duplicate wprd is:\",duplicate)\n",
    "\n",
    "for i in value:\n",
    "    if i in duplicate:\n",
    "        print(f\"Word: {i}, Count: {value[i]}\")"
   ]
  },
  {
   "cell_type": "code",
   "execution_count": 6,
   "id": "39b9b8d3",
   "metadata": {},
   "outputs": [
    {
     "name": "stdout",
     "output_type": "stream",
     "text": [
      "12\n"
     ]
    }
   ],
   "source": [
    "word = word.lower()\n",
    "target = 'h'\n",
    "count = 0\n",
    "for i in word:\n",
    "    if i ==target:\n",
    "        count +=1\n",
    "print(count)"
   ]
  },
  {
   "cell_type": "code",
   "execution_count": 26,
   "id": "d7408c9d",
   "metadata": {},
   "outputs": [
    {
     "name": "stdout",
     "output_type": "stream",
     "text": [
      "{'m': 3, 'y': 2, 'n': 3, 'a': 1, 'e': 1, 'i': 3, 's': 1, 't': 1}\n",
      "[['m', 3], ['n', 3], ['i', 3]]\n",
      "[['a', 1], ['e', 1], ['s', 1], ['t', 1]]\n"
     ]
    }
   ],
   "source": [
    "string = 'mynameisnitinmy'\n",
    "\n",
    "word = {}\n",
    "\n",
    "for i in string:\n",
    "    if i in word:\n",
    "        word[i] +=1\n",
    "    else:\n",
    "        word[i] =1\n",
    "        \n",
    "max_c=max(word.values())\n",
    "min_c=min(word.values())\n",
    "        \n",
    "print(word)\n",
    "c=[]\n",
    "d=[]\n",
    "for value , count in word.items():\n",
    "    if count ==max_c:\n",
    "        c.append([value , count])\n",
    "        \n",
    "    elif count==min_c:\n",
    "        d.append([value , count])\n",
    "print(c)\n",
    "print(d)"
   ]
  },
  {
   "cell_type": "code",
   "execution_count": 30,
   "id": "2e3eea75",
   "metadata": {},
   "outputs": [
    {
     "name": "stdout",
     "output_type": "stream",
     "text": [
      "[40, 46, 33, 60]\n"
     ]
    }
   ],
   "source": [
    "l =[40,46,33,60]\n",
    "t=[]\n",
    "for i in l:\n",
    "    t.append(i)\n",
    "    \n",
    "print(t)"
   ]
  },
  {
   "cell_type": "code",
   "execution_count": 18,
   "id": "be271fd2",
   "metadata": {},
   "outputs": [
    {
     "name": "stdout",
     "output_type": "stream",
     "text": [
      "Rama Hare Krishna Hare Rama Hare Krishna Hare Rama Hare Krishna Hare Rama Hare Krishna Hare\n"
     ]
    }
   ],
   "source": [
    "t=[]\n",
    "for i in word.split():   \n",
    "    t.append(i[0].upper() +i[1:].lower())\n",
    "p =' '.join(t)\n",
    "print(p)"
   ]
  },
  {
   "cell_type": "code",
   "execution_count": 11,
   "id": "9902672c",
   "metadata": {},
   "outputs": [
    {
     "name": "stdout",
     "output_type": "stream",
     "text": [
      "2\n"
     ]
    }
   ],
   "source": [
    "name=\"nitin\"\n",
    "t='t'\n",
    "for i in range(len(name)):\n",
    "    if t in name[i]:\n",
    "        print(i)"
   ]
  },
  {
   "cell_type": "code",
   "execution_count": 3,
   "id": "3ab85766",
   "metadata": {},
   "outputs": [
    {
     "name": "stdout",
     "output_type": "stream",
     "text": [
      "amaR eraH anhsirK eraH amaR eraH anhsirK eraH amaR eraH anhsirK eraH amaR eraH anhsirK eraH\n"
     ]
    }
   ],
   "source": [
    "w=\"Hare Krishna Hare Rama Hare Krishna Hare Rama Hare Krishna Hare Rama Hare Krishna Hare Rama\"\n",
    "m =[]\n",
    "for i in range(len(w) -1 ,-1,-1):\n",
    "    m.append(w[i])\n",
    "print(\"\".join(m))"
   ]
  },
  {
   "cell_type": "code",
   "execution_count": 5,
   "id": "ceff47c0",
   "metadata": {},
   "outputs": [
    {
     "name": "stdout",
     "output_type": "stream",
     "text": [
      "[2, 5, 7, 2, 6, 5, 5, 0, 0, 0, 0, 0]\n"
     ]
    }
   ],
   "source": [
    "lst=[2,0,5,7,0,2,6,0,5,0,5,0]\n",
    "item=[item for item in lst if item != 0] + [item for item in lst if item ==0]\n",
    "print(item)"
   ]
  },
  {
   "cell_type": "code",
   "execution_count": 15,
   "id": "c9c648d5",
   "metadata": {},
   "outputs": [
    {
     "name": "stdout",
     "output_type": "stream",
     "text": [
      "4 4\n",
      "Starting position: 4\n",
      "Ending position: 4\n"
     ]
    }
   ],
   "source": [
    "def find_positions(arr, target):\n",
    "    start_pos = -1\n",
    "    end_pos = -1\n",
    "    \n",
    "    for i in range(len(arr)):\n",
    "        if arr[i]==target:\n",
    "            if start_pos==-1:\n",
    "                start_pos=i\n",
    "            end_pos =i\n",
    "    return start_pos ,end_pos\n",
    "    \n",
    "arr = [1, 2, 3, 4, 5, 6, 7, 8, 9, 10]\n",
    "target = 5\n",
    "\n",
    "start ,end=find_positions(arr , target)\n",
    "print(start,end)\n",
    "if start==-1:\n",
    "    print(\"blalnlaznalnaala:\")\n",
    "else:\n",
    "    print(\"Starting position:\", start)\n",
    "    print(\"Ending position:\", end)"
   ]
  },
  {
   "cell_type": "code",
   "execution_count": 16,
   "id": "b667ea4f",
   "metadata": {},
   "outputs": [
    {
     "name": "stdout",
     "output_type": "stream",
     "text": [
      "6 6\n"
     ]
    }
   ],
   "source": [
    "def find_positions(arr, target):\n",
    "    start_pos = -1\n",
    "    end_pos = -1\n",
    "    \n",
    "    for i in range(len(arr)):\n",
    "        if arr[i]==target:\n",
    "            if start_pos==-1:\n",
    "                start_pos=i\n",
    "            end_pos =i\n",
    "    return start_pos ,end_pos\n",
    "    \n",
    "arr = [1, 2, 3, 4, 5, 6, 7, 8, 9, 10]\n",
    "target = 7\n",
    "\n",
    "start ,end=find_positions(arr , target)\n",
    "print(start,end)"
   ]
  },
  {
   "cell_type": "code",
   "execution_count": 3,
   "id": "6c8eb3f8",
   "metadata": {},
   "outputs": [
    {
     "name": "stdout",
     "output_type": "stream",
     "text": [
      "(3, 1)\n"
     ]
    }
   ],
   "source": [
    "def addtwonumber(num1 , num2):\n",
    "    a = [1, 2, 3, 4, 5]\n",
    "    l =a[2]\n",
    "    b = (1 ,2 ,3 ,4 )\n",
    "    k = b[0]\n",
    "    return l , k\n",
    "e = addtwonumber(2 , 4)\n",
    "print(e)\n"
   ]
  },
  {
   "cell_type": "code",
   "execution_count": 24,
   "id": "58323c5e",
   "metadata": {},
   "outputs": [],
   "source": [
    "def max_unique_array_length(N, arr):\n",
    "    # Initialize a set to store visited indices\n",
    "    visited = set()\n",
    "    max_length = 0\n",
    "    \n",
    "    for i in range(N):\n",
    "        length=0\n",
    "        curr_index=i\n",
    "        \n",
    "        while curr_index not in visited:\n",
    "            visited.add(curr_index)\n",
    "            length=+1\n",
    "            curr_index=arr[curr_index]\n",
    "\n",
    "        max_length=max(max_length, length)\n",
    "    return max_length\n"
   ]
  },
  {
   "cell_type": "code",
   "execution_count": 13,
   "id": "50d8cf98",
   "metadata": {},
   "outputs": [
    {
     "name": "stdout",
     "output_type": "stream",
     "text": [
      "3\n"
     ]
    }
   ],
   "source": [
    "arr=[1,2,4,5,6]\n",
    "def miss_num(arr):\n",
    "    n= len(arr)\n",
    "    t=n*(n+1)//2\n",
    "    p=sum(arr)\n",
    "    actual=p-t\n",
    "    return actual\n",
    "\n",
    "print(miss_num(arr))"
   ]
  },
  {
   "cell_type": "code",
   "execution_count": 14,
   "id": "7087aeba",
   "metadata": {},
   "outputs": [
    {
     "name": "stdout",
     "output_type": "stream",
     "text": [
      "enter first stringnitin\n",
      "enter second stringnitish\n",
      "{'t', 'n', 'i'}\n"
     ]
    }
   ],
   "source": [
    "def common_letter():\n",
    "    string_1=input(\"enter first string\")\n",
    "    string_2 = input(\"enter second string\")\n",
    "    s1=set(string_1)\n",
    "    s2=set(string_2)\n",
    "    lst=s1&s1\n",
    "    print(lst)\n",
    "common_letter()"
   ]
  },
  {
   "cell_type": "code",
   "execution_count": 35,
   "id": "48b07f47",
   "metadata": {
    "scrolled": true
   },
   "outputs": [
    {
     "name": "stdout",
     "output_type": "stream",
     "text": [
      "-374\n"
     ]
    }
   ],
   "source": [
    "lst=[11, 2, 63, 45, 35, 60, 77, 8, 29, 110]\n",
    "total_sum = (len(lst) + 1) * (len(lst) + 2) // 2\n",
    "sum_1=sum(lst)\n",
    "result=total_sum-sum_1\n",
    "print(result)"
   ]
  },
  {
   "cell_type": "code",
   "execution_count": 9,
   "id": "85adcdc7",
   "metadata": {},
   "outputs": [
    {
     "name": "stdout",
     "output_type": "stream",
     "text": [
      "12\n"
     ]
    },
    {
     "data": {
      "text/plain": [
       "-371"
      ]
     },
     "execution_count": 9,
     "metadata": {},
     "output_type": "execute_result"
    }
   ],
   "source": [
    "def find_missnuber(N , arr):\n",
    "    total_sum= N*(N+1)//2\n",
    "    sum_1=sum(arr)\n",
    "    result=total_sum-sum_1\n",
    "    return result\n",
    "arr=[11, 2, 63, 45, 35, 60, 77, 8, 29, 110 , 9]\n",
    "N = len(arr) + 1\n",
    "print(N)\n",
    "find_missnuber(N, arr)"
   ]
  },
  {
   "cell_type": "code",
   "execution_count": 1,
   "id": "6ce9c333",
   "metadata": {},
   "outputs": [
    {
     "name": "stdout",
     "output_type": "stream",
     "text": [
      "[2, 0, 0, 3, 4, 0, 4, 1]\n"
     ]
    }
   ],
   "source": [
    "text =[1 ,2 , 0 ,0,3,4 , 0 ,  4]\n",
    "list_1=[item for item in text if item !=1] + [item for item in text if item ==1]\n",
    "print(list_1)"
   ]
  },
  {
   "cell_type": "code",
   "execution_count": 5,
   "id": "1c6320ae",
   "metadata": {},
   "outputs": [
    {
     "name": "stdout",
     "output_type": "stream",
     "text": [
      "Middle character(s) of 'hello': l\n",
      "Middle character(s) of 'python': t\n"
     ]
    }
   ],
   "source": [
    "def find_middle_characters(string):\n",
    "    length = len(string)\n",
    "    middle_index = length // 2  # Integer division to get the middle index\n",
    "    \n",
    "    if length % 2 == 1:  # Odd-length string\n",
    "        return string[middle_index]\n",
    "    else:  # Even-length string\n",
    "        return string[middle_index - 1]\n",
    "\n",
    "# Example usage:\n",
    "string1 = \"hello\"\n",
    "string2 = \"python\"\n",
    "\n",
    "print(\"Middle character(s) of '{}':\".format(string1), find_middle_characters(string1))\n",
    "print(\"Middle character(s) of '{}':\".format(string2), find_middle_characters(string2))"
   ]
  },
  {
   "cell_type": "code",
   "execution_count": 8,
   "id": "39c39293",
   "metadata": {},
   "outputs": [
    {
     "name": "stdout",
     "output_type": "stream",
     "text": [
      "uniqu item in list is: ['m', 'y', ' ', 'n', 'a', 'e', 'i', 's', 't', 'r', 'g', 'o', 'b', 'c', 'd'] m  niin i am tyin t eome a goo coder\n",
      "uniqu item in list is: ['m', ' ', ' ', 'n', 'i', 'i', 'n', ' ', 'i', ' ', 'a', 'm', ' ', 't', 'y', 'i', 'n', ' ', 't', ' ', 'e', 'o', 'm', 'e', ' ', 'a', ' ', 'g', 'o', 'o', ' ', 'c', 'o', 'd', 'e', 'r']\n"
     ]
    }
   ],
   "source": [
    "string='my name is nitin i am trying to become a good coder'\n",
    "list1=[]\n",
    "duplicate=[]\n",
    "\n",
    "for i in string:\n",
    "    if i in list1:\n",
    "        duplicate.append(i)\n",
    "    else:\n",
    "        list1.append(i)\n",
    "dl = \"\".join(duplicate)        \n",
    "print(\"uniqu item in list is:\" , list1  , dl)\n",
    "        \n",
    "print(\"uniqu item in list is:\" ,duplicate)"
   ]
  },
  {
   "cell_type": "code",
   "execution_count": 4,
   "id": "27b02789",
   "metadata": {},
   "outputs": [
    {
     "ename": "SyntaxError",
     "evalue": "unexpected EOF while parsing (1124158539.py, line 12)",
     "output_type": "error",
     "traceback": [
      "\u001b[1;36m  File \u001b[1;32m\"C:\\Users\\nitcha01\\AppData\\Local\\Temp\\ipykernel_18152\\1124158539.py\"\u001b[1;36m, line \u001b[1;32m12\u001b[0m\n\u001b[1;33m    #print(\"duplicate string id:\",duplicate)\u001b[0m\n\u001b[1;37m                                            ^\u001b[0m\n\u001b[1;31mSyntaxError\u001b[0m\u001b[1;31m:\u001b[0m unexpected EOF while parsing\n"
     ]
    }
   ],
   "source": [
    "string='my name is nitin i am trying to become a good coder'\n",
    "list1=[]\n",
    "duplicate=[]\n",
    "\n",
    "for i in string:\n",
    "    if i in list1:\n",
    "        duplicate.append(i)\n",
    "    else:\n",
    "        list1.append(i)\n",
    "\n",
    "print(''.join(list1)\n",
    "#print(\"duplicate string id:\",duplicate)\n"
   ]
  },
  {
   "cell_type": "code",
   "execution_count": 7,
   "id": "3f01871f",
   "metadata": {},
   "outputs": [
    {
     "name": "stdout",
     "output_type": "stream",
     "text": [
      "['My', 'Name', 'Is', 'Nitin', 'I', 'Am', 'Trying', 'To', 'Become', 'A', 'Good', 'Coder']\n"
     ]
    }
   ],
   "source": [
    "string='my name is nitin i am trying to become a good coder'\n",
    "word=[]\n",
    "for i in string.split():\n",
    "    word.append(i[0].upper() + i[1:].lower())\n",
    "print(word)"
   ]
  },
  {
   "cell_type": "code",
   "execution_count": 9,
   "id": "0b4af478",
   "metadata": {},
   "outputs": [
    {
     "name": "stdout",
     "output_type": "stream",
     "text": [
      "Coder\n"
     ]
    }
   ],
   "source": [
    "string = 'my name is nitin i am trying to become a good coder'\n",
    "words = []\n",
    "\n",
    "for i in string.split():\n",
    "    words.append(i[0].upper() + i[1:].lower())\n",
    "print(words[-1])  # Print the last word added to the list\n",
    "\n",
    "# If you want to print the entire list after the loop, you can do it like this:\n",
    "# print(words)\n"
   ]
  },
  {
   "cell_type": "code",
   "execution_count": 7,
   "id": "15ebdd34",
   "metadata": {},
   "outputs": [
    {
     "name": "stdout",
     "output_type": "stream",
     "text": [
      "[1]\n"
     ]
    }
   ],
   "source": [
    "lst=[1 , 2, 3, 4, 5, 6, 8,7]\n",
    "b=lst[:1:2]\n",
    "print(b)"
   ]
  },
  {
   "cell_type": "code",
   "execution_count": 31,
   "id": "2b72df0e",
   "metadata": {},
   "outputs": [
    {
     "name": "stdout",
     "output_type": "stream",
     "text": [
      "[1, 2, 3, 4, 5, 6, 8, 7]\n"
     ]
    },
    {
     "ename": "AttributeError",
     "evalue": "'int' object has no attribute 'pop'",
     "output_type": "error",
     "traceback": [
      "\u001b[1;31m---------------------------------------------------------------------------\u001b[0m",
      "\u001b[1;31mAttributeError\u001b[0m                            Traceback (most recent call last)",
      "\u001b[1;32m~\\AppData\\Local\\Temp\\ipykernel_12000\\2316177686.py\u001b[0m in \u001b[0;36m<module>\u001b[1;34m\u001b[0m\n\u001b[0;32m      7\u001b[0m \u001b[0mword_2\u001b[0m\u001b[1;33m=\u001b[0m\u001b[1;33m[\u001b[0m\u001b[1;33m]\u001b[0m\u001b[1;33m\u001b[0m\u001b[1;33m\u001b[0m\u001b[0m\n\u001b[0;32m      8\u001b[0m \u001b[1;32mfor\u001b[0m \u001b[0mi\u001b[0m \u001b[1;32min\u001b[0m \u001b[0mword\u001b[0m\u001b[1;33m:\u001b[0m\u001b[1;33m\u001b[0m\u001b[1;33m\u001b[0m\u001b[0m\n\u001b[1;32m----> 9\u001b[1;33m     \u001b[0mword_2\u001b[0m\u001b[1;33m.\u001b[0m\u001b[0mappend\u001b[0m\u001b[1;33m(\u001b[0m\u001b[0mi\u001b[0m\u001b[1;33m.\u001b[0m\u001b[0mpop\u001b[0m\u001b[1;33m(\u001b[0m\u001b[1;33m)\u001b[0m\u001b[1;33m)\u001b[0m\u001b[1;33m\u001b[0m\u001b[1;33m\u001b[0m\u001b[0m\n\u001b[0m\u001b[0;32m     10\u001b[0m \u001b[1;33m\u001b[0m\u001b[0m\n\u001b[0;32m     11\u001b[0m \u001b[0mprint\u001b[0m\u001b[1;33m(\u001b[0m\u001b[0mword_2\u001b[0m\u001b[1;33m)\u001b[0m\u001b[1;33m\u001b[0m\u001b[1;33m\u001b[0m\u001b[0m\n",
      "\u001b[1;31mAttributeError\u001b[0m: 'int' object has no attribute 'pop'"
     ]
    }
   ],
   "source": [
    "lst=[1 , 2, 3, 4, 5, 6, 8,7]\n",
    "word=[]\n",
    "\n",
    "for i in lst:\n",
    "    word.append(i)\n",
    "print(word)\n",
    "word_2=[]\n",
    "for i in word:\n",
    "    word_2.append(i.pop())\n",
    "    \n",
    "print(word_2)"
   ]
  },
  {
   "cell_type": "code",
   "execution_count": 15,
   "id": "232dc76c",
   "metadata": {},
   "outputs": [
    {
     "name": "stdout",
     "output_type": "stream",
     "text": [
      "[2, 3, 4, 5, 7, 9, 66, 78]\n"
     ]
    }
   ],
   "source": [
    "lst= [2 , 3 ,4 ,5,66 ,7,78 ,9]\n",
    "n=len(lst)\n",
    "for i in range(n):\n",
    "    for j in range(i+1 , n):\n",
    "        if lst[i] > lst[j]:\n",
    "            lst[i],lst[j]=lst[j],lst[i]\n",
    "            \n",
    "print(lst)"
   ]
  },
  {
   "cell_type": "code",
   "execution_count": 21,
   "id": "26601a59",
   "metadata": {},
   "outputs": [
    {
     "name": "stdout",
     "output_type": "stream",
     "text": [
      "0\n",
      "1\n",
      "1\n",
      "2\n"
     ]
    }
   ],
   "source": [
    "def fib():\n",
    "    p, q=0 ,1\n",
    "    while True:\n",
    "        yield p\n",
    "        p, q=q , p+q\n",
    "        \n",
    "f=fib()\n",
    "print(next(f))\n",
    "print(next(f))\n",
    "print(next(f))\n",
    "print(next(f))    "
   ]
  },
  {
   "cell_type": "code",
   "execution_count": 10,
   "id": "c492c95f",
   "metadata": {},
   "outputs": [
    {
     "name": "stdout",
     "output_type": "stream",
     "text": [
      "0\n",
      "1\n",
      "1\n",
      "2\n"
     ]
    }
   ],
   "source": [
    "def fib():\n",
    "    a , b=0 ,1\n",
    "    while True:\n",
    "        yield a\n",
    "        a , b= b, a+b\n",
    "f = fib()\n",
    "print(next(f))\n",
    "print(next(f))\n",
    "print(next(f))\n",
    "print(next(f))"
   ]
  },
  {
   "cell_type": "code",
   "execution_count": 10,
   "id": "9b5a92b1",
   "metadata": {},
   "outputs": [
    {
     "ename": "TypeError",
     "evalue": "unique_string() takes 0 positional arguments but 1 was given",
     "output_type": "error",
     "traceback": [
      "\u001b[1;31m---------------------------------------------------------------------------\u001b[0m",
      "\u001b[1;31mTypeError\u001b[0m                                 Traceback (most recent call last)",
      "\u001b[1;32m~\\AppData\\Local\\Temp\\ipykernel_7228\\3998637632.py\u001b[0m in \u001b[0;36m<module>\u001b[1;34m\u001b[0m\n\u001b[0;32m      7\u001b[0m     \u001b[1;32mreturn\u001b[0m \u001b[0mword\u001b[0m\u001b[1;33m\u001b[0m\u001b[1;33m\u001b[0m\u001b[0m\n\u001b[0;32m      8\u001b[0m \u001b[1;33m\u001b[0m\u001b[0m\n\u001b[1;32m----> 9\u001b[1;33m \u001b[0munique_string\u001b[0m\u001b[1;33m(\u001b[0m\u001b[0mstring\u001b[0m\u001b[1;33m)\u001b[0m\u001b[1;33m\u001b[0m\u001b[1;33m\u001b[0m\u001b[0m\n\u001b[0m\u001b[0;32m     10\u001b[0m \u001b[1;33m\u001b[0m\u001b[0m\n",
      "\u001b[1;31mTypeError\u001b[0m: unique_string() takes 0 positional arguments but 1 was given"
     ]
    }
   ],
   "source": [
    "string='My name is nitin my , nitin'\n",
    "word = set()\n",
    "def unique_string():\n",
    "    word = set()\n",
    "    for _ in range(1000):\n",
    "        word.add(unique_string())\n",
    "    return word\n",
    "\n",
    "unique_string()\n",
    "    "
   ]
  },
  {
   "cell_type": "code",
   "execution_count": 12,
   "id": "b84c08d1",
   "metadata": {},
   "outputs": [
    {
     "name": "stdout",
     "output_type": "stream",
     "text": [
      "{'name', 'is', 'nitin', 'My', ',', 'my'}\n"
     ]
    }
   ],
   "source": [
    "def unique_string(string):\n",
    "    word_set = set(string.split())\n",
    "    return word_set\n",
    "\n",
    "string = 'My name is nitin my , nitin'\n",
    "unique_words = unique_string(string)\n",
    "print(unique_words)\n"
   ]
  },
  {
   "cell_type": "code",
   "execution_count": 10,
   "id": "3324d791",
   "metadata": {},
   "outputs": [],
   "source": [
    "string = 'My name is nitin My  nitin'\n",
    "word=[]"
   ]
  },
  {
   "cell_type": "code",
   "execution_count": 11,
   "id": "6827b9fe",
   "metadata": {},
   "outputs": [
    {
     "name": "stdout",
     "output_type": "stream",
     "text": [
      "['My', 'name', 'is', 'nitin']\n"
     ]
    }
   ],
   "source": [
    "for i in string.split():\n",
    "    if i not in word:\n",
    "        word.append(i)\n",
    "        \n",
    "print(word)"
   ]
  },
  {
   "cell_type": "code",
   "execution_count": 25,
   "id": "2e48c12b",
   "metadata": {},
   "outputs": [
    {
     "ename": "TypeError",
     "evalue": "unsupported operand type(s) for %: 'tuple' and 'int'",
     "output_type": "error",
     "traceback": [
      "\u001b[1;31m---------------------------------------------------------------------------\u001b[0m",
      "\u001b[1;31mTypeError\u001b[0m                                 Traceback (most recent call last)",
      "\u001b[1;32m~\\AppData\\Local\\Temp\\ipykernel_25380\\2576298391.py\u001b[0m in \u001b[0;36m<module>\u001b[1;34m\u001b[0m\n\u001b[0;32m      2\u001b[0m \u001b[0mword\u001b[0m \u001b[1;33m=\u001b[0m\u001b[1;33m[\u001b[0m\u001b[1;33m]\u001b[0m\u001b[1;33m\u001b[0m\u001b[1;33m\u001b[0m\u001b[0m\n\u001b[0;32m      3\u001b[0m \u001b[1;32mfor\u001b[0m \u001b[0mi\u001b[0m \u001b[1;32min\u001b[0m \u001b[0menumerate\u001b[0m\u001b[1;33m(\u001b[0m\u001b[0ma\u001b[0m\u001b[1;33m)\u001b[0m\u001b[1;33m:\u001b[0m\u001b[1;33m\u001b[0m\u001b[1;33m\u001b[0m\u001b[0m\n\u001b[1;32m----> 4\u001b[1;33m      \u001b[1;32mif\u001b[0m \u001b[0mi\u001b[0m\u001b[1;33m%\u001b[0m\u001b[1;36m2\u001b[0m \u001b[1;33m==\u001b[0m\u001b[1;36m0\u001b[0m \u001b[1;32mand\u001b[0m  \u001b[0mi\u001b[0m\u001b[1;33m%\u001b[0m\u001b[1;36m3\u001b[0m\u001b[1;33m==\u001b[0m\u001b[1;36m0\u001b[0m\u001b[1;33m:\u001b[0m\u001b[1;33m\u001b[0m\u001b[1;33m\u001b[0m\u001b[0m\n\u001b[0m\u001b[0;32m      5\u001b[0m             \u001b[0mword\u001b[0m\u001b[1;33m.\u001b[0m\u001b[0mappend\u001b[0m\u001b[1;33m(\u001b[0m\u001b[0mi\u001b[0m\u001b[1;33m)\u001b[0m\u001b[1;33m\u001b[0m\u001b[1;33m\u001b[0m\u001b[0m\n\u001b[0;32m      6\u001b[0m \u001b[1;33m\u001b[0m\u001b[0m\n",
      "\u001b[1;31mTypeError\u001b[0m: unsupported operand type(s) for %: 'tuple' and 'int'"
     ]
    }
   ],
   "source": [
    "a = [2 , 3 ,4 ,5,66 ,7,78 ,9]\n",
    "word =[]\n",
    "for i in enumerate(a):\n",
    "     if i%2 ==0 and  i%3==0:\n",
    "            a[i]='fizbuzz'\n",
    "    if i %3== 0:\n",
    "        a\n",
    "            \n",
    "print(word)"
   ]
  },
  {
   "cell_type": "code",
   "execution_count": 31,
   "id": "f775e1bf",
   "metadata": {},
   "outputs": [
    {
     "name": "stdout",
     "output_type": "stream",
     "text": [
      "0\n",
      "1\n",
      "1\n",
      "2\n",
      "3\n",
      "5\n"
     ]
    }
   ],
   "source": [
    "def fibb():\n",
    "    p, q = 0 , 1\n",
    "    while True:\n",
    "        yield p\n",
    "        p, q=q, p+q\n",
    "    \n",
    "f= fibb()\n",
    "print(next(f))\n",
    "print(next(f))\n",
    "print(next(f))\n",
    "print(next(f))\n",
    "print(next(f))\n",
    "print(next(f))"
   ]
  },
  {
   "cell_type": "code",
   "execution_count": 40,
   "id": "952d5c56",
   "metadata": {},
   "outputs": [
    {
     "name": "stdout",
     "output_type": "stream",
     "text": [
      "1\r\n",
      "12\r\n",
      "123\r\n",
      "1234\r\n",
      "12345\r\n"
     ]
    }
   ],
   "source": [
    "def myfunc(n):\n",
    "    num= 1\n",
    "    for i in range(n):\n",
    "        num= 1\n",
    "        for j in range(i+1):\n",
    "            print(num,end=\"\")\n",
    "            num = num+1\n",
    "        print(\"\\r\")\n",
    "\n",
    "n = 5\n",
    "myfunc(n)"
   ]
  },
  {
   "cell_type": "code",
   "execution_count": 41,
   "id": "519f37d8",
   "metadata": {},
   "outputs": [
    {
     "name": "stdout",
     "output_type": "stream",
     "text": [
      "A"
     ]
    },
    {
     "ename": "TypeError",
     "evalue": "can only concatenate str (not \"int\") to str",
     "output_type": "error",
     "traceback": [
      "\u001b[1;31m---------------------------------------------------------------------------\u001b[0m",
      "\u001b[1;31mTypeError\u001b[0m                                 Traceback (most recent call last)",
      "\u001b[1;32m~\\AppData\\Local\\Temp\\ipykernel_25380\\2924140513.py\u001b[0m in \u001b[0;36m<module>\u001b[1;34m\u001b[0m\n\u001b[0;32m      9\u001b[0m \u001b[1;33m\u001b[0m\u001b[0m\n\u001b[0;32m     10\u001b[0m \u001b[0mn\u001b[0m \u001b[1;33m=\u001b[0m \u001b[1;36m5\u001b[0m\u001b[1;33m\u001b[0m\u001b[1;33m\u001b[0m\u001b[0m\n\u001b[1;32m---> 11\u001b[1;33m \u001b[0mmyfunc\u001b[0m\u001b[1;33m(\u001b[0m\u001b[0mn\u001b[0m\u001b[1;33m)\u001b[0m\u001b[1;33m\u001b[0m\u001b[1;33m\u001b[0m\u001b[0m\n\u001b[0m",
      "\u001b[1;32m~\\AppData\\Local\\Temp\\ipykernel_25380\\2924140513.py\u001b[0m in \u001b[0;36mmyfunc\u001b[1;34m(n)\u001b[0m\n\u001b[0;32m      5\u001b[0m         \u001b[1;32mfor\u001b[0m \u001b[0mj\u001b[0m \u001b[1;32min\u001b[0m \u001b[0mrange\u001b[0m\u001b[1;33m(\u001b[0m\u001b[0mi\u001b[0m\u001b[1;33m+\u001b[0m\u001b[1;36m1\u001b[0m\u001b[1;33m)\u001b[0m\u001b[1;33m:\u001b[0m\u001b[1;33m\u001b[0m\u001b[1;33m\u001b[0m\u001b[0m\n\u001b[0;32m      6\u001b[0m             \u001b[0mprint\u001b[0m\u001b[1;33m(\u001b[0m\u001b[0mnum\u001b[0m\u001b[1;33m,\u001b[0m\u001b[0mend\u001b[0m\u001b[1;33m=\u001b[0m\u001b[1;34m\"\"\u001b[0m\u001b[1;33m)\u001b[0m\u001b[1;33m\u001b[0m\u001b[1;33m\u001b[0m\u001b[0m\n\u001b[1;32m----> 7\u001b[1;33m             \u001b[0mnum\u001b[0m \u001b[1;33m=\u001b[0m \u001b[0mnum\u001b[0m\u001b[1;33m+\u001b[0m\u001b[1;36m1\u001b[0m\u001b[1;33m\u001b[0m\u001b[1;33m\u001b[0m\u001b[0m\n\u001b[0m\u001b[0;32m      8\u001b[0m         \u001b[0mprint\u001b[0m\u001b[1;33m(\u001b[0m\u001b[1;34m\"\\r\"\u001b[0m\u001b[1;33m)\u001b[0m\u001b[1;33m\u001b[0m\u001b[1;33m\u001b[0m\u001b[0m\n\u001b[0;32m      9\u001b[0m \u001b[1;33m\u001b[0m\u001b[0m\n",
      "\u001b[1;31mTypeError\u001b[0m: can only concatenate str (not \"int\") to str"
     ]
    }
   ],
   "source": [
    "def myfunc(n):\n",
    "    num= \"A\"\n",
    "    for i in range(n):\n",
    "        num= \"A\"\n",
    "        for j in range(i+1):\n",
    "            print(num,end=\"\")\n",
    "            num = num+1\n",
    "        print(\"\\r\")\n",
    "\n",
    "n = 5\n",
    "myfunc(n)"
   ]
  },
  {
   "cell_type": "code",
   "execution_count": 35,
   "id": "7839ba8f",
   "metadata": {},
   "outputs": [
    {
     "name": "stdout",
     "output_type": "stream",
     "text": [
      "    * \r\n",
      "   * * \r\n",
      "  * * * \r\n",
      " * * * * \r\n",
      "* * * * * \r\n"
     ]
    }
   ],
   "source": [
    "n =5\n",
    "k = n - 1\n",
    "for i in range(0, n):\n",
    "    for j in range(0, k):\n",
    "        print(end=\" \")\n",
    "    k = k - 1\n",
    "    for j in range(0, i+1):\n",
    "        print(\"* \", end=\"\")\n",
    "    print(\"\\r\")"
   ]
  },
  {
   "cell_type": "code",
   "execution_count": 9,
   "id": "ab1b50b9",
   "metadata": {},
   "outputs": [
    {
     "name": "stdout",
     "output_type": "stream",
     "text": [
      "5\n"
     ]
    }
   ],
   "source": [
    "string = 'My name is nitin My  nitin'\n",
    "character = \"n\"\n",
    "count = 0\n",
    "for letter in string:\n",
    "    if letter == character:\n",
    "        count += 1\n",
    "print(count)\n"
   ]
  },
  {
   "cell_type": "code",
   "execution_count": 113,
   "id": "cc106ae1",
   "metadata": {},
   "outputs": [
    {
     "name": "stdout",
     "output_type": "stream",
     "text": [
      "0\n"
     ]
    }
   ],
   "source": [
    "string = 'My name is nitin My  nitin'\n",
    "count = 0\n",
    "for letter in string:\n",
    "    if letter == string:\n",
    "        count += 1\n",
    "print(count)"
   ]
  },
  {
   "cell_type": "code",
   "execution_count": 27,
   "id": "2d6b159a",
   "metadata": {},
   "outputs": [
    {
     "name": "stdout",
     "output_type": "stream",
     "text": [
      "125\n"
     ]
    }
   ],
   "source": [
    "numberList = [15, 85, 35, 89, 125]\n",
    "\n",
    "maxNum = numberList[0]\n",
    "for num in numberList:\n",
    "    if maxNum < num:\n",
    "        maxNum = num\n",
    "print(maxNum)"
   ]
  },
  {
   "cell_type": "code",
   "execution_count": 18,
   "id": "5ac87c9e",
   "metadata": {},
   "outputs": [
    {
     "name": "stdout",
     "output_type": "stream",
     "text": [
      "max number is 125\n",
      "second number is 89\n",
      "lowest number is 15\n"
     ]
    }
   ],
   "source": [
    "max_num=numberList[0]\n",
    "second_num=numberList[0]\n",
    "lowest_num=numberList[0]\n",
    "for i in numberList:\n",
    "    if i >max_num:\n",
    "        second_num=max_num\n",
    "        max_num=i\n",
    "    elif i >second_num and i < max_num:\n",
    "        second_num=i\n",
    "        \n",
    "    elif i < lowest_num:\n",
    "        lowest_num=i\n",
    "        \n",
    "print(f\"max number is {max_num}\")\n",
    "print(f\"second number is {second_num}\")\n",
    "print(f\"lowest number is {lowest_num}\")"
   ]
  },
  {
   "cell_type": "code",
   "execution_count": 52,
   "id": "a55bae9a",
   "metadata": {},
   "outputs": [
    {
     "name": "stdout",
     "output_type": "stream",
     "text": [
      "is anargm\n"
     ]
    }
   ],
   "source": [
    "str1 = \"python\"\n",
    "str2 = \"yonthp\"\n",
    "\n",
    "\n",
    "if (sorted(str1) == sorted(str2)):\n",
    "    print('is anargm')\n",
    "else:\n",
    "    print( 'not anagram')"
   ]
  },
  {
   "cell_type": "code",
   "execution_count": 21,
   "id": "13d50b6d",
   "metadata": {},
   "outputs": [
    {
     "name": "stdout",
     "output_type": "stream",
     "text": [
      "[['cat', 'tac', 'cat'], ['rat', 'atr'], ['owl', 'low']]\n"
     ]
    }
   ],
   "source": [
    "def nested_anagram(arr):\n",
    "    anagram={}\n",
    "    for i in arr:\n",
    "        sorted_anagram=\"\".join(sorted(i))\n",
    "        if sorted_anagram in anagram:\n",
    "            anagram[sorted_anagram].append(i)\n",
    "        else:\n",
    "            anagram[sorted_anagram]=[i]\n",
    "    return list(anagram.values())\n",
    "\n",
    "arr=['cat' , 'tac' , 'cat' , 'rat' , 'atr' , 'owl', 'low']\n",
    "print(nested_anagram(arr))\n"
   ]
  },
  {
   "cell_type": "code",
   "execution_count": 63,
   "id": "b3110a0f",
   "metadata": {},
   "outputs": [
    {
     "name": "stdout",
     "output_type": "stream",
     "text": [
      "balsasn\n"
     ]
    }
   ],
   "source": [
    "a = \"rahul\"\n",
    "if a==a[::-1]:\n",
    "    print('pallindroe')\n",
    "else:\n",
    "    print(\"balsasn\")"
   ]
  },
  {
   "cell_type": "code",
   "execution_count": null,
   "id": "bbb7549d",
   "metadata": {},
   "outputs": [],
   "source": [
    "a = \"rahul\"\n",
    "if a==a[::-1]:\n",
    "    print('pallindroe')\n",
    "else:\n",
    "    (\"balsasn\")"
   ]
  },
  {
   "cell_type": "code",
   "execution_count": 7,
   "id": "ed1d525a",
   "metadata": {},
   "outputs": [
    {
     "name": "stdout",
     "output_type": "stream",
     "text": [
      "Middle element of the linked list: 1\n"
     ]
    }
   ],
   "source": [
    "# Node class to define the structure of each node in the linked list\n",
    "class Node:\n",
    "    def __init__(self, data):\n",
    "        self.data = data\n",
    "        self.Next = None\n",
    "\n",
    "# Function to find the middle element of the linked list\n",
    "def find_middle(head):\n",
    "    # Initialize two pointers: slow and fast\n",
    "    slow = head\n",
    "    fast = head\n",
    "\n",
    "    \n",
    "    while fast and fast.Next:\n",
    "        # Move slow pointer one step forward\n",
    "        slow = slow.Next\n",
    "        # Move fast pointer two steps forward\n",
    "        fast = fast.Next.Next\n",
    "\n",
    "    # At this point, the slow pointer is at the middle of the linked list\n",
    "    return slow.data\n",
    "\n",
    "\n",
    "head = Node(1)\n",
    "head.next = Node(2)\n",
    "head.next.next = Node(3)\n",
    "head.next.next.next = Node(4)\n",
    "head.next.next.next.next = Node(5)\n",
    "\n",
    "middle = find_middle(head)\n",
    "print(\"Middle element of the linked list:\", middle)\n"
   ]
  },
  {
   "cell_type": "code",
   "execution_count": 2,
   "id": "989caeab",
   "metadata": {},
   "outputs": [
    {
     "name": "stdout",
     "output_type": "stream",
     "text": [
      "Middle element of the linked list: 3\n"
     ]
    }
   ],
   "source": [
    "# Node class to define the structure of each node in the linked list\n",
    "class Node:\n",
    "    def __init__(self, data):\n",
    "        self.data = data\n",
    "        self.next = None\n",
    "\n",
    "# Function to find the middle element of the linked list\n",
    "def find_middle(head):\n",
    "    # Initialize two pointers: slow and fast\n",
    "    slow = head\n",
    "    fast = head\n",
    "\n",
    "    # Traverse the linked list using two pointers\n",
    "    while fast and fast.next:\n",
    "        # Move slow pointer one step forward\n",
    "        slow = slow.next\n",
    "        # Move fast pointer two steps forward\n",
    "        fast = fast.next.next\n",
    "\n",
    "    # At this point, the slow pointer is at the middle of the linked list\n",
    "    return slow.data\n",
    "\n",
    "# Create a linked list\n",
    "# Example: 1 -> 2 -> 3 -> 4 -> 5 -> None\n",
    "head = Node(1)\n",
    "head.next = Node(2)\n",
    "head.next.next = Node(3)\n",
    "head.next.next.next = Node(4)\n",
    "head.next.next.next.next = Node(5)\n",
    "\n",
    "# Find the middle element of the linked list\n",
    "middle = find_middle(head)\n",
    "print(\"Middle element of the linked list:\", middle)\n"
   ]
  },
  {
   "cell_type": "code",
   "execution_count": 14,
   "id": "c86ea522",
   "metadata": {},
   "outputs": [
    {
     "name": "stdout",
     "output_type": "stream",
     "text": [
      "value of the 9 & 8\n",
      "None\n"
     ]
    }
   ],
   "source": [
    "def twosum(arr, target):\n",
    "    left = 0\n",
    "    right = len(arr)-1\n",
    "    while (left<=right):\n",
    "        if (arr[left]+arr[right] >target):\n",
    "            right = right-1\n",
    "        elif (arr[left]+arr[right] <target):\n",
    "            left = left+1\n",
    "            \n",
    "        else:\n",
    "            (arr[left]+arr[right] ==target)\n",
    "            print(f'value of the {arr[left]} & {arr[right]}')\n",
    "            right = right-1\n",
    "            left = left+1\n",
    "target = 17\n",
    "arr =[5 , 7 , 4 , 3 , 9 , 8,19 , 21]\n",
    "print(twosum(arr, target))"
   ]
  },
  {
   "cell_type": "code",
   "execution_count": 9,
   "id": "ee427415",
   "metadata": {},
   "outputs": [
    {
     "name": "stdout",
     "output_type": "stream",
     "text": [
      "Values of 9 & 8\n"
     ]
    }
   ],
   "source": [
    "def twosum(arr, target):\n",
    "    left = 0\n",
    "    right = len(arr) - 1\n",
    "    while left <= right:\n",
    "        if arr[left] + arr[right] > target:\n",
    "            right = right - 1\n",
    "        elif arr[left] + arr[right] < target:\n",
    "            left = left + 1\n",
    "        else:\n",
    "            print(f'Values of {arr[left]} & {arr[right]}')\n",
    "            right = right - 1\n",
    "            left = left + 1\n",
    "\n",
    "target = 17\n",
    "arr = [5, 7, 4, 3, 9, 8, 19, 21]\n",
    "twosum(arr, target)\n"
   ]
  },
  {
   "cell_type": "code",
   "execution_count": 17,
   "id": "fc79c503-0ed6-480b-989d-bdbc7d7514fa",
   "metadata": {},
   "outputs": [
    {
     "name": "stdout",
     "output_type": "stream",
     "text": [
      "Values of 9 & 8 =17\n"
     ]
    }
   ],
   "source": [
    "def tsum(arr,target):\n",
    "    for i in range(0,len(arr)):\n",
    "        for j in range(i+1 , len(arr)):\n",
    "            if arr[i] +arr[j]==target:\n",
    "                print(f'Values of {arr[i]} & {arr[j]} ={target}')\n",
    "target = 17\n",
    "arr = [5, 7, 4, 3, 9, 8, 19, 21]\n",
    "tsum(arr, target)"
   ]
  },
  {
   "cell_type": "code",
   "execution_count": 20,
   "id": "bb677c37",
   "metadata": {},
   "outputs": [
    {
     "name": "stdout",
     "output_type": "stream",
     "text": [
      "7+4 is euqla to 11\n",
      "3+8 is euqla to 11\n"
     ]
    }
   ],
   "source": [
    "arr = [5, 7, 4, 3, 9, 8, 19, 21]\n",
    "target = 11\n",
    "for i in range(len(arr)):\n",
    "    for j in range(i +1 , len(arr)):  \n",
    "        \n",
    "        if arr[i] + arr[j] == target:\n",
    "            print(f\"{arr[i]}+{arr[j]} is euqla to {target}\")\n"
   ]
  },
  {
   "cell_type": "code",
   "execution_count": 25,
   "id": "a01817bd",
   "metadata": {},
   "outputs": [
    {
     "name": "stdout",
     "output_type": "stream",
     "text": [
      "Indices of elements with sum 17: (4, 5)\n"
     ]
    }
   ],
   "source": [
    "def twosum(arr, target):\n",
    "    left = 0\n",
    "    right=len(arr)-1\n",
    "    while left <right:\n",
    "        if arr[left] + arr[right] > target:\n",
    "            right = right-1\n",
    "        elif arr[left] + arr[right] < target:\n",
    "            left = left +1\n",
    "        else:\n",
    "             return (left, right)\n",
    "target = 17\n",
    "arr = [5, 7, 4, 3, 9, 8, 19, 21]\n",
    "result = twosum(arr, target)\n",
    "if result:\n",
    "    print(f\"Indices of elements with sum {target}: {result}\")\n",
    "else:\n",
    "    print(\"No such pair found.\")"
   ]
  },
  {
   "cell_type": "code",
   "execution_count": 9,
   "id": "6b6b74c4",
   "metadata": {},
   "outputs": [],
   "source": [
    "import numpy as np\n",
    "import pandas as pd"
   ]
  },
  {
   "cell_type": "code",
   "execution_count": 10,
   "id": "02993783",
   "metadata": {},
   "outputs": [
    {
     "data": {
      "text/html": [
       "<div>\n",
       "<style scoped>\n",
       "    .dataframe tbody tr th:only-of-type {\n",
       "        vertical-align: middle;\n",
       "    }\n",
       "\n",
       "    .dataframe tbody tr th {\n",
       "        vertical-align: top;\n",
       "    }\n",
       "\n",
       "    .dataframe thead th {\n",
       "        text-align: right;\n",
       "    }\n",
       "</style>\n",
       "<table border=\"1\" class=\"dataframe\">\n",
       "  <thead>\n",
       "    <tr style=\"text-align: right;\">\n",
       "      <th></th>\n",
       "      <th>Name</th>\n",
       "      <th>Marks</th>\n",
       "    </tr>\n",
       "  </thead>\n",
       "  <tbody>\n",
       "    <tr>\n",
       "      <th>0</th>\n",
       "      <td>nitin Chaudhary</td>\n",
       "      <td>5</td>\n",
       "    </tr>\n",
       "    <tr>\n",
       "      <th>1</th>\n",
       "      <td>rahul Jha</td>\n",
       "      <td>6</td>\n",
       "    </tr>\n",
       "    <tr>\n",
       "      <th>2</th>\n",
       "      <td>sumit thakur</td>\n",
       "      <td>88</td>\n",
       "    </tr>\n",
       "    <tr>\n",
       "      <th>3</th>\n",
       "      <td>harsh kumar</td>\n",
       "      <td>2</td>\n",
       "    </tr>\n",
       "  </tbody>\n",
       "</table>\n",
       "</div>"
      ],
      "text/plain": [
       "              Name  Marks\n",
       "0  nitin Chaudhary      5\n",
       "1        rahul Jha      6\n",
       "2     sumit thakur     88\n",
       "3      harsh kumar      2"
      ]
     },
     "execution_count": 10,
     "metadata": {},
     "output_type": "execute_result"
    }
   ],
   "source": [
    "student_name = ['nitin Chaudhary' , 'rahul Jha' , 'sumit thakur', 'harsh kumar']\n",
    "marks=[5 , 6 ,88 , 2 ]\n",
    "\n",
    "df = pd.DataFrame({'Name':student_name , 'Marks':marks})\n",
    "df"
   ]
  },
  {
   "cell_type": "code",
   "execution_count": 17,
   "id": "60d2453e",
   "metadata": {},
   "outputs": [],
   "source": [
    "df['Last_name']=df['Name'].str.split(' ').str[-1]"
   ]
  },
  {
   "cell_type": "code",
   "execution_count": 19,
   "id": "3bb4d728",
   "metadata": {
    "collapsed": true,
    "jupyter": {
     "outputs_hidden": true
    }
   },
   "outputs": [
    {
     "ename": "KeyError",
     "evalue": "\"['last_name'] not found in axis\"",
     "output_type": "error",
     "traceback": [
      "\u001b[1;31m---------------------------------------------------------------------------\u001b[0m",
      "\u001b[1;31mKeyError\u001b[0m                                  Traceback (most recent call last)",
      "\u001b[1;32m~\\AppData\\Local\\Temp\\ipykernel_5488\\55723939.py\u001b[0m in \u001b[0;36m<module>\u001b[1;34m\u001b[0m\n\u001b[1;32m----> 1\u001b[1;33m \u001b[0mdf\u001b[0m\u001b[1;33m.\u001b[0m\u001b[0mdrop\u001b[0m\u001b[1;33m(\u001b[0m\u001b[0mcolumns\u001b[0m\u001b[1;33m=\u001b[0m\u001b[1;34m'last_name'\u001b[0m\u001b[1;33m,\u001b[0m \u001b[0minplace\u001b[0m \u001b[1;33m=\u001b[0m \u001b[1;32mTrue\u001b[0m\u001b[1;33m)\u001b[0m\u001b[1;33m\u001b[0m\u001b[1;33m\u001b[0m\u001b[0m\n\u001b[0m",
      "\u001b[1;32m~\\Anaconda3\\lib\\site-packages\\pandas\\util\\_decorators.py\u001b[0m in \u001b[0;36mwrapper\u001b[1;34m(*args, **kwargs)\u001b[0m\n\u001b[0;32m    309\u001b[0m                     \u001b[0mstacklevel\u001b[0m\u001b[1;33m=\u001b[0m\u001b[0mstacklevel\u001b[0m\u001b[1;33m,\u001b[0m\u001b[1;33m\u001b[0m\u001b[1;33m\u001b[0m\u001b[0m\n\u001b[0;32m    310\u001b[0m                 )\n\u001b[1;32m--> 311\u001b[1;33m             \u001b[1;32mreturn\u001b[0m \u001b[0mfunc\u001b[0m\u001b[1;33m(\u001b[0m\u001b[1;33m*\u001b[0m\u001b[0margs\u001b[0m\u001b[1;33m,\u001b[0m \u001b[1;33m**\u001b[0m\u001b[0mkwargs\u001b[0m\u001b[1;33m)\u001b[0m\u001b[1;33m\u001b[0m\u001b[1;33m\u001b[0m\u001b[0m\n\u001b[0m\u001b[0;32m    312\u001b[0m \u001b[1;33m\u001b[0m\u001b[0m\n\u001b[0;32m    313\u001b[0m         \u001b[1;32mreturn\u001b[0m \u001b[0mwrapper\u001b[0m\u001b[1;33m\u001b[0m\u001b[1;33m\u001b[0m\u001b[0m\n",
      "\u001b[1;32m~\\Anaconda3\\lib\\site-packages\\pandas\\core\\frame.py\u001b[0m in \u001b[0;36mdrop\u001b[1;34m(self, labels, axis, index, columns, level, inplace, errors)\u001b[0m\n\u001b[0;32m   4955\u001b[0m                 \u001b[0mweight\u001b[0m  \u001b[1;36m1.0\u001b[0m     \u001b[1;36m0.8\u001b[0m\u001b[1;33m\u001b[0m\u001b[1;33m\u001b[0m\u001b[0m\n\u001b[0;32m   4956\u001b[0m         \"\"\"\n\u001b[1;32m-> 4957\u001b[1;33m         return super().drop(\n\u001b[0m\u001b[0;32m   4958\u001b[0m             \u001b[0mlabels\u001b[0m\u001b[1;33m=\u001b[0m\u001b[0mlabels\u001b[0m\u001b[1;33m,\u001b[0m\u001b[1;33m\u001b[0m\u001b[1;33m\u001b[0m\u001b[0m\n\u001b[0;32m   4959\u001b[0m             \u001b[0maxis\u001b[0m\u001b[1;33m=\u001b[0m\u001b[0maxis\u001b[0m\u001b[1;33m,\u001b[0m\u001b[1;33m\u001b[0m\u001b[1;33m\u001b[0m\u001b[0m\n",
      "\u001b[1;32m~\\Anaconda3\\lib\\site-packages\\pandas\\core\\generic.py\u001b[0m in \u001b[0;36mdrop\u001b[1;34m(self, labels, axis, index, columns, level, inplace, errors)\u001b[0m\n\u001b[0;32m   4265\u001b[0m         \u001b[1;32mfor\u001b[0m \u001b[0maxis\u001b[0m\u001b[1;33m,\u001b[0m \u001b[0mlabels\u001b[0m \u001b[1;32min\u001b[0m \u001b[0maxes\u001b[0m\u001b[1;33m.\u001b[0m\u001b[0mitems\u001b[0m\u001b[1;33m(\u001b[0m\u001b[1;33m)\u001b[0m\u001b[1;33m:\u001b[0m\u001b[1;33m\u001b[0m\u001b[1;33m\u001b[0m\u001b[0m\n\u001b[0;32m   4266\u001b[0m             \u001b[1;32mif\u001b[0m \u001b[0mlabels\u001b[0m \u001b[1;32mis\u001b[0m \u001b[1;32mnot\u001b[0m \u001b[1;32mNone\u001b[0m\u001b[1;33m:\u001b[0m\u001b[1;33m\u001b[0m\u001b[1;33m\u001b[0m\u001b[0m\n\u001b[1;32m-> 4267\u001b[1;33m                 \u001b[0mobj\u001b[0m \u001b[1;33m=\u001b[0m \u001b[0mobj\u001b[0m\u001b[1;33m.\u001b[0m\u001b[0m_drop_axis\u001b[0m\u001b[1;33m(\u001b[0m\u001b[0mlabels\u001b[0m\u001b[1;33m,\u001b[0m \u001b[0maxis\u001b[0m\u001b[1;33m,\u001b[0m \u001b[0mlevel\u001b[0m\u001b[1;33m=\u001b[0m\u001b[0mlevel\u001b[0m\u001b[1;33m,\u001b[0m \u001b[0merrors\u001b[0m\u001b[1;33m=\u001b[0m\u001b[0merrors\u001b[0m\u001b[1;33m)\u001b[0m\u001b[1;33m\u001b[0m\u001b[1;33m\u001b[0m\u001b[0m\n\u001b[0m\u001b[0;32m   4268\u001b[0m \u001b[1;33m\u001b[0m\u001b[0m\n\u001b[0;32m   4269\u001b[0m         \u001b[1;32mif\u001b[0m \u001b[0minplace\u001b[0m\u001b[1;33m:\u001b[0m\u001b[1;33m\u001b[0m\u001b[1;33m\u001b[0m\u001b[0m\n",
      "\u001b[1;32m~\\Anaconda3\\lib\\site-packages\\pandas\\core\\generic.py\u001b[0m in \u001b[0;36m_drop_axis\u001b[1;34m(self, labels, axis, level, errors, consolidate, only_slice)\u001b[0m\n\u001b[0;32m   4309\u001b[0m                 \u001b[0mnew_axis\u001b[0m \u001b[1;33m=\u001b[0m \u001b[0maxis\u001b[0m\u001b[1;33m.\u001b[0m\u001b[0mdrop\u001b[0m\u001b[1;33m(\u001b[0m\u001b[0mlabels\u001b[0m\u001b[1;33m,\u001b[0m \u001b[0mlevel\u001b[0m\u001b[1;33m=\u001b[0m\u001b[0mlevel\u001b[0m\u001b[1;33m,\u001b[0m \u001b[0merrors\u001b[0m\u001b[1;33m=\u001b[0m\u001b[0merrors\u001b[0m\u001b[1;33m)\u001b[0m\u001b[1;33m\u001b[0m\u001b[1;33m\u001b[0m\u001b[0m\n\u001b[0;32m   4310\u001b[0m             \u001b[1;32melse\u001b[0m\u001b[1;33m:\u001b[0m\u001b[1;33m\u001b[0m\u001b[1;33m\u001b[0m\u001b[0m\n\u001b[1;32m-> 4311\u001b[1;33m                 \u001b[0mnew_axis\u001b[0m \u001b[1;33m=\u001b[0m \u001b[0maxis\u001b[0m\u001b[1;33m.\u001b[0m\u001b[0mdrop\u001b[0m\u001b[1;33m(\u001b[0m\u001b[0mlabels\u001b[0m\u001b[1;33m,\u001b[0m \u001b[0merrors\u001b[0m\u001b[1;33m=\u001b[0m\u001b[0merrors\u001b[0m\u001b[1;33m)\u001b[0m\u001b[1;33m\u001b[0m\u001b[1;33m\u001b[0m\u001b[0m\n\u001b[0m\u001b[0;32m   4312\u001b[0m             \u001b[0mindexer\u001b[0m \u001b[1;33m=\u001b[0m \u001b[0maxis\u001b[0m\u001b[1;33m.\u001b[0m\u001b[0mget_indexer\u001b[0m\u001b[1;33m(\u001b[0m\u001b[0mnew_axis\u001b[0m\u001b[1;33m)\u001b[0m\u001b[1;33m\u001b[0m\u001b[1;33m\u001b[0m\u001b[0m\n\u001b[0;32m   4313\u001b[0m \u001b[1;33m\u001b[0m\u001b[0m\n",
      "\u001b[1;32m~\\Anaconda3\\lib\\site-packages\\pandas\\core\\indexes\\base.py\u001b[0m in \u001b[0;36mdrop\u001b[1;34m(self, labels, errors)\u001b[0m\n\u001b[0;32m   6659\u001b[0m         \u001b[1;32mif\u001b[0m \u001b[0mmask\u001b[0m\u001b[1;33m.\u001b[0m\u001b[0many\u001b[0m\u001b[1;33m(\u001b[0m\u001b[1;33m)\u001b[0m\u001b[1;33m:\u001b[0m\u001b[1;33m\u001b[0m\u001b[1;33m\u001b[0m\u001b[0m\n\u001b[0;32m   6660\u001b[0m             \u001b[1;32mif\u001b[0m \u001b[0merrors\u001b[0m \u001b[1;33m!=\u001b[0m \u001b[1;34m\"ignore\"\u001b[0m\u001b[1;33m:\u001b[0m\u001b[1;33m\u001b[0m\u001b[1;33m\u001b[0m\u001b[0m\n\u001b[1;32m-> 6661\u001b[1;33m                 \u001b[1;32mraise\u001b[0m \u001b[0mKeyError\u001b[0m\u001b[1;33m(\u001b[0m\u001b[1;34mf\"{list(labels[mask])} not found in axis\"\u001b[0m\u001b[1;33m)\u001b[0m\u001b[1;33m\u001b[0m\u001b[1;33m\u001b[0m\u001b[0m\n\u001b[0m\u001b[0;32m   6662\u001b[0m             \u001b[0mindexer\u001b[0m \u001b[1;33m=\u001b[0m \u001b[0mindexer\u001b[0m\u001b[1;33m[\u001b[0m\u001b[1;33m~\u001b[0m\u001b[0mmask\u001b[0m\u001b[1;33m]\u001b[0m\u001b[1;33m\u001b[0m\u001b[1;33m\u001b[0m\u001b[0m\n\u001b[0;32m   6663\u001b[0m         \u001b[1;32mreturn\u001b[0m \u001b[0mself\u001b[0m\u001b[1;33m.\u001b[0m\u001b[0mdelete\u001b[0m\u001b[1;33m(\u001b[0m\u001b[0mindexer\u001b[0m\u001b[1;33m)\u001b[0m\u001b[1;33m\u001b[0m\u001b[1;33m\u001b[0m\u001b[0m\n",
      "\u001b[1;31mKeyError\u001b[0m: \"['last_name'] not found in axis\""
     ]
    }
   ],
   "source": [
    "df.drop(columns='last_name', inplace = True)"
   ]
  },
  {
   "cell_type": "code",
   "execution_count": 20,
   "id": "1e59c217",
   "metadata": {},
   "outputs": [],
   "source": [
    "df['First_name']=df['Name'].str.split(' ').str[0]"
   ]
  },
  {
   "cell_type": "code",
   "execution_count": 21,
   "id": "52758ba1",
   "metadata": {},
   "outputs": [],
   "source": [
    "df.rename(columns ={'Name':'Full_name'}, inplace= True)"
   ]
  },
  {
   "cell_type": "code",
   "execution_count": 22,
   "id": "60d2aacd",
   "metadata": {},
   "outputs": [
    {
     "data": {
      "text/html": [
       "<div>\n",
       "<style scoped>\n",
       "    .dataframe tbody tr th:only-of-type {\n",
       "        vertical-align: middle;\n",
       "    }\n",
       "\n",
       "    .dataframe tbody tr th {\n",
       "        vertical-align: top;\n",
       "    }\n",
       "\n",
       "    .dataframe thead th {\n",
       "        text-align: right;\n",
       "    }\n",
       "</style>\n",
       "<table border=\"1\" class=\"dataframe\">\n",
       "  <thead>\n",
       "    <tr style=\"text-align: right;\">\n",
       "      <th></th>\n",
       "      <th>Full_name</th>\n",
       "      <th>Marks</th>\n",
       "      <th>Last_name</th>\n",
       "      <th>First_name</th>\n",
       "    </tr>\n",
       "  </thead>\n",
       "  <tbody>\n",
       "    <tr>\n",
       "      <th>0</th>\n",
       "      <td>nitin Chaudhary</td>\n",
       "      <td>5</td>\n",
       "      <td>Chaudhary</td>\n",
       "      <td>nitin</td>\n",
       "    </tr>\n",
       "    <tr>\n",
       "      <th>1</th>\n",
       "      <td>rahul Jha</td>\n",
       "      <td>6</td>\n",
       "      <td>Jha</td>\n",
       "      <td>rahul</td>\n",
       "    </tr>\n",
       "    <tr>\n",
       "      <th>2</th>\n",
       "      <td>sumit thakur</td>\n",
       "      <td>88</td>\n",
       "      <td>thakur</td>\n",
       "      <td>sumit</td>\n",
       "    </tr>\n",
       "    <tr>\n",
       "      <th>3</th>\n",
       "      <td>harsh kumar</td>\n",
       "      <td>2</td>\n",
       "      <td>kumar</td>\n",
       "      <td>harsh</td>\n",
       "    </tr>\n",
       "  </tbody>\n",
       "</table>\n",
       "</div>"
      ],
      "text/plain": [
       "         Full_name  Marks  Last_name First_name\n",
       "0  nitin Chaudhary      5  Chaudhary      nitin\n",
       "1        rahul Jha      6        Jha      rahul\n",
       "2     sumit thakur     88     thakur      sumit\n",
       "3      harsh kumar      2      kumar      harsh"
      ]
     },
     "execution_count": 22,
     "metadata": {},
     "output_type": "execute_result"
    }
   ],
   "source": [
    "df"
   ]
  },
  {
   "cell_type": "code",
   "execution_count": 19,
   "id": "82c2ab1c",
   "metadata": {},
   "outputs": [
    {
     "ename": "NameError",
     "evalue": "name 'pd' is not defined",
     "output_type": "error",
     "traceback": [
      "\u001b[1;31m---------------------------------------------------------------------------\u001b[0m",
      "\u001b[1;31mNameError\u001b[0m                                 Traceback (most recent call last)",
      "Cell \u001b[1;32mIn[19], line 4\u001b[0m\n\u001b[0;32m      1\u001b[0m student_name \u001b[38;5;241m=\u001b[39m [\u001b[38;5;124m'\u001b[39m\u001b[38;5;124mnitin#@\u001b[39m\u001b[38;5;124m'\u001b[39m , \u001b[38;5;124m'\u001b[39m\u001b[38;5;124mrahul\u001b[39m\u001b[38;5;124m'\u001b[39m , \u001b[38;5;124m'\u001b[39m\u001b[38;5;124msumit\u001b[39m\u001b[38;5;124m'\u001b[39m, \u001b[38;5;124m'\u001b[39m\u001b[38;5;124mkumar\u001b[39m\u001b[38;5;124m'\u001b[39m]\n\u001b[0;32m      2\u001b[0m marks\u001b[38;5;241m=\u001b[39m[\u001b[38;5;241m5\u001b[39m , \u001b[38;5;241m6\u001b[39m ,\u001b[38;5;241m88\u001b[39m , \u001b[38;5;241m2\u001b[39m ]\n\u001b[1;32m----> 4\u001b[0m df\u001b[38;5;241m=\u001b[39mpd\u001b[38;5;241m.\u001b[39mDataFrame({\u001b[38;5;124m'\u001b[39m\u001b[38;5;124mName\u001b[39m\u001b[38;5;124m'\u001b[39m:student_name , \u001b[38;5;124m'\u001b[39m\u001b[38;5;124mMarks\u001b[39m\u001b[38;5;124m'\u001b[39m:marks})\n",
      "\u001b[1;31mNameError\u001b[0m: name 'pd' is not defined"
     ]
    }
   ],
   "source": [
    "student_name = ['nitin#@' , 'rahul' , 'sumit', 'kumar']\n",
    "marks=[5 , 6 ,88 , 2 ]\n",
    "\n",
    "df=pd.DataFrame({'Name':student_name , 'Marks':marks})"
   ]
  },
  {
   "cell_type": "code",
   "execution_count": 105,
   "id": "7ef15c4b",
   "metadata": {},
   "outputs": [
    {
     "data": {
      "text/html": [
       "<div>\n",
       "<style scoped>\n",
       "    .dataframe tbody tr th:only-of-type {\n",
       "        vertical-align: middle;\n",
       "    }\n",
       "\n",
       "    .dataframe tbody tr th {\n",
       "        vertical-align: top;\n",
       "    }\n",
       "\n",
       "    .dataframe thead th {\n",
       "        text-align: right;\n",
       "    }\n",
       "</style>\n",
       "<table border=\"1\" class=\"dataframe\">\n",
       "  <thead>\n",
       "    <tr style=\"text-align: right;\">\n",
       "      <th></th>\n",
       "      <th>Name</th>\n",
       "      <th>Marks</th>\n",
       "    </tr>\n",
       "  </thead>\n",
       "  <tbody>\n",
       "    <tr>\n",
       "      <th>0</th>\n",
       "      <td>nitin#@</td>\n",
       "      <td>5</td>\n",
       "    </tr>\n",
       "    <tr>\n",
       "      <th>1</th>\n",
       "      <td>rahul</td>\n",
       "      <td>6</td>\n",
       "    </tr>\n",
       "    <tr>\n",
       "      <th>2</th>\n",
       "      <td>sumit</td>\n",
       "      <td>88</td>\n",
       "    </tr>\n",
       "    <tr>\n",
       "      <th>3</th>\n",
       "      <td>kumar</td>\n",
       "      <td>2</td>\n",
       "    </tr>\n",
       "  </tbody>\n",
       "</table>\n",
       "</div>"
      ],
      "text/plain": [
       "      Name  Marks\n",
       "0  nitin#@      5\n",
       "1    rahul      6\n",
       "2    sumit     88\n",
       "3    kumar      2"
      ]
     },
     "execution_count": 105,
     "metadata": {},
     "output_type": "execute_result"
    }
   ],
   "source": [
    "df"
   ]
  },
  {
   "cell_type": "code",
   "execution_count": 107,
   "id": "2fe2f25f",
   "metadata": {},
   "outputs": [],
   "source": [
    "df['Name']=df['Name'].str.replace('#@','')"
   ]
  },
  {
   "cell_type": "code",
   "execution_count": 108,
   "id": "8b4e7b2d",
   "metadata": {},
   "outputs": [
    {
     "data": {
      "text/html": [
       "<div>\n",
       "<style scoped>\n",
       "    .dataframe tbody tr th:only-of-type {\n",
       "        vertical-align: middle;\n",
       "    }\n",
       "\n",
       "    .dataframe tbody tr th {\n",
       "        vertical-align: top;\n",
       "    }\n",
       "\n",
       "    .dataframe thead th {\n",
       "        text-align: right;\n",
       "    }\n",
       "</style>\n",
       "<table border=\"1\" class=\"dataframe\">\n",
       "  <thead>\n",
       "    <tr style=\"text-align: right;\">\n",
       "      <th></th>\n",
       "      <th>Name</th>\n",
       "      <th>Marks</th>\n",
       "    </tr>\n",
       "  </thead>\n",
       "  <tbody>\n",
       "    <tr>\n",
       "      <th>0</th>\n",
       "      <td>nitin</td>\n",
       "      <td>5</td>\n",
       "    </tr>\n",
       "    <tr>\n",
       "      <th>1</th>\n",
       "      <td>rahul</td>\n",
       "      <td>6</td>\n",
       "    </tr>\n",
       "    <tr>\n",
       "      <th>2</th>\n",
       "      <td>sumit</td>\n",
       "      <td>88</td>\n",
       "    </tr>\n",
       "    <tr>\n",
       "      <th>3</th>\n",
       "      <td>kumar</td>\n",
       "      <td>2</td>\n",
       "    </tr>\n",
       "  </tbody>\n",
       "</table>\n",
       "</div>"
      ],
      "text/plain": [
       "    Name  Marks\n",
       "0  nitin      5\n",
       "1  rahul      6\n",
       "2  sumit     88\n",
       "3  kumar      2"
      ]
     },
     "execution_count": 108,
     "metadata": {},
     "output_type": "execute_result"
    }
   ],
   "source": [
    "df"
   ]
  },
  {
   "cell_type": "code",
   "execution_count": 109,
   "id": "dd5d492c",
   "metadata": {},
   "outputs": [],
   "source": [
    "df.set_index('Name' , inplace=True)"
   ]
  },
  {
   "cell_type": "code",
   "execution_count": 83,
   "id": "742ef0ae",
   "metadata": {},
   "outputs": [],
   "source": [
    "df.reset_index(inplace=True)"
   ]
  },
  {
   "cell_type": "code",
   "execution_count": null,
   "id": "f3607980",
   "metadata": {},
   "outputs": [],
   "source": []
  },
  {
   "cell_type": "code",
   "execution_count": 90,
   "id": "a6a2cd28",
   "metadata": {},
   "outputs": [
    {
     "data": {
      "text/html": [
       "<div>\n",
       "<style scoped>\n",
       "    .dataframe tbody tr th:only-of-type {\n",
       "        vertical-align: middle;\n",
       "    }\n",
       "\n",
       "    .dataframe tbody tr th {\n",
       "        vertical-align: top;\n",
       "    }\n",
       "\n",
       "    .dataframe thead th {\n",
       "        text-align: right;\n",
       "    }\n",
       "</style>\n",
       "<table border=\"1\" class=\"dataframe\">\n",
       "  <thead>\n",
       "    <tr style=\"text-align: right;\">\n",
       "      <th></th>\n",
       "      <th>Marks</th>\n",
       "    </tr>\n",
       "    <tr>\n",
       "      <th>Name</th>\n",
       "      <th></th>\n",
       "    </tr>\n",
       "  </thead>\n",
       "  <tbody>\n",
       "    <tr>\n",
       "      <th>nitin</th>\n",
       "      <td>5</td>\n",
       "    </tr>\n",
       "    <tr>\n",
       "      <th>rahul</th>\n",
       "      <td>6</td>\n",
       "    </tr>\n",
       "    <tr>\n",
       "      <th>sumit</th>\n",
       "      <td>88</td>\n",
       "    </tr>\n",
       "    <tr>\n",
       "      <th>kumar</th>\n",
       "      <td>2</td>\n",
       "    </tr>\n",
       "  </tbody>\n",
       "</table>\n",
       "</div>"
      ],
      "text/plain": [
       "       Marks\n",
       "Name        \n",
       "nitin      5\n",
       "rahul      6\n",
       "sumit     88\n",
       "kumar      2"
      ]
     },
     "execution_count": 90,
     "metadata": {},
     "output_type": "execute_result"
    }
   ],
   "source": [
    "df"
   ]
  },
  {
   "cell_type": "code",
   "execution_count": 92,
   "id": "4adb38be",
   "metadata": {},
   "outputs": [
    {
     "data": {
      "text/plain": [
       "Marks    5\n",
       "Name: nitin, dtype: int64"
      ]
     },
     "execution_count": 92,
     "metadata": {},
     "output_type": "execute_result"
    }
   ],
   "source": [
    "df.loc['nitin']"
   ]
  },
  {
   "cell_type": "code",
   "execution_count": 95,
   "id": "6e2c74ca",
   "metadata": {},
   "outputs": [
    {
     "data": {
      "text/plain": [
       "101"
      ]
     },
     "execution_count": 95,
     "metadata": {},
     "output_type": "execute_result"
    }
   ],
   "source": [
    "df['Marks'].sum()"
   ]
  },
  {
   "cell_type": "code",
   "execution_count": 97,
   "id": "dba9ddac",
   "metadata": {},
   "outputs": [
    {
     "data": {
      "text/html": [
       "<div>\n",
       "<style scoped>\n",
       "    .dataframe tbody tr th:only-of-type {\n",
       "        vertical-align: middle;\n",
       "    }\n",
       "\n",
       "    .dataframe tbody tr th {\n",
       "        vertical-align: top;\n",
       "    }\n",
       "\n",
       "    .dataframe thead th {\n",
       "        text-align: right;\n",
       "    }\n",
       "</style>\n",
       "<table border=\"1\" class=\"dataframe\">\n",
       "  <thead>\n",
       "    <tr style=\"text-align: right;\">\n",
       "      <th></th>\n",
       "      <th>Marks</th>\n",
       "    </tr>\n",
       "    <tr>\n",
       "      <th>Name</th>\n",
       "      <th></th>\n",
       "    </tr>\n",
       "  </thead>\n",
       "  <tbody>\n",
       "    <tr>\n",
       "      <th>nitin</th>\n",
       "      <td>5</td>\n",
       "    </tr>\n",
       "    <tr>\n",
       "      <th>rahul</th>\n",
       "      <td>6</td>\n",
       "    </tr>\n",
       "    <tr>\n",
       "      <th>kumar</th>\n",
       "      <td>2</td>\n",
       "    </tr>\n",
       "  </tbody>\n",
       "</table>\n",
       "</div>"
      ],
      "text/plain": [
       "       Marks\n",
       "Name        \n",
       "nitin      5\n",
       "rahul      6\n",
       "kumar      2"
      ]
     },
     "execution_count": 97,
     "metadata": {},
     "output_type": "execute_result"
    }
   ],
   "source": [
    "df.iloc[[0 , 1 ,3]]"
   ]
  },
  {
   "cell_type": "code",
   "execution_count": 110,
   "id": "da93aff3",
   "metadata": {},
   "outputs": [
    {
     "ename": "AttributeError",
     "evalue": "'str' object has no attribute 'pop'",
     "output_type": "error",
     "traceback": [
      "\u001b[1;31m---------------------------------------------------------------------------\u001b[0m",
      "\u001b[1;31mAttributeError\u001b[0m                            Traceback (most recent call last)",
      "\u001b[1;32m~\\AppData\\Local\\Temp\\ipykernel_21176\\2619482423.py\u001b[0m in \u001b[0;36m<module>\u001b[1;34m\u001b[0m\n\u001b[0;32m      2\u001b[0m \u001b[0mt\u001b[0m\u001b[1;33m=\u001b[0m\u001b[1;33m[\u001b[0m\u001b[1;33m]\u001b[0m\u001b[1;33m\u001b[0m\u001b[1;33m\u001b[0m\u001b[0m\n\u001b[0;32m      3\u001b[0m \u001b[1;32mfor\u001b[0m \u001b[0mi\u001b[0m \u001b[1;32min\u001b[0m \u001b[0mstring\u001b[0m\u001b[1;33m.\u001b[0m\u001b[0msplit\u001b[0m\u001b[1;33m(\u001b[0m\u001b[1;33m)\u001b[0m\u001b[1;33m:\u001b[0m\u001b[1;33m\u001b[0m\u001b[1;33m\u001b[0m\u001b[0m\n\u001b[1;32m----> 4\u001b[1;33m     \u001b[0mt\u001b[0m\u001b[1;33m.\u001b[0m\u001b[0mappend\u001b[0m\u001b[1;33m(\u001b[0m\u001b[0mi\u001b[0m\u001b[1;33m.\u001b[0m\u001b[0mpop\u001b[0m\u001b[1;33m(\u001b[0m\u001b[1;33m)\u001b[0m\u001b[1;33m)\u001b[0m\u001b[1;33m\u001b[0m\u001b[1;33m\u001b[0m\u001b[0m\n\u001b[0m\u001b[0;32m      5\u001b[0m \u001b[1;33m\u001b[0m\u001b[0m\n\u001b[0;32m      6\u001b[0m \u001b[0mprint\u001b[0m\u001b[1;33m(\u001b[0m\u001b[0mtype\u001b[0m\u001b[1;33m(\u001b[0m\u001b[0mt\u001b[0m\u001b[1;33m)\u001b[0m\u001b[1;33m)\u001b[0m\u001b[1;33m\u001b[0m\u001b[1;33m\u001b[0m\u001b[0m\n",
      "\u001b[1;31mAttributeError\u001b[0m: 'str' object has no attribute 'pop'"
     ]
    }
   ],
   "source": [
    "string = \"geeks quiz practice code\"\n",
    "t=[]\n",
    "for i in string.split():\n",
    "    t.append(i.pop())\n",
    "    \n",
    "print(type(t))"
   ]
  },
  {
   "cell_type": "code",
   "execution_count": 7,
   "id": "5377ad8e",
   "metadata": {},
   "outputs": [
    {
     "name": "stdout",
     "output_type": "stream",
     "text": [
      "* \n",
      "* * \n",
      "* * * \n",
      "* * * * \n",
      "* * * * * \n",
      "* * * * \n",
      "* * * \n",
      "* * \n",
      "* \n"
     ]
    }
   ],
   "source": [
    "rows = int(input('enter the rows'))\n",
    "for i in range(1,rows+1):\n",
    "    for j in range(0,i):\n",
    "        print('*',end=' ')\n",
    "    print()\n",
    "    \n",
    "for i in range(1, rows):\n",
    "    for j in range(rows-i,0  , -1):\n",
    "        print('*' , end=' ')\n",
    "    print()"
   ]
  },
  {
   "cell_type": "code",
   "execution_count": 23,
   "id": "05e381b1",
   "metadata": {},
   "outputs": [
    {
     "name": "stdout",
     "output_type": "stream",
     "text": [
      "\n",
      "* \n",
      "* * \n",
      "* * * \n",
      "* * * * \n"
     ]
    }
   ],
   "source": [
    "for i in range(rows):\n",
    "    for j in range(i):\n",
    "        print(\"*\" ,end=' ')\n",
    "    print()"
   ]
  },
  {
   "cell_type": "code",
   "execution_count": null,
   "id": "2c4e43af-a7be-4f94-8c33-d65f520b0237",
   "metadata": {},
   "outputs": [],
   "source": [
    "n="
   ]
  },
  {
   "cell_type": "code",
   "execution_count": 23,
   "id": "23e4bb59",
   "metadata": {},
   "outputs": [
    {
     "name": "stdout",
     "output_type": "stream",
     "text": [
      "Something is happening before the function is called.\n",
      "Hello!\n",
      "Something is happening after the function is called.\n"
     ]
    }
   ],
   "source": [
    "# Decorator function\n",
    "def my_decorator(func):\n",
    "    def wrapper():\n",
    "        print(\"Something is happening before the function is called.\")\n",
    "        func()  # Call the original function\n",
    "        print(\"Something is happening after the function is called.\")\n",
    "    return wrapper\n",
    "\n",
    "# Apply the decorator using @ syntax\n",
    "@my_decorator\n",
    "def say_hello():\n",
    "    print(\"Hello!\")\n",
    "\n",
    "# Call the decorated function\n",
    "say_hello()"
   ]
  },
  {
   "cell_type": "code",
   "execution_count": 27,
   "id": "5e284c7a",
   "metadata": {},
   "outputs": [
    {
     "ename": "AttributeError",
     "evalue": "module 'calendar' has no attribute 'year'",
     "output_type": "error",
     "traceback": [
      "\u001b[1;31m---------------------------------------------------------------------------\u001b[0m",
      "\u001b[1;31mAttributeError\u001b[0m                            Traceback (most recent call last)",
      "\u001b[1;32m~\\AppData\\Local\\Temp\\ipykernel_27116\\1570421030.py\u001b[0m in \u001b[0;36m<module>\u001b[1;34m\u001b[0m\n\u001b[0;32m      1\u001b[0m \u001b[1;32mimport\u001b[0m \u001b[0mcalendar\u001b[0m\u001b[1;33m\u001b[0m\u001b[1;33m\u001b[0m\u001b[0m\n\u001b[0;32m      2\u001b[0m \u001b[0myy\u001b[0m\u001b[1;33m=\u001b[0m\u001b[1;36m2024\u001b[0m\u001b[1;33m\u001b[0m\u001b[1;33m\u001b[0m\u001b[0m\n\u001b[1;32m----> 3\u001b[1;33m \u001b[0mprint\u001b[0m\u001b[1;33m(\u001b[0m\u001b[0mcalendar\u001b[0m\u001b[1;33m.\u001b[0m\u001b[0myear\u001b[0m\u001b[1;33m(\u001b[0m\u001b[0myy\u001b[0m\u001b[1;33m)\u001b[0m\u001b[1;33m)\u001b[0m\u001b[1;33m\u001b[0m\u001b[1;33m\u001b[0m\u001b[0m\n\u001b[0m",
      "\u001b[1;31mAttributeError\u001b[0m: module 'calendar' has no attribute 'year'"
     ]
    }
   ],
   "source": [
    "\n",
    "import calendar\n",
    "yy=2024\n",
    "print(calendar.year(yy))"
   ]
  },
  {
   "cell_type": "code",
   "execution_count": 28,
   "id": "cf4ddd21",
   "metadata": {
    "scrolled": true
   },
   "outputs": [
    {
     "name": "stdout",
     "output_type": "stream",
     "text": [
      "Enter the year: 2023\n",
      "                                  2023\n",
      "\n",
      "      January                   February                   March\n",
      "Mo Tu We Th Fr Sa Su      Mo Tu We Th Fr Sa Su      Mo Tu We Th Fr Sa Su\n",
      "                   1             1  2  3  4  5             1  2  3  4  5\n",
      " 2  3  4  5  6  7  8       6  7  8  9 10 11 12       6  7  8  9 10 11 12\n",
      " 9 10 11 12 13 14 15      13 14 15 16 17 18 19      13 14 15 16 17 18 19\n",
      "16 17 18 19 20 21 22      20 21 22 23 24 25 26      20 21 22 23 24 25 26\n",
      "23 24 25 26 27 28 29      27 28                     27 28 29 30 31\n",
      "30 31\n",
      "\n",
      "       April                      May                       June\n",
      "Mo Tu We Th Fr Sa Su      Mo Tu We Th Fr Sa Su      Mo Tu We Th Fr Sa Su\n",
      "                1  2       1  2  3  4  5  6  7                1  2  3  4\n",
      " 3  4  5  6  7  8  9       8  9 10 11 12 13 14       5  6  7  8  9 10 11\n",
      "10 11 12 13 14 15 16      15 16 17 18 19 20 21      12 13 14 15 16 17 18\n",
      "17 18 19 20 21 22 23      22 23 24 25 26 27 28      19 20 21 22 23 24 25\n",
      "24 25 26 27 28 29 30      29 30 31                  26 27 28 29 30\n",
      "\n",
      "        July                     August                  September\n",
      "Mo Tu We Th Fr Sa Su      Mo Tu We Th Fr Sa Su      Mo Tu We Th Fr Sa Su\n",
      "                1  2          1  2  3  4  5  6                   1  2  3\n",
      " 3  4  5  6  7  8  9       7  8  9 10 11 12 13       4  5  6  7  8  9 10\n",
      "10 11 12 13 14 15 16      14 15 16 17 18 19 20      11 12 13 14 15 16 17\n",
      "17 18 19 20 21 22 23      21 22 23 24 25 26 27      18 19 20 21 22 23 24\n",
      "24 25 26 27 28 29 30      28 29 30 31               25 26 27 28 29 30\n",
      "31\n",
      "\n",
      "      October                   November                  December\n",
      "Mo Tu We Th Fr Sa Su      Mo Tu We Th Fr Sa Su      Mo Tu We Th Fr Sa Su\n",
      "                   1             1  2  3  4  5                   1  2  3\n",
      " 2  3  4  5  6  7  8       6  7  8  9 10 11 12       4  5  6  7  8  9 10\n",
      " 9 10 11 12 13 14 15      13 14 15 16 17 18 19      11 12 13 14 15 16 17\n",
      "16 17 18 19 20 21 22      20 21 22 23 24 25 26      18 19 20 21 22 23 24\n",
      "23 24 25 26 27 28 29      27 28 29 30               25 26 27 28 29 30 31\n",
      "30 31\n",
      "\n"
     ]
    }
   ],
   "source": [
    "import calendar\n",
    "\n",
    "# Input the year for which you want to print the calendar\n",
    "year = int(input(\"Enter the year: \"))\n",
    "\n",
    "# Print the calendar for the specified year\n",
    "print(calendar.calendar(year))\n"
   ]
  },
  {
   "cell_type": "code",
   "execution_count": 33,
   "id": "28e5bf0e",
   "metadata": {},
   "outputs": [
    {
     "name": "stdout",
     "output_type": "stream",
     "text": [
      "Indices of pairs with sum 11: [(5, 9), (8, 9), (9, 10), (2, 11), (4, 11), (2, 12), (4, 12), (5, 13), (8, 13), (10, 13), (9, 14), (13, 14), (2, 15), (4, 15), (11, 16), (12, 16), (15, 16), (5, 17), (8, 17), (10, 17), (14, 17), (9, 19), (13, 19), (17, 19), (9, 21), (13, 21), (17, 21), (11, 24), (12, 24), (15, 24), (9, 25), (13, 25), (17, 25), (9, 28), (13, 28), (17, 28), (11, 29), (12, 29), (15, 29)]\n",
      "Digits at indices 5 and 9 sum to 11: (5, 6)\n",
      "Digits at indices 8 and 9 sum to 11: (5, 6)\n",
      "Digits at indices 9 and 10 sum to 11: (6, 5)\n",
      "Digits at indices 2 and 11 sum to 11: (4, 7)\n",
      "Digits at indices 4 and 11 sum to 11: (4, 7)\n",
      "Digits at indices 2 and 12 sum to 11: (4, 7)\n",
      "Digits at indices 4 and 12 sum to 11: (4, 7)\n",
      "Digits at indices 5 and 13 sum to 11: (5, 6)\n",
      "Digits at indices 8 and 13 sum to 11: (5, 6)\n",
      "Digits at indices 10 and 13 sum to 11: (5, 6)\n",
      "Digits at indices 9 and 14 sum to 11: (6, 5)\n",
      "Digits at indices 13 and 14 sum to 11: (6, 5)\n",
      "Digits at indices 2 and 15 sum to 11: (4, 7)\n",
      "Digits at indices 4 and 15 sum to 11: (4, 7)\n",
      "Digits at indices 11 and 16 sum to 11: (7, 4)\n",
      "Digits at indices 12 and 16 sum to 11: (7, 4)\n",
      "Digits at indices 15 and 16 sum to 11: (7, 4)\n",
      "Digits at indices 5 and 17 sum to 11: (5, 6)\n",
      "Digits at indices 8 and 17 sum to 11: (5, 6)\n",
      "Digits at indices 10 and 17 sum to 11: (5, 6)\n",
      "Digits at indices 14 and 17 sum to 11: (5, 6)\n",
      "Digits at indices 9 and 19 sum to 11: (6, 5)\n",
      "Digits at indices 13 and 19 sum to 11: (6, 5)\n",
      "Digits at indices 17 and 19 sum to 11: (6, 5)\n",
      "Digits at indices 9 and 21 sum to 11: (6, 5)\n",
      "Digits at indices 13 and 21 sum to 11: (6, 5)\n",
      "Digits at indices 17 and 21 sum to 11: (6, 5)\n",
      "Digits at indices 11 and 24 sum to 11: (7, 4)\n",
      "Digits at indices 12 and 24 sum to 11: (7, 4)\n",
      "Digits at indices 15 and 24 sum to 11: (7, 4)\n",
      "Digits at indices 9 and 25 sum to 11: (6, 5)\n",
      "Digits at indices 13 and 25 sum to 11: (6, 5)\n",
      "Digits at indices 17 and 25 sum to 11: (6, 5)\n",
      "Digits at indices 9 and 28 sum to 11: (6, 5)\n",
      "Digits at indices 13 and 28 sum to 11: (6, 5)\n",
      "Digits at indices 17 and 28 sum to 11: (6, 5)\n",
      "Digits at indices 11 and 29 sum to 11: (7, 4)\n",
      "Digits at indices 12 and 29 sum to 11: (7, 4)\n",
      "Digits at indices 15 and 29 sum to 11: (7, 4)\n"
     ]
    }
   ],
   "source": [
    "def find_pairs_with_sum(number_str, target):\n",
    "    pairs = []\n",
    "    seen = {}\n",
    "\n",
    "    for i, digit in enumerate(number_str):\n",
    "        digit = int(digit)\n",
    "        complement = target - digit\n",
    "        \n",
    "        if complement in seen:\n",
    "            for idx in seen[complement]:\n",
    "                pairs.append((idx, i))\n",
    "        \n",
    "        if digit in seen:\n",
    "            seen[digit].append(i)\n",
    "        else:\n",
    "            seen[digit] = [i]\n",
    "    \n",
    "    return pairs\n",
    "\n",
    "# Example usage\n",
    "number_str = \"2342453256577657463535234532542\"\n",
    "target = 11\n",
    "pairs = find_pairs_with_sum(number_str, target)\n",
    "print(f\"Indices of pairs with sum {target}: {pairs}\")\n",
    "\n",
    "# If you want to print the pairs of digits themselves\n",
    "for idx1, idx2 in pairs:\n",
    "    print(f\"Digits at indices {idx1} and {idx2} sum to {target}: ({number_str[idx1]}, {number_str[idx2]})\")\n",
    "\n",
    "    "
   ]
  },
  {
   "cell_type": "code",
   "execution_count": 94,
   "id": "eb8551ea",
   "metadata": {},
   "outputs": [
    {
     "name": "stdout",
     "output_type": "stream",
     "text": [
      "fasdf4ttgas6jhhdrh7hg9\n"
     ]
    }
   ],
   "source": [
    "def reverse_substrings_before_numbers(s):\n",
    "    # Initialize variables\n",
    "    result = \"\"  # Final result string\n",
    "    substring = \"\"  # Temporary variable to store substrings before numeric characters\n",
    "    \n",
    "    # Iterate through the string\n",
    "    for char in s:\n",
    "        if char.isdigit():\n",
    "            # If a numeric character is encountered, reverse the substring and append it to the result\n",
    "            result += substring[::-1]\n",
    "            # Append the numeric character to the result\n",
    "            result += char\n",
    "            # Reset the substring for the next iteration\n",
    "            substring = \"\"\n",
    "        else:\n",
    "            # Add non-numeric characters to the substring\n",
    "            substring += char\n",
    "    \n",
    "    # Append any remaining substring to the result\n",
    "    result += substring[::-1]\n",
    "    \n",
    "    return result\n",
    "\n",
    "# Example usage\n",
    "s = \"fdsaf4sagtt6hrdhhj7gh9\"\n",
    "result = reverse_substrings_before_numbers(s)\n",
    "print(result)  # Output: \"asdfttgasjhhdrhhg9\"\n"
   ]
  },
  {
   "cell_type": "code",
   "execution_count": 98,
   "id": "c21fa90a",
   "metadata": {},
   "outputs": [
    {
     "name": "stdout",
     "output_type": "stream",
     "text": [
      "fasdf4ttgas6jhhdrh7hg9\n"
     ]
    }
   ],
   "source": [
    "def reverse_string(s):\n",
    "    result = \"\"  \n",
    "    substring = \"\"  \n",
    "    for char in s:\n",
    "        if char.isdigit():\n",
    "            result += substring[::-1]\n",
    "            result += char \n",
    "            substring = \"\"\n",
    "        else: \n",
    "            substring += char\n",
    "    result += substring[::-1]\n",
    "    return result\n",
    "s = \"fdsaf4sagtt6hrdhhj7gh9\"\n",
    "result = reverse_string(s)\n",
    "print(result)\n"
   ]
  },
  {
   "cell_type": "code",
   "execution_count": 99,
   "id": "b51559f2",
   "metadata": {},
   "outputs": [
    {
     "name": "stdout",
     "output_type": "stream",
     "text": [
      "4\n",
      "6\n",
      "7\n",
      "9\n"
     ]
    }
   ],
   "source": [
    "s = \"fdsaf4sagtt6hrdhhj7gh9\"\n",
    "for i in s:\n",
    "    if i.isnumeric():\n",
    "        i.split()\n",
    "        print(i)"
   ]
  },
  {
   "cell_type": "code",
   "execution_count": 100,
   "id": "9de03eeb",
   "metadata": {},
   "outputs": [
    {
     "name": "stdout",
     "output_type": "stream",
     "text": [
      "['fdsaf', 'sagtt', 'hrdhhj', 'gh', '']\n"
     ]
    }
   ],
   "source": [
    "import re\n",
    "\n",
    "s = \"fdsaf4sagtt6hrdhhj7gh9\"\n",
    "substrings = re.split(r'\\d+', s)\n",
    "\n",
    "print(substrings)  # Output: ['fdsaf', 'sagtt', 'hrdhhj', 'gh', '']\n"
   ]
  },
  {
   "cell_type": "code",
   "execution_count": 103,
   "id": "ea7e02dc",
   "metadata": {
    "scrolled": true
   },
   "outputs": [
    {
     "ename": "AttributeError",
     "evalue": "'NoneType' object has no attribute 'reverse'",
     "output_type": "error",
     "traceback": [
      "\u001b[1;31m---------------------------------------------------------------------------\u001b[0m",
      "\u001b[1;31mAttributeError\u001b[0m                            Traceback (most recent call last)",
      "\u001b[1;32m~\\AppData\\Local\\Temp\\ipykernel_22088\\2642978881.py\u001b[0m in \u001b[0;36m<module>\u001b[1;34m\u001b[0m\n\u001b[1;32m----> 1\u001b[1;33m \u001b[0msubstrings\u001b[0m\u001b[1;33m.\u001b[0m\u001b[0mreverse\u001b[0m\u001b[1;33m(\u001b[0m\u001b[1;33m)\u001b[0m\u001b[1;33m\u001b[0m\u001b[1;33m\u001b[0m\u001b[0m\n\u001b[0m\u001b[0;32m      2\u001b[0m \u001b[0mprint\u001b[0m\u001b[1;33m(\u001b[0m\u001b[0msubstrings\u001b[0m\u001b[1;33m)\u001b[0m\u001b[1;33m\u001b[0m\u001b[1;33m\u001b[0m\u001b[0m\n",
      "\u001b[1;31mAttributeError\u001b[0m: 'NoneType' object has no attribute 'reverse'"
     ]
    }
   ],
   "source": [
    "substrings.reverse()\n",
    "print(substrings)"
   ]
  },
  {
   "cell_type": "code",
   "execution_count": 106,
   "id": "f880ca25",
   "metadata": {},
   "outputs": [
    {
     "name": "stdout",
     "output_type": "stream",
     "text": [
      "fasdfttgasjhhdrhhg\n"
     ]
    }
   ],
   "source": [
    "def reverse_substrings_before_numbers(s):\n",
    "    result = \"\"  # Final result string\n",
    "    index = 0  # Index to traverse the string\n",
    "\n",
    "    while index < len(s):\n",
    "        # If the current character is a digit, ignore it\n",
    "        if s[index].isdigit():\n",
    "            index += 1\n",
    "            continue\n",
    "\n",
    "        # Start a new substring\n",
    "        substring = \"\"\n",
    "\n",
    "        # Add characters to the substring until a digit is encountered\n",
    "        while index < len(s) and not s[index].isdigit():\n",
    "            substring += s[index]\n",
    "            index += 1\n",
    "\n",
    "        # Reverse the substring and add it to the result\n",
    "        result += substring[::-1]\n",
    "\n",
    "    return result\n",
    "\n",
    "# Example usage\n",
    "s = \"fdsaf4sagtt6hrdhhj7gh9\"\n",
    "result = reverse_substrings_before_numbers(s)\n",
    "print(result)  # Output: \"asdfttgasjhhdrhhg\"\n"
   ]
  },
  {
   "cell_type": "code",
   "execution_count": 110,
   "id": "13714200",
   "metadata": {},
   "outputs": [
    {
     "name": "stdout",
     "output_type": "stream",
     "text": [
      "{'a': 1, 'u': 1, 't': 1, 'o': 1, 'm': 1, 'i': 1, 'n': 1}\n"
     ]
    }
   ],
   "source": [
    "l = 'Automation'\n",
    "\n",
    "l=l.lower()\n",
    "\n",
    "a ={}\n",
    "\n",
    "for i in l:\n",
    "    if i not in l:\n",
    "        a[i] +=1\n",
    "    else:\n",
    "        a[i] =1\n",
    "        \n",
    "print(a)"
   ]
  },
  {
   "cell_type": "code",
   "execution_count": 120,
   "id": "5b4ec4c4",
   "metadata": {},
   "outputs": [
    {
     "name": "stdout",
     "output_type": "stream",
     "text": [
      "Unique characters: Aaimnu\n"
     ]
    }
   ],
   "source": [
    "l = 'Automation'\n",
    "\n",
    "seen = set()\n",
    "unique = set()\n",
    "\n",
    "for i in l:\n",
    "    if i in seen:\n",
    "        if i in unique:\n",
    "            unique.remove(i)\n",
    "    else:\n",
    "        seen.add(i)\n",
    "        unique.add(i)\n",
    "\n",
    "##unique_characters = ''.join(sorted(unique))\n",
    "print(f\"Unique characters: {unique_characters}\")\n"
   ]
  },
  {
   "cell_type": "code",
   "execution_count": 1,
   "id": "958ec1e4",
   "metadata": {},
   "outputs": [
    {
     "name": "stdout",
     "output_type": "stream",
     "text": [
      "{'n', 'i', 'u', 'A', 'a', 'm'}\n"
     ]
    }
   ],
   "source": [
    "l = 'Automation'\n",
    "seen = set()\n",
    "unique= set()\n",
    "\n",
    "for i in l:\n",
    "    if i in seen:\n",
    "        if i in unique:\n",
    "            unique.remove(i)\n",
    "    else:\n",
    "        seen.add(i)\n",
    "        unique.add(i)\n",
    "unique_characters= ''.join(sorted(unique))\n",
    "print(unique)"
   ]
  },
  {
   "cell_type": "code",
   "execution_count": 21,
   "id": "210e977f",
   "metadata": {},
   "outputs": [
    {
     "name": "stdout",
     "output_type": "stream",
     "text": [
      "enter number5\n",
      "5 * 1 = 5\n",
      "5 * 2 = 10\n",
      "5 * 3 = 15\n",
      "5 * 4 = 20\n",
      "5 * 5 = 25\n",
      "5 * 6 = 30\n",
      "5 * 7 = 35\n",
      "5 * 8 = 40\n",
      "5 * 9 = 45\n"
     ]
    }
   ],
   "source": [
    "number=int(input(\"enter number\"))\n",
    "\n",
    "\n",
    "for i in range(1 , 10):\n",
    "    print(number, '*' ,i, '=' ,number *i)"
   ]
  },
  {
   "cell_type": "code",
   "execution_count": null,
   "id": "af83f085",
   "metadata": {},
   "outputs": [],
   "source": [
    "number=int(input(\"enter number\"))\n",
    "i = 0\n",
    "\n",
    "for i in range(1 , 10):\n",
    "    print(number, '*' ,i, '=' ,number *i)"
   ]
  },
  {
   "cell_type": "code",
   "execution_count": 19,
   "id": "97e7e7ad",
   "metadata": {},
   "outputs": [
    {
     "name": "stdout",
     "output_type": "stream",
     "text": [
      "enter lower number4\n",
      "enter upper number9\n",
      "4\n",
      "6\n",
      "8\n"
     ]
    }
   ],
   "source": [
    "lower = int(input(\"enter lower number\"))\n",
    "upper = int(input(\"enter upper number\"))\n",
    "\n",
    "for i in range(lower , upper+1):\n",
    "    for j in range(2 , i+1):\n",
    "        if i % 2==0:\n",
    "            print(i)\n",
    "            break"
   ]
  },
  {
   "cell_type": "code",
   "execution_count": 30,
   "id": "7b380e52",
   "metadata": {},
   "outputs": [
    {
     "name": "stdout",
     "output_type": "stream",
     "text": [
      "{'n': 2, 'i': 2, 't': 1}\n",
      "The first non-repeating character is: t\n"
     ]
    }
   ],
   "source": [
    "n ='nitin'\n",
    "char={}\n",
    "for i in n:\n",
    "    if i in char:\n",
    "        char[i]+=1\n",
    "    else:\n",
    "        char[i]=1\n",
    "        \n",
    "print(char)\n",
    "\n",
    "for ch in n:\n",
    "    if char[ch]==1:\n",
    "        print(f\"The first non-repeating character is: {ch}\")\n",
    "        break\n",
    "else:\n",
    "    print(\"No non-repeating character found.\")\n"
   ]
  }
 ],
 "metadata": {
  "kernelspec": {
   "display_name": "Python 3 (ipykernel)",
   "language": "python",
   "name": "python3"
  },
  "language_info": {
   "codemirror_mode": {
    "name": "ipython",
    "version": 3
   },
   "file_extension": ".py",
   "mimetype": "text/x-python",
   "name": "python",
   "nbconvert_exporter": "python",
   "pygments_lexer": "ipython3",
   "version": "3.12.7"
  }
 },
 "nbformat": 4,
 "nbformat_minor": 5
}
