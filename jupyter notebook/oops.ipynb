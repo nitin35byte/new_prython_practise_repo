{
 "cells": [
  {
   "cell_type": "code",
   "execution_count": 1,
   "id": "a0d3ed4b",
   "metadata": {},
   "outputs": [
    {
     "ename": "AttributeError",
     "evalue": "'list' object has no attribute 'upper'",
     "output_type": "error",
     "traceback": [
      "\u001b[1;31m---------------------------------------------------------------------------\u001b[0m",
      "\u001b[1;31mAttributeError\u001b[0m                            Traceback (most recent call last)",
      "\u001b[1;32m~\\AppData\\Local\\Temp\\ipykernel_12148\\303515046.py\u001b[0m in \u001b[0;36m<module>\u001b[1;34m\u001b[0m\n\u001b[0;32m      1\u001b[0m \u001b[0ml\u001b[0m \u001b[1;33m=\u001b[0m \u001b[1;33m[\u001b[0m\u001b[1;36m1\u001b[0m\u001b[1;33m,\u001b[0m\u001b[1;36m2\u001b[0m\u001b[1;33m,\u001b[0m\u001b[1;36m3\u001b[0m\u001b[1;33m]\u001b[0m\u001b[1;33m\u001b[0m\u001b[1;33m\u001b[0m\u001b[0m\n\u001b[1;32m----> 2\u001b[1;33m \u001b[0ml\u001b[0m\u001b[1;33m.\u001b[0m\u001b[0mupper\u001b[0m\u001b[1;33m(\u001b[0m\u001b[1;33m)\u001b[0m\u001b[1;33m\u001b[0m\u001b[1;33m\u001b[0m\u001b[0m\n\u001b[0m",
      "\u001b[1;31mAttributeError\u001b[0m: 'list' object has no attribute 'upper'"
     ]
    }
   ],
   "source": [
    "l = [1,2,3]\n",
    "l.upper()"
   ]
  },
  {
   "cell_type": "code",
   "execution_count": 2,
   "id": "91506d96",
   "metadata": {},
   "outputs": [
    {
     "ename": "AttributeError",
     "evalue": "'str' object has no attribute 'append'",
     "output_type": "error",
     "traceback": [
      "\u001b[1;31m---------------------------------------------------------------------------\u001b[0m",
      "\u001b[1;31mAttributeError\u001b[0m                            Traceback (most recent call last)",
      "\u001b[1;32m~\\AppData\\Local\\Temp\\ipykernel_12148\\118456213.py\u001b[0m in \u001b[0;36m<module>\u001b[1;34m\u001b[0m\n\u001b[0;32m      1\u001b[0m \u001b[0ma\u001b[0m\u001b[1;33m=\u001b[0m \u001b[1;34m'nitin'\u001b[0m\u001b[1;33m\u001b[0m\u001b[1;33m\u001b[0m\u001b[0m\n\u001b[1;32m----> 2\u001b[1;33m \u001b[0mprint\u001b[0m\u001b[1;33m(\u001b[0m\u001b[0ma\u001b[0m\u001b[1;33m.\u001b[0m\u001b[0mappend\u001b[0m\u001b[1;33m(\u001b[0m\u001b[0mb\u001b[0m\u001b[1;33m)\u001b[0m\u001b[1;33m)\u001b[0m\u001b[1;33m\u001b[0m\u001b[1;33m\u001b[0m\u001b[0m\n\u001b[0m",
      "\u001b[1;31mAttributeError\u001b[0m: 'str' object has no attribute 'append'"
     ]
    }
   ],
   "source": [
    "a= 'nitin'\n",
    "a.append(b)\n"
   ]
  },
  {
   "cell_type": "code",
   "execution_count": 3,
   "id": "71cc777c",
   "metadata": {},
   "outputs": [],
   "source": [
    "class Atm:\n",
    "\n",
    "    def __init__(self):\n",
    "        self.pin = ''\n",
    "        self.balance=0"
   ]
  },
  {
   "cell_type": "code",
   "execution_count": 4,
   "id": "ca9b06c2",
   "metadata": {},
   "outputs": [
    {
     "ename": "NameError",
     "evalue": "name 'self' is not defined",
     "output_type": "error",
     "traceback": [
      "\u001b[1;31m---------------------------------------------------------------------------\u001b[0m",
      "\u001b[1;31mNameError\u001b[0m                                 Traceback (most recent call last)",
      "\u001b[1;32m~\\AppData\\Local\\Temp\\ipykernel_12148\\989086185.py\u001b[0m in \u001b[0;36m<module>\u001b[1;34m\u001b[0m\n\u001b[1;32m----> 1\u001b[1;33m \u001b[0mprint\u001b[0m\u001b[1;33m(\u001b[0m\u001b[0mid\u001b[0m\u001b[1;33m(\u001b[0m\u001b[0mself\u001b[0m\u001b[1;33m)\u001b[0m\u001b[1;33m)\u001b[0m\u001b[1;33m\u001b[0m\u001b[1;33m\u001b[0m\u001b[0m\n\u001b[0m",
      "\u001b[1;31mNameError\u001b[0m: name 'self' is not defined"
     ]
    }
   ],
   "source": [
    "print(id(self))"
   ]
  },
  {
   "cell_type": "code",
   "execution_count": 5,
   "id": "c9b5da66",
   "metadata": {},
   "outputs": [
    {
     "name": "stdout",
     "output_type": "stream",
     "text": [
      "{16, 2, 4, 8, 10}\n"
     ]
    }
   ],
   "source": [
    "l = {2,4,16,8,10}\n",
    "print(l)"
   ]
  },
  {
   "cell_type": "code",
   "execution_count": 27,
   "id": "35f6c792",
   "metadata": {},
   "outputs": [
    {
     "name": "stdout",
     "output_type": "stream",
     "text": [
      "[(1, 6), (2, 7), (3, 8), (4, 9)]\n"
     ]
    }
   ],
   "source": [
    "a= [1,2,3,4]\n",
    "b =[6,7,8,9]\n",
    "c = zip(a,b)\n",
    "print(list(c))"
   ]
  },
  {
   "cell_type": "code",
   "execution_count": 38,
   "id": "e80160c3",
   "metadata": {},
   "outputs": [
    {
     "name": "stdout",
     "output_type": "stream",
     "text": [
      "('John', 'Jenny')\n",
      "('Charles', 'Christy')\n",
      "('Mike', 'Monica')\n"
     ]
    }
   ],
   "source": [
    "a = (\"John\", \"Charles\", \"Mike\")\n",
    "b = (\"Jenny\", \"Christy\", \"Monica\", \"Vicky\")\n",
    "\n",
    "x = zip(a, b)\n",
    "for i in x:\n",
    "    print(i)"
   ]
  },
  {
   "cell_type": "code",
   "execution_count": 9,
   "id": "8885c1ef",
   "metadata": {},
   "outputs": [
    {
     "name": "stdout",
     "output_type": "stream",
     "text": [
      "2551400451008\n"
     ]
    }
   ],
   "source": [
    "class ATM:\n",
    "    \n",
    "    def __init__(self):\n",
    "        self.pin= ''\n",
    "        self.balance=0\n",
    "        print(id(self))\n",
    "        \n",
    "    def menu():\n",
    "        user_input=\"\"\"How can i help you\n",
    "        1. Press 1 to change pin\n",
    "        2. Press 2 to check balance\n",
    "        3. Press 3 to update pin\n",
    "        4. Press 4 to winthdraw\n",
    "        5. Press 5 to exit\n",
    "        \n",
    "        \"\"\"\n",
    "obj = ATM\n",
    "print(id(obj))"
   ]
  },
  {
   "cell_type": "code",
   "execution_count": 12,
   "id": "d541ec42",
   "metadata": {},
   "outputs": [],
   "source": [
    "def multilpe(*args):\n",
    "    product = 1\n",
    "    \n",
    "    for i in args:\n",
    "        product = product *i\n",
    "    return product\n",
    "\n"
   ]
  },
  {
   "cell_type": "code",
   "execution_count": 13,
   "id": "f16c17ff",
   "metadata": {},
   "outputs": [
    {
     "data": {
      "text/plain": [
       "(2, 3, 4, 5, 6, 7)"
      ]
     },
     "execution_count": 13,
     "metadata": {},
     "output_type": "execute_result"
    }
   ],
   "source": [
    "l =(2,3,4,5,6,7,)\n",
    "multilpe(l)"
   ]
  },
  {
   "cell_type": "code",
   "execution_count": 23,
   "id": "b06ab7cc",
   "metadata": {},
   "outputs": [
    {
     "name": "stdout",
     "output_type": "stream",
     "text": [
      "(8, [1, 2, 3, 4, 5, 6, 7, 8])\n"
     ]
    }
   ],
   "source": [
    "def consequences(arr):\n",
    "    longest_streak = 0\n",
    "    arr_set = set(arr)  # Use set for efficient lookups\n",
    "    result_sequence = []  # Store the sequence with the longest streak\n",
    "\n",
    "    for num in arr_set:\n",
    "        # Check if it's the start of a sequence\n",
    "        if num - 1 not in arr_set:\n",
    "            current_num = num\n",
    "            current_length = 1\n",
    "            current_sequence = [current_num]\n",
    "\n",
    "            # Expand the sequence\n",
    "            while current_num + 1 in arr_set:\n",
    "                current_num += 1\n",
    "                current_length += 1\n",
    "                current_sequence.append(current_num)\n",
    "\n",
    "            # Update the longest streak and sequence if necessary\n",
    "            if current_length > longest_streak:\n",
    "                longest_streak = current_length\n",
    "                result_sequence = current_sequence\n",
    "\n",
    "    return longest_streak, result_sequence\n",
    "\n",
    "arr = [1, 2, 7, 8, 44, 1, 2, 5, 3, 4, 7, 6]\n",
    "s = consequences(arr)\n",
    "print(s)"
   ]
  },
  {
   "cell_type": "code",
   "execution_count": 36,
   "id": "01f9f70c",
   "metadata": {},
   "outputs": [
    {
     "name": "stdout",
     "output_type": "stream",
     "text": [
      "(8, [1, 2, 3, 4, 5, 6, 7, 8])\n"
     ]
    }
   ],
   "source": [
    "def consequences(arr):\n",
    "    longest_streak=0\n",
    "    arr_set=set(arr)\n",
    "    result_sequence=[]\n",
    "    \n",
    "    for num in arr_set:\n",
    "        if num-1 not in arr_set:\n",
    "            current_num = num\n",
    "            current_length=1\n",
    "            current_sequence=[current_num]\n",
    "            \n",
    "            while current_num +1 in arr_set:\n",
    "                current_num+=1\n",
    "                current_length +=1\n",
    "                current_sequence.append(current_num)\n",
    "\n",
    "            if current_length > longest_streak:\n",
    "                longest_streak = current_length\n",
    "                result_sequence = current_sequence\n",
    "    return longest_streak, result_sequence\n",
    "\n",
    "arr = [1, 2, 7, 8, 44, 1, 2, 5, 3, 4, 7, 6]\n",
    "s = consequences(arr)\n",
    "print(s)            "
   ]
  }
 ],
 "metadata": {
  "kernelspec": {
   "display_name": "Python 3 (ipykernel)",
   "language": "python",
   "name": "python3"
  },
  "language_info": {
   "codemirror_mode": {
    "name": "ipython",
    "version": 3
   },
   "file_extension": ".py",
   "mimetype": "text/x-python",
   "name": "python",
   "nbconvert_exporter": "python",
   "pygments_lexer": "ipython3",
   "version": "3.9.13"
  }
 },
 "nbformat": 4,
 "nbformat_minor": 5
}
