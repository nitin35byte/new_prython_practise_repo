{
 "cells": [
  {
   "cell_type": "markdown",
   "id": "9991ab99",
   "metadata": {},
   "source": [
    "## reverse list using loop"
   ]
  },
  {
   "cell_type": "code",
   "execution_count": 1,
   "id": "42f62408",
   "metadata": {},
   "outputs": [
    {
     "name": "stdout",
     "output_type": "stream",
     "text": [
      "[5, 4, 3, 2, 1]\n"
     ]
    }
   ],
   "source": [
    "original_list = [1, 2, 3, 4, 5]\n",
    "reversed_list = []\n",
    "\n",
    "for i in range(len(original_list)-1,-1,-1):\n",
    "    reversed_list.append(original_list[i])\n",
    "print(reversed_list)"
   ]
  },
  {
   "cell_type": "code",
   "execution_count": 10,
   "id": "f627a41d",
   "metadata": {},
   "outputs": [
    {
     "name": "stdout",
     "output_type": "stream",
     "text": [
      "[5, 4, 3, 2, 1]\n"
     ]
    }
   ],
   "source": [
    "original_list = [1, 2, 3, 4, 5]\n",
    "reversed_list = []\n",
    "index = len(original_list) - 1\n",
    "\n",
    "while index >= 0:\n",
    "    reversed_list.append(original_list[index])\n",
    "    index -= 1\n",
    "print(reversed_list)  # Output: [5, 4, 3, 2, 1]"
   ]
  },
  {
   "cell_type": "code",
   "execution_count": 3,
   "id": "13fded40",
   "metadata": {},
   "outputs": [
    {
     "name": "stdout",
     "output_type": "stream",
     "text": [
      "[5, 4, 3, 2, 1]\n"
     ]
    }
   ],
   "source": [
    "original_list = [1, 2, 3, 4, 5]\n",
    "left=0\n",
    "right= len(original_list)-1\n",
    "while (left <right):\n",
    "    temp = original_list[left]\n",
    "    original_list[left]=original_list[right]\n",
    "    original_list[right]=temp\n",
    "    left +=1\n",
    "    right -=1\n",
    "    \n",
    "print(original_list)"
   ]
  },
  {
   "cell_type": "code",
   "execution_count": 12,
   "id": "2d5ddd18",
   "metadata": {},
   "outputs": [
    {
     "name": "stdout",
     "output_type": "stream",
     "text": [
      "value of a is 5, and value of b is  10\n"
     ]
    }
   ],
   "source": [
    "a=10\n",
    "b = 5\n",
    "a = a^b\n",
    "b =a^b\n",
    "a=a^b\n",
    "print(f\"value of a is {a}, and value of b is  {b}\")"
   ]
  },
  {
   "cell_type": "code",
   "execution_count": 14,
   "id": "f4420961",
   "metadata": {},
   "outputs": [
    {
     "name": "stdout",
     "output_type": "stream",
     "text": [
      "[5, 4, 3, 2, 1]\n",
      "[15, 14, 13, 12, 11, 10]\n"
     ]
    }
   ],
   "source": [
    "original_list = [1, 2, 3, 4, 5]\n",
    "original_list=original_list[::-1]\n",
    "print(original_list)\n",
    "\n",
    "## method \n",
    "lst = [10, 11, 12, 13, 14, 15]\n",
    "\n",
    "l=[]\n",
    "\n",
    "for i in lst:\n",
    "    l.insert(0,i)\n",
    "\n",
    "print(l)"
   ]
  },
  {
   "cell_type": "markdown",
   "id": "50354119",
   "metadata": {},
   "source": [
    "## calculate sum of nested list without using sum method"
   ]
  },
  {
   "cell_type": "code",
   "execution_count": 4,
   "id": "7362d43b",
   "metadata": {},
   "outputs": [
    {
     "name": "stdout",
     "output_type": "stream",
     "text": [
      "28\n"
     ]
    }
   ],
   "source": [
    "def recursive_sum(nested_list):\n",
    "    total = 0\n",
    "    for element in nested_list:\n",
    "        if isinstance(element,list):\n",
    "            total += recursive_sum(element)\n",
    "        else:\n",
    "            total += element\n",
    "    return total\n",
    "\n",
    "# Example usage\n",
    "nested_list = [1, [2, 3], [4, [5, 6]], 7]\n",
    "result = recursive_sum(nested_list)\n",
    "print(result)  # Output: 28"
   ]
  },
  {
   "cell_type": "markdown",
   "id": "819ecd9e",
   "metadata": {},
   "source": [
    "## Find the frequency of the charcter"
   ]
  },
  {
   "cell_type": "code",
   "execution_count": 7,
   "id": "fcdc718b",
   "metadata": {},
   "outputs": [
    {
     "name": "stdout",
     "output_type": "stream",
     "text": [
      "{'H': 1, 'e': 1, 'l': 3, 'o': 2, 'W': 1, 'r': 1, 'd': 1}\n"
     ]
    }
   ],
   "source": [
    "def character_frequency(s):\n",
    "    frequency = {}\n",
    "    for char in s:\n",
    "        if char.isalpha():  # Check if the character is alphabetic\n",
    "            if char in frequency:\n",
    "                frequency[char] += 1\n",
    "            else:\n",
    "                frequency[char] = 1\n",
    "    return frequency\n",
    "\n",
    "# Example usage\n",
    "input_string = \"Hello World!\"\n",
    "frequency_dict = character_frequency(input_string)\n",
    "print(frequency_dict)"
   ]
  },
  {
   "cell_type": "code",
   "execution_count": 8,
   "id": "bf0f3524",
   "metadata": {},
   "outputs": [
    {
     "name": "stdout",
     "output_type": "stream",
     "text": [
      "{'H': 1, 'e': 1, 'l': 3, 'o': 2, ' ': 1, 'W': 1, 'r': 1, 'd': 1, '!': 1}\n"
     ]
    }
   ],
   "source": [
    "input_string = \"Hello World!\"\n",
    "l = {}\n",
    "\n",
    "for i in input_string:\n",
    "    if i in l:\n",
    "        l [i]+=1\n",
    "    else:\n",
    "        l[i] =1\n",
    "print(l)"
   ]
  },
  {
   "cell_type": "code",
   "execution_count": 15,
   "id": "139493d8",
   "metadata": {},
   "outputs": [
    {
     "name": "stdout",
     "output_type": "stream",
     "text": [
      "False\n"
     ]
    }
   ],
   "source": [
    "def is_palindrome_sentence(sentence):\n",
    "    words = sentence.strip().split()\n",
    "    left = 0\n",
    "    right = len(words) - 1\n",
    "    \n",
    "    while left < right:\n",
    "        if words[left] != words[right]:\n",
    "            return False\n",
    "        left += 1\n",
    "        right -= 1\n",
    "    \n",
    "    return True\n",
    "\n",
    "word = 'hare krishna hare rama hare krishna hare rama hare krishna hare rama hare krishna hare rama'\n",
    "print(is_palindrome_sentence(word))  # Output: False"
   ]
  },
  {
   "cell_type": "code",
   "execution_count": 8,
   "id": "643639cc",
   "metadata": {},
   "outputs": [
    {
     "name": "stdout",
     "output_type": "stream",
     "text": [
      "rama hare krishna hare rama hare krishna hare rama hare krishna hare rama hare krishna hare\n"
     ]
    }
   ],
   "source": [
    "word = 'hare krishna hare rama hare krishna hare rama hare krishna hare rama hare krishna hare rama'.split()\n",
    "stack =[]\n",
    "for i in word:\n",
    "    stack.append(i)\n",
    "rever=[]\n",
    "while stack:\n",
    "    rever.append(stack.pop())\n",
    "print(\" \".join(rever))"
   ]
  },
  {
   "cell_type": "code",
   "execution_count": 6,
   "id": "6f4d9133",
   "metadata": {},
   "outputs": [
    {
     "name": "stdout",
     "output_type": "stream",
     "text": [
      "harekrishnahareramaharekrishnahareramaharekrishnahareramaharekrishnaharerama\n",
      "{'h': 12, 'a': 20, 'r': 16, 'e': 8, 'k': 4, 'i': 4, 's': 4, 'n': 4, 'm': 4}\n"
     ]
    }
   ],
   "source": [
    "word= 'hare krishna hare rama hare krishna hare rama hare krishna hare rama hare krishna hare rama'\n",
    "word =''.join(word.split())\n",
    "print(word)\n",
    "count={}\n",
    "for i in word:\n",
    "    if i in count:\n",
    "        count[i] +=1\n",
    "    else:\n",
    "        count[i] =1\n",
    "        \n",
    "print(count)"
   ]
  },
  {
   "cell_type": "code",
   "execution_count": 6,
   "id": "be9aee51",
   "metadata": {},
   "outputs": [
    {
     "name": "stdout",
     "output_type": "stream",
     "text": [
      "{'h': 12, 'a': 20, 'r': 16, 'e': 8, ' ': 15, 'k': 4, 'i': 4, 's': 4, 'n': 4, 'm': 4}\n"
     ]
    }
   ],
   "source": [
    "l ={}\n",
    "\n",
    "for i in word:\n",
    "    if i in l :\n",
    "        l[i] +=1\n",
    "    else:\n",
    "        l[i]=1\n",
    "print(l)"
   ]
  },
  {
   "cell_type": "markdown",
   "id": "962b0f3e",
   "metadata": {},
   "source": [
    "## TWO SUM"
   ]
  },
  {
   "cell_type": "code",
   "execution_count": 1,
   "id": "0fde990f",
   "metadata": {},
   "outputs": [
    {
     "name": "stdout",
     "output_type": "stream",
     "text": [
      "2 5 7\n",
      "3 4 7\n",
      "2\n"
     ]
    }
   ],
   "source": [
    "l = [2, 3, 4, 5, 6, 7, 8]\n",
    "target = 7\n",
    "counter=0\n",
    "for i in range(len(l)):\n",
    "    for j in range(i+1 , len(l)):\n",
    "        if l[i] + l[j] == target:\n",
    "            counter+=1\n",
    "            print(l[i], l[j] , target)\n",
    "print(counter)"
   ]
  },
  {
   "cell_type": "code",
   "execution_count": 13,
   "id": "32385600",
   "metadata": {},
   "outputs": [
    {
     "name": "stdout",
     "output_type": "stream",
     "text": [
      "2 5 7\n",
      "3 4 7\n",
      "2\n"
     ]
    }
   ],
   "source": [
    "l = [2, 3, 4, 5, 6, 7, 8]\n",
    "target = 7\n",
    "counter=0\n",
    "for i in range(len(l)):\n",
    "    for j in range(i+1, len(l)):\n",
    "        if l[i] + l[j] == target:\n",
    "            counter+=1\n",
    "            print(l[i], l[j] , target)\n",
    "print(counter)"
   ]
  },
  {
   "cell_type": "code",
   "execution_count": 1,
   "id": "2339067a",
   "metadata": {},
   "outputs": [
    {
     "name": "stdout",
     "output_type": "stream",
     "text": [
      "4 3 7\n",
      "5 2 7\n"
     ]
    }
   ],
   "source": [
    "l = [2, 3, 4, 5, 6, 7, 8]\n",
    "target = 7\n",
    "\n",
    "for i in range(len(l)):\n",
    "    for j in range(i+1, len(l)):\n",
    "        if l[i] + l[j] == target:\n",
    "            print(l[i], l[j] , target)\n"
   ]
  },
  {
   "cell_type": "code",
   "execution_count": 21,
   "id": "61feb9fd",
   "metadata": {},
   "outputs": [
    {
     "name": "stdout",
     "output_type": "stream",
     "text": [
      "2 5\n",
      "3 4\n"
     ]
    }
   ],
   "source": [
    "l = [2, 3, 4, 5, 6, 7, 8]\n",
    "target = 7\n",
    "seen_pairs = set()\n",
    "\n",
    "for i in range(len(l)):\n",
    "    for j in range(i + 1, len(l)):\n",
    "        if l[i] + l[j] == target:\n",
    "            pair = tuple(sorted((l[i], l[j])))\n",
    "            if pair not in seen_pairs:\n",
    "                print(l[i], l[j])\n",
    "                seen_pairs.add(pair)\n"
   ]
  },
  {
   "cell_type": "markdown",
   "id": "d481972c",
   "metadata": {},
   "source": [
    "## Python program to interchange first and last elements in a list"
   ]
  },
  {
   "cell_type": "code",
   "execution_count": 6,
   "id": "9edc9e70",
   "metadata": {},
   "outputs": [
    {
     "name": "stdout",
     "output_type": "stream",
     "text": [
      "[24, 35, 9, 56, 12]\n",
      "[14, 35, 9, 56, 2]\n"
     ]
    }
   ],
   "source": [
    "def swap(newlist):\n",
    "    newlist[0] , newlist[-1]= newlist[-1], newlist[0]\n",
    "    return  newlist\n",
    "\n",
    "newlist = [12, 35, 9, 56, 24]\n",
    "print(swap(newlist))\n",
    "\n",
    "\n",
    "##2nd method\n",
    "def swap(newlist):\n",
    "    get=newlist[0] , newlist[-1]\n",
    "    newlist[-1] , newlist[0]=get\n",
    "    return  newlist\n",
    "\n",
    "newlist = [2, 35, 9, 56, 14]\n",
    "print(swap(newlist))\n"
   ]
  },
  {
   "cell_type": "markdown",
   "id": "1d77c0e1",
   "metadata": {},
   "source": [
    "## Python Program to Swap Two Elements in a List"
   ]
  },
  {
   "cell_type": "code",
   "execution_count": 7,
   "id": "f2eeaa57",
   "metadata": {},
   "outputs": [
    {
     "name": "stdout",
     "output_type": "stream",
     "text": [
      "[2, 9, 35, 56, 14]\n"
     ]
    }
   ],
   "source": [
    "newlist = [2, 35, 9, 56, 14]\n",
    "newlist[2],newlist[1]=newlist[1],newlist[2]\n",
    "print(newlist)"
   ]
  },
  {
   "cell_type": "markdown",
   "id": "ca715302",
   "metadata": {},
   "source": [
    "## Swap elements in String list"
   ]
  },
  {
   "cell_type": "code",
   "execution_count": 8,
   "id": "365a5c6e",
   "metadata": {},
   "outputs": [
    {
     "name": "stdout",
     "output_type": "stream",
     "text": [
      "The original list is : ['Gfg', 'is', 'best', 'for', 'Geeks']\n",
      "List after performing character swaps : ['efg', 'is', 'bGst', 'for', 'eGGks']\n"
     ]
    }
   ],
   "source": [
    "test_list = ['Gfg', 'is', 'best', 'for', 'Geeks']\n",
    " \n",
    "# printing original lists\n",
    "print(\"The original list is : \" + str(test_list))\n",
    "\n",
    "res=[sub.replace('G','/').replace('e','G').replace('/','e') for sub in test_list]\n",
    " \n",
    "# printing result \n",
    "print (\"List after performing character swaps : \" + str(res))"
   ]
  },
  {
   "cell_type": "code",
   "execution_count": 9,
   "id": "dc00e17b",
   "metadata": {},
   "outputs": [
    {
     "name": "stdout",
     "output_type": "stream",
     "text": [
      "The list is : [1, 4, 5, 7, 8]\n",
      "5\n"
     ]
    }
   ],
   "source": [
    "test_list = [1, 4, 5, 7, 8]\n",
    " \n",
    "# Printing test_list\n",
    "print(\"The list is : \" + str(test_list))\n",
    "counter =0\n",
    "\n",
    "for i in test_list:\n",
    "    counter = counter+1\n",
    "    \n",
    "print(counter)"
   ]
  },
  {
   "cell_type": "markdown",
   "id": "73167f17",
   "metadata": {},
   "source": [
    "## Find Maximum of two numbers in Python"
   ]
  },
  {
   "cell_type": "code",
   "execution_count": 19,
   "id": "cfd89a78",
   "metadata": {},
   "outputs": [
    {
     "name": "stdout",
     "output_type": "stream",
     "text": [
      "5\n",
      "8\n",
      "4 is a maximum number\n",
      "4\n"
     ]
    }
   ],
   "source": [
    "def find_max_of_twono(a,b):\n",
    "    if a >b:\n",
    "        return a\n",
    "    else:\n",
    "        return b\n",
    "a,b=3,5\n",
    "print(find_max_of_twono(a,b))\n",
    "\n",
    "##2nd method\n",
    "\n",
    "a,b=8,5\n",
    "\n",
    "maximum = max(a,b)\n",
    "print(maximum)\n",
    "\n",
    "# python code to find maximum of two numbers\n",
    " \n",
    "a=2;b=4\n",
    "maximum = lambda a,b:a if a > b else b\n",
    "print(f'{maximum(a,b)} is a maximum number')\n",
    "\n",
    "\n",
    "# Python program to find the\n",
    "# maximum of two numbers\n",
    "     \n",
    "# Driver code\n",
    "a = 2\n",
    "b = 4\n",
    " \n",
    "# Use of ternary operator\n",
    "print(a if a >= b else b)"
   ]
  },
  {
   "cell_type": "markdown",
   "id": "3d340555",
   "metadata": {},
   "source": [
    "## Minimum of two numbers in Python"
   ]
  },
  {
   "cell_type": "code",
   "execution_count": 22,
   "id": "f860d127",
   "metadata": {},
   "outputs": [
    {
     "name": "stdout",
     "output_type": "stream",
     "text": [
      "5\n"
     ]
    }
   ],
   "source": [
    "def find_max_of_twono(a,b):\n",
    "    if a <= b:\n",
    "        return a\n",
    "    else:\n",
    "        return b\n",
    "a,b=9,5\n",
    "print(find_max_of_twono(a,b))"
   ]
  },
  {
   "cell_type": "markdown",
   "id": "afbc8114",
   "metadata": {},
   "source": [
    "## Check if element exists in list in Python"
   ]
  },
  {
   "cell_type": "code",
   "execution_count": 33,
   "id": "a6fe012e",
   "metadata": {},
   "outputs": [
    {
     "name": "stdout",
     "output_type": "stream",
     "text": [
      "not exist\n",
      "Checking if 15 exists in list\n",
      "Yes, 15 exists in list\n"
     ]
    }
   ],
   "source": [
    "l = [2,3,4,6,0]\n",
    "\n",
    "i =9\n",
    "if i in l :\n",
    "    print(\"exist\")\n",
    "else:\n",
    "    print(\"not exist\")\n",
    "    \n",
    "\n",
    "##2nd method \n",
    "test_list = [10, 15, 20, 7, 46, 2808]\n",
    "\n",
    "print(\"Checking if 15 exists in list\")\n",
    "\n",
    "exist_count = test_list.count(15)\n",
    "if exist_count > 0:\n",
    "    print(\"Yes, 15 exists in list\")\n",
    "else:\n",
    "    print(\"No, 15 does not exists in list\")"
   ]
  },
  {
   "cell_type": "markdown",
   "id": "f82fb8ca",
   "metadata": {},
   "source": [
    "## Different ways to clear a list in Python"
   ]
  },
  {
   "cell_type": "code",
   "execution_count": 10,
   "id": "fa9498c5",
   "metadata": {},
   "outputs": [
    {
     "name": "stdout",
     "output_type": "stream",
     "text": [
      "GEEK before clear: [6, 0, 4, 1]\n",
      "[]\n",
      "List1 before deleting is : [1, 2, 3]\n",
      "List1 after clearing using reinitialization : []\n",
      "List before clearing:  [1, 2, 3, 4, 5]\n",
      "List after clearing using Slicing:  []\n"
     ]
    }
   ],
   "source": [
    "GEEK = [6, 0, 4, 1]\n",
    "print('GEEK before clear:', GEEK)\n",
    "GEEK.clear()\n",
    "print(GEEK)\n",
    "\n",
    "\n",
    "## 2nd method\n",
    "\n",
    "list1 = [1, 2, 3]\n",
    "print(\"List1 before deleting is : \"\n",
    "      + str(list1))\n",
    "list1 = []\n",
    "\n",
    "print(\"List1 after clearing using reinitialization : \"\n",
    "      + str(list1))\n",
    "\n",
    "##3rd method\n",
    "\n",
    "lst = [1, 2, 3, 4, 5]\n",
    "\n",
    "print(\"List before clearing: \",lst)\n",
    "# Clearing list using slicing\n",
    "lst = lst[:0]\n",
    "print(\"List after clearing using Slicing: \",lst)"
   ]
  },
  {
   "cell_type": "markdown",
   "id": "b1e7e3a3",
   "metadata": {},
   "source": [
    "## Python program to count positive and negative numbers in a list"
   ]
  },
  {
   "cell_type": "code",
   "execution_count": 58,
   "id": "8926da9e",
   "metadata": {},
   "outputs": [
    {
     "name": "stdout",
     "output_type": "stream",
     "text": [
      "Positive numbers in the list:  4\n",
      "Negative numbers in the list:  3\n"
     ]
    }
   ],
   "source": [
    "list1 = [10, -21, 4, -45, 66, -93, 1]\n",
    " \n",
    "pos_count, neg_count = 0, 0\n",
    "for i in list1:\n",
    "    if i >= 0:\n",
    "        pos_count += 1\n",
    "    else:\n",
    "        neg_count+=1\n",
    "print(\"Positive numbers in the list: \", pos_count)\n",
    "print(\"Negative numbers in the list: \", neg_count)"
   ]
  },
  {
   "cell_type": "markdown",
   "id": "d09f2c57",
   "metadata": {},
   "source": [
    "## Python program to print all even numbers in a range"
   ]
  },
  {
   "cell_type": "code",
   "execution_count": 62,
   "id": "519f342b",
   "metadata": {},
   "outputs": [
    {
     "name": "stdout",
     "output_type": "stream",
     "text": [
      "enter starting number1\n",
      "endter outer value100\n",
      "2 4 6 8 10 12 14 16 18 20 22 24 26 28 30 32 34 36 38 40 42 44 46 48 50 52 54 56 58 60 62 64 66 68 70 72 74 76 78 80 82 84 86 88 90 92 94 96 98 100 "
     ]
    }
   ],
   "source": [
    "start = int(input(\"enter starting number\"))\n",
    "end = int(input(\"endter outer value\"))\n",
    "\n",
    "for i in range(start, end+1):\n",
    "    if i %2 ==0:\n",
    "        print(i, end=\" \")\n"
   ]
  },
  {
   "cell_type": "markdown",
   "id": "e0297dc1",
   "metadata": {},
   "source": [
    "## Remove empty tuples from a list"
   ]
  },
  {
   "cell_type": "code",
   "execution_count": 64,
   "id": "e0640b28",
   "metadata": {},
   "outputs": [
    {
     "name": "stdout",
     "output_type": "stream",
     "text": [
      "[('ram', '15', '8'), ('laxman', 'sita'), ('krishna', 'akbar', '45'), ('', '')]\n"
     ]
    }
   ],
   "source": [
    "def Remove(tuple):\n",
    "    tuple = [t for t in tuple if t]\n",
    "    return tuple\n",
    "\n",
    "tuples = [(), ('ram','15','8'), (), ('laxman', 'sita'), \n",
    "          ('krishna', 'akbar', '45'), ('',''),()]\n",
    "print(Remove(tuples))"
   ]
  },
  {
   "cell_type": "markdown",
   "id": "8e30c312",
   "metadata": {},
   "source": [
    "## Remove empty List from List"
   ]
  },
  {
   "cell_type": "code",
   "execution_count": 76,
   "id": "c90779ff",
   "metadata": {},
   "outputs": [
    {
     "name": "stdout",
     "output_type": "stream",
     "text": [
      "The original list is : [5, 6, [], 3, [], [], 9]\n",
      "[5, 6, 3, 9]\n",
      "The original list is : [5, 6, [], 3, [], [], 9]\n",
      "List after empty list removal : [5, 6, 3, 9]\n",
      "The original list is : [5, 6, [], 3, [], [], 9]\n",
      "List after empty list removal : [5, 6, 3, 9]\n"
     ]
    }
   ],
   "source": [
    "test_list = [5, 6, [], 3, [], [], 9]\n",
    " \n",
    "# printing original list\n",
    "print(\"The original list is : \" + str(test_list))\n",
    "\n",
    "res = [res for res in test_list if res !=[] ]\n",
    "print(res)\n",
    "\n",
    "\n",
    "##2nd method \n",
    "\n",
    "test_list = [5, 6, [], 3, [], [], 9]\n",
    "print(\"The original list is : \" + str(test_list))\n",
    "res = list(filter(None, test_list))\n",
    "print(\"List after empty list removal : \" + str(res))\n",
    "\n",
    "\n",
    "##3rd method\n",
    "\n",
    "\n",
    "def empty_list_remove(input_list):\n",
    "    new_list = []\n",
    "    for ele in input_list:\n",
    "        if ele:\n",
    "            new_list.append(ele)\n",
    "    return new_list\n",
    "input_list = [5, 6, [], 3, [], [], 9]\n",
    "\n",
    "print(f\"The original list is : {input_list}\")\n",
    "print(f\"List after empty list removal : {empty_list_remove(input_list)}\")\n"
   ]
  },
  {
   "cell_type": "markdown",
   "id": "e6d17267",
   "metadata": {},
   "source": [
    "## find the sum without using sum method"
   ]
  },
  {
   "cell_type": "code",
   "execution_count": 15,
   "id": "e37463fd",
   "metadata": {},
   "outputs": [
    {
     "name": "stdout",
     "output_type": "stream",
     "text": [
      "14\n"
     ]
    }
   ],
   "source": [
    "total_sum=0\n",
    "arr=[3,5,6]\n",
    "for i in arr:\n",
    "    total_sum+=i\n",
    "print(total_sum)"
   ]
  },
  {
   "cell_type": "code",
   "execution_count": 80,
   "id": "9fa2a43f",
   "metadata": {},
   "outputs": [
    {
     "name": "stdout",
     "output_type": "stream",
     "text": [
      "20\n",
      "74\n"
     ]
    }
   ],
   "source": [
    "\n",
    "lst=[2,3,4,5,6]\n",
    "total =0\n",
    "for i in range(len(lst)):\n",
    "    total +=lst[i]\n",
    "    \n",
    "print(total)\n",
    "\n",
    "##2nd method\n",
    "lst = [2, 3, 4, 59, 6]\n",
    "total = 0\n",
    "for element in lst:\n",
    "    total += element  # Adding the element directly to total\n",
    "\n",
    "print(total)\n"
   ]
  },
  {
   "cell_type": "code",
   "execution_count": 15,
   "id": "9ebf30b1",
   "metadata": {},
   "outputs": [
    {
     "name": "stdout",
     "output_type": "stream",
     "text": [
      "0\n",
      "1\n",
      "1\n",
      "2\n",
      "3\n"
     ]
    }
   ],
   "source": [
    "def fibb():\n",
    "    a, b=0,1\n",
    "    while True:\n",
    "        yield a\n",
    "        a, b=b , a+b\n",
    "        \n",
    "f = fibb()\n",
    "print(next(f))\n",
    "print(next(f))\n",
    "print(next(f))\n",
    "print(next(f))\n",
    "print(next(f))"
   ]
  },
  {
   "cell_type": "code",
   "execution_count": null,
   "id": "77ef8274",
   "metadata": {},
   "outputs": [],
   "source": []
  }
 ],
 "metadata": {
  "kernelspec": {
   "display_name": "Python 3 (ipykernel)",
   "language": "python",
   "name": "python3"
  },
  "language_info": {
   "codemirror_mode": {
    "name": "ipython",
    "version": 3
   },
   "file_extension": ".py",
   "mimetype": "text/x-python",
   "name": "python",
   "nbconvert_exporter": "python",
   "pygments_lexer": "ipython3",
   "version": "3.12.7"
  }
 },
 "nbformat": 4,
 "nbformat_minor": 5
}
