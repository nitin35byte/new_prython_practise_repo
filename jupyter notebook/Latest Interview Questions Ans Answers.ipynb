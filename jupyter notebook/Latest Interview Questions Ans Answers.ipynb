{
 "cells": [
  {
   "cell_type": "code",
   "execution_count": 5,
   "id": "68943a0b",
   "metadata": {},
   "outputs": [
    {
     "name": "stdout",
     "output_type": "stream",
     "text": [
      "lch ygoonhcet detimil\n"
     ]
    }
   ],
   "source": [
    "a=\"hcl technoogy limited\"\n",
    "word=a.split()\n",
    "p=[]\n",
    "for i in range(len(word)):\n",
    "    p.append(word[i][::-1])\n",
    "print(\" \".join(p))"
   ]
  },
  {
   "cell_type": "code",
   "execution_count": 7,
   "id": "fa84a808",
   "metadata": {},
   "outputs": [
    {
     "name": "stdout",
     "output_type": "stream",
     "text": [
      "{'name': 'Niitn', 'age': 27, 'location': 'Niitn', 'pd': 27}\n",
      "{'name': 'Niitn', 'location': 'Niitn', 'pd': 27}\n",
      "{'location': 'delhi', 'pd': 27}\n",
      "{}\n"
     ]
    }
   ],
   "source": [
    "## Create dictionary and update country and gender\n",
    "d={\"name\":\"Niitn\" , \"age\":27}\n",
    "c={\"location\":\"Niitn\" , \"pd\":27}\n",
    "#d.update(country=\"India\" ,gender=\"male\")\n",
    "d.update(c)\n",
    "print(d)\n",
    "#remove age from dictionary\n",
    "d.pop(\"age\")\n",
    "print(d)\n",
    "c.update(location=\"delhi\")\n",
    "print(c)\n",
    "c.clear()\n",
    "print(c)"
   ]
  },
  {
   "cell_type": "markdown",
   "id": "75eed545",
   "metadata": {},
   "source": [
    "## Find Longest Prefix"
   ]
  },
  {
   "cell_type": "code",
   "execution_count": 1,
   "id": "ea8300bc",
   "metadata": {},
   "outputs": [
    {
     "name": "stdout",
     "output_type": "stream",
     "text": [
      "Longest Substring Length: 6\n",
      "Longest Substring: abcdef\n"
     ]
    }
   ],
   "source": [
    "def longestSubstring(s):\n",
    "    char_index={}\n",
    "    start=0\n",
    "    max_length=0\n",
    "    strn=\"\"\n",
    "    for i in range(len(s)):\n",
    "        if s[i] in char_index and char_index[s[i]] >=start:\n",
    "            start=char_index[s[i]]+1\n",
    "        char_index[s[i]]=i\n",
    "        \n",
    "        current_max=i-start+1\n",
    "        if current_max >max_length:\n",
    "            max_length=current_max\n",
    "            strn=s[start:i+1]\n",
    "    return max_length , strn\n",
    "\n",
    "arr = 'abcdabcdefabcdef'\n",
    "char_index, strn = longestSubstring(arr)\n",
    "print(\"Longest Substring Length:\", char_index)\n",
    "print(\"Longest Substring:\", strn)"
   ]
  },
  {
   "cell_type": "code",
   "execution_count": 5,
   "id": "9646def2",
   "metadata": {},
   "outputs": [
    {
     "name": "stdout",
     "output_type": "stream",
     "text": [
      "{'n': 2, 'i': 2, 't': 1}\n",
      "['n', 'i']\n",
      "The first non-repeating character is: t\n"
     ]
    }
   ],
   "source": [
    "a = 'nitin'\n",
    "c = {}\n",
    "b = []\n",
    "\n",
    "for i in a:\n",
    "    if i in c:\n",
    "        c[i]+=1\n",
    "    else:\n",
    "        c[i]=1\n",
    "print(c)\n",
    "\n",
    "for value ,count in c.items():\n",
    "    if count >1:\n",
    "        b.append(value)\n",
    "print(b)\n",
    "\n",
    "for char in a:\n",
    "    if c[char] ==1:\n",
    "        print(f\"The first non-repeating character is: {char}\")\n",
    "        break\n",
    "else:\n",
    "    print(\"No non-repeating character found.\")"
   ]
  },
  {
   "cell_type": "code",
   "execution_count": 6,
   "id": "a5d4717a",
   "metadata": {},
   "outputs": [
    {
     "name": "stdout",
     "output_type": "stream",
     "text": [
      "frl\n"
     ]
    }
   ],
   "source": [
    "def longestPrefis(s):\n",
    "    commprefix=\"\"\n",
    "    maxstr=max(s)\n",
    "    minstr=min(s)\n",
    "    \n",
    "    len_min_str=len(minstr)\n",
    "    \n",
    "    for i in range(len_min_str):\n",
    "        if minstr[i] == maxstr[i]:\n",
    "            commprefix +=minstr[i]\n",
    "            \n",
    "        else:\n",
    "            break\n",
    "            \n",
    "    return commprefix\n",
    "s= [\"frleower\", \"frltow\", \"frleight\"]\n",
    "print(longestPrefis(s))"
   ]
  },
  {
   "cell_type": "markdown",
   "id": "fbb5ae49",
   "metadata": {},
   "source": [
    "## Longest Substring of array print frequency"
   ]
  },
  {
   "cell_type": "code",
   "execution_count": 1,
   "id": "9ac6a903",
   "metadata": {},
   "outputs": [
    {
     "name": "stdout",
     "output_type": "stream",
     "text": [
      "Length of the longest substring without repeating characters: 3\n"
     ]
    }
   ],
   "source": [
    "def longestSubstring(s):\n",
    "    char_index={}\n",
    "    max_char=0\n",
    "    start=0\n",
    "    \n",
    "    for i in range(len(s)):\n",
    "        if s[i] in char_index:\n",
    "            start=max(start , char_index[s[i]]+i)\n",
    "        char_index[s[i]] =i\n",
    "        max_char=max(max_char , i - start+1)\n",
    "    return max_char\n",
    "s = \"abcabcbb\"\n",
    "result = longestSubstring(s)\n",
    "print(\"Length of the longest substring without repeating characters:\", result)"
   ]
  },
  {
   "cell_type": "markdown",
   "id": "7456fb4a",
   "metadata": {},
   "source": [
    "## Longest Substring of array print frequency with value"
   ]
  },
  {
   "cell_type": "code",
   "execution_count": 7,
   "id": "5af67341",
   "metadata": {},
   "outputs": [
    {
     "name": "stdout",
     "output_type": "stream",
     "text": [
      "Length of the longest substring without repeating characters: 3\n",
      "Longest substring without repeating characters: abc\n"
     ]
    }
   ],
   "source": [
    "def longestSubstring(s):\n",
    "    char_index = {}\n",
    "    max_char = 0\n",
    "    start = 0\n",
    "    max_start = 0  # To track the start of the longest substring\n",
    "\n",
    "    for i in range(len(s)):\n",
    "        if s[i] in char_index:\n",
    "            start = max(start, char_index[s[i]] + 1)\n",
    "        char_index[s[i]] = i\n",
    "        if i - start + 1 > max_char:  # Update max_char and max_start\n",
    "            max_char = i - start + 1\n",
    "            max_start = start\n",
    "\n",
    "    # Extract the longest substring using max_start and max_char\n",
    "    longest_substring = s[max_start:max_start + max_char]\n",
    "    return max_char, longest_substring\n",
    "\n",
    "s = \"abcabcbb\"\n",
    "length, substring = longestSubstring(s)\n",
    "print(\"Length of the longest substring without repeating characters:\", length)\n",
    "print(\"Longest substring without repeating characters:\", substring)"
   ]
  },
  {
   "cell_type": "code",
   "execution_count": 8,
   "id": "5c6f74d2",
   "metadata": {},
   "outputs": [
    {
     "name": "stdout",
     "output_type": "stream",
     "text": [
      "Longest substring without repeating characters: (3, 'abc')\n"
     ]
    }
   ],
   "source": [
    "def substring(arr):\n",
    "    stri=''\n",
    "    max_length=0\n",
    "    start=0\n",
    "    frequency={}\n",
    "    \n",
    "    for i in range(len(arr)):\n",
    "        if arr[i] in frequency and frequency[arr[i]] >= start:\n",
    "            start =frequency[arr[i]]+1\n",
    "        frequency[arr[i]]=i\n",
    "        \n",
    "        current_max=i-start+1\n",
    "        if current_max >max_length:\n",
    "            max_length =current_max\n",
    "            stri=arr[start:i+1]\n",
    "    return max_length, stri\n",
    "arr = \"abcabcbb\"\n",
    "result = substring(arr)\n",
    "print(\"Longest substring without repeating characters:\", result)"
   ]
  },
  {
   "cell_type": "markdown",
   "id": "14d1e68c",
   "metadata": {},
   "source": [
    "## Reverse Vowels"
   ]
  },
  {
   "cell_type": "code",
   "execution_count": 2,
   "id": "04089681",
   "metadata": {},
   "outputs": [
    {
     "name": "stdout",
     "output_type": "stream",
     "text": [
      "same hello dame\n"
     ]
    }
   ],
   "source": [
    "\n",
    "# Your code has a few issues, and it won't produce the desired output. Here's an explanation of what's going wrong and how to fix it:\n",
    "\n",
    "# Issues in your code:\n",
    "# Iteration over a string:\n",
    "# You're iterating over the string a, which processes it character by character. This means that your if statement checks for vowels one character at a time, not by word.\n",
    "\n",
    "# Reversed function misused:\n",
    "# You're trying to reverse the vowel word directly, but reversed() expects an iterable (e.g., a list or string). It does not work as intended in your context.\n",
    "\n",
    "# Storing the result:\n",
    "# You're not collecting the reversed vowels or replacing them in the original string.\n",
    "\n",
    "# Correct Approach:\n",
    "# You need to identify vowels in the string and reverse their positions while keeping other characters intact.\n",
    "\n",
    "# Here's a corrected version of your code:\n",
    "\n",
    "def reverse_vowels(s):\n",
    "    vowels = {'a', 'e', 'i', 'o', 'u', 'A', 'E', 'I', 'O', 'U'}  # Include uppercase vowels if needed\n",
    "    s = list(s)  # Convert the string to a list for mutability\n",
    "    i, j = 0, len(s) - 1  # Two-pointer approach\n",
    "    \n",
    "    if s[i] not in vowels:\n",
    "        i+=1\n",
    "    elif s[j] not in vowels:\n",
    "         j-=1\n",
    "        \n",
    "    else:\n",
    "        s[i] ,s[j]=s[j] ,s[i]\n",
    "        \n",
    "    return ''.join(s)  # Convert the list back to a string\n",
    "\n",
    "# Example usage\n",
    "a = \"same hello dame\"\n",
    "result = reverse_vowels(a)\n",
    "print(result)"
   ]
  },
  {
   "cell_type": "markdown",
   "id": "c0ae8ac0",
   "metadata": {},
   "source": [
    "## Print First Non Repeating character in given string"
   ]
  },
  {
   "cell_type": "code",
   "execution_count": 1,
   "id": "251b6992",
   "metadata": {},
   "outputs": [
    {
     "name": "stdout",
     "output_type": "stream",
     "text": [
      "{'n': 2, 'i': 2, 't': 1, 'p': 1}\n",
      "The first non-repeating character is: t\n",
      "The first non-repeating character is: p\n",
      "No non-repeating character found.\n",
      "['t', 'p']\n"
     ]
    }
   ],
   "source": [
    "a = 'nitinp'\n",
    "a = a.lower()\n",
    "\n",
    "# Count the frequency of each character\n",
    "char_count = {}\n",
    "for char in a:\n",
    "    if char in char_count:\n",
    "        char_count[char] += 1\n",
    "    else:\n",
    "        char_count[char] = 1\n",
    "\n",
    "# Print the character frequencies (optional, for debugging)\n",
    "print(char_count)\n",
    "\n",
    "# Find the first non-repeating character\n",
    "word=[]\n",
    "for char in a:\n",
    "    if char_count[char] == 1:\n",
    "        word.append(char)\n",
    "        print(f\"The first non-repeating character is: {char}\")\n",
    "        #break\n",
    "else:\n",
    "    print(\"No non-repeating character found.\")\n",
    "print(word)"
   ]
  },
  {
   "cell_type": "markdown",
   "id": "a2c70ebe",
   "metadata": {},
   "source": [
    "## reverse array in subset of size of n"
   ]
  },
  {
   "cell_type": "code",
   "execution_count": 1,
   "id": "676e7c1b",
   "metadata": {},
   "outputs": [
    {
     "name": "stdout",
     "output_type": "stream",
     "text": [
      "[3, 2, 1, 6, 5, 4, 9, 8, 7]\n"
     ]
    }
   ],
   "source": [
    "def reverse_in_subsets(arr, n):\n",
    "    if n <0:\n",
    "        raise ValueError(\"value should be greater than 0\")\n",
    "        if not arr:\n",
    "            return []\n",
    "    \n",
    "    for i in range(0  ,len(arr) , n):\n",
    "        arr[i:i+n]=reversed(arr[i:i+n])\n",
    "    return arr\n",
    "array = [1, 2, 3, 4, 5, 6, 7, 8, 9]\n",
    "subset_size = 3\n",
    "result = reverse_in_subsets(array, subset_size)\n",
    "print(result)"
   ]
  },
  {
   "cell_type": "code",
   "execution_count": 11,
   "id": "c87e9fc0",
   "metadata": {},
   "outputs": [
    {
     "name": "stdout",
     "output_type": "stream",
     "text": [
      "[7, 8, 9, 4, 5, 6, 1, 2, 3]\n"
     ]
    }
   ],
   "source": [
    "# for i in range(len(array)-1 , -1, -1):\n",
    "#     print(i)\n",
    "    \n",
    "left=0\n",
    "right=len(array)-1\n",
    "while left < right:\n",
    "    array[left] , array[right]=array[right] , array[left]\n",
    "    left +=1\n",
    "    right-=1\n",
    "    \n",
    "print(array)\n",
    "#[1, 2, 3, 4, 5] ==[5, 4, 3, 2, 1]"
   ]
  },
  {
   "cell_type": "code",
   "execution_count": 9,
   "id": "105672e2",
   "metadata": {},
   "outputs": [
    {
     "name": "stdout",
     "output_type": "stream",
     "text": [
      "[5, 4, 3, 2, 1]\n"
     ]
    }
   ],
   "source": [
    "array = [1, 2, 3, 4, 5]\n",
    "left = 0\n",
    "right = len(array) - 1\n",
    "\n",
    "while left < right:  # ✅ Fix: Corrected the condition\n",
    "    array[left], array[right] = array[right], array[left]\n",
    "    left += 1\n",
    "    right -= 1\n",
    "\n",
    "print(array)\n"
   ]
  },
  {
   "cell_type": "code",
   "execution_count": 46,
   "id": "f016be80",
   "metadata": {},
   "outputs": [
    {
     "name": "stdout",
     "output_type": "stream",
     "text": [
      "[3, 2, 1, 6, 5, 4, 9, 8, 7]\n"
     ]
    }
   ],
   "source": [
    "def reverse_in_subsets(arr, n):\n",
    "    for i in range(0 , len(arr) , n):\n",
    "        arr[i:i+n]=reversed(arr[i:i+n])\n",
    "    return arr\n",
    "array = [1, 2, 3, 4, 5, 6, 7, 8, 9]\n",
    "subset_size = 3\n",
    "result = reverse_in_subsets(array, subset_size)\n",
    "print(result)"
   ]
  },
  {
   "cell_type": "markdown",
   "id": "cfff3e16",
   "metadata": {},
   "source": [
    "## Print occurance of element"
   ]
  },
  {
   "cell_type": "code",
   "execution_count": 27,
   "id": "7f1bd399",
   "metadata": {},
   "outputs": [
    {
     "name": "stdout",
     "output_type": "stream",
     "text": [
      "a3b3d5r4e6\n"
     ]
    }
   ],
   "source": [
    "a = 'aaabbbdddddrrrreeeeee'\n",
    "w={}\n",
    "for i in a:\n",
    "    if i in w:\n",
    "        w[i]+=1\n",
    "    else:\n",
    "        w[i]=1\n",
    "re=''.join(f'{char}{count}' for char  , count in w.items())\n",
    "print(re)"
   ]
  },
  {
   "cell_type": "code",
   "execution_count": 17,
   "id": "b3e67687",
   "metadata": {},
   "outputs": [
    {
     "name": "stdout",
     "output_type": "stream",
     "text": [
      "a3b3d5r4e6\n"
     ]
    }
   ],
   "source": [
    "a = 'aaabbbdddddrrrreeeeee'\n",
    "w={}\n",
    "for i in a:\n",
    "    if i in w:\n",
    "        w[i]+=1\n",
    "    else:\n",
    "        w[i]=1\n",
    "result=\"\"\n",
    "for char, count in w.items():\n",
    "    result+=f\"{char}{count}\"\n",
    "print(result)"
   ]
  },
  {
   "cell_type": "markdown",
   "id": "c8794cfe",
   "metadata": {},
   "source": [
    "## Map the position of element from one list to another list"
   ]
  },
  {
   "cell_type": "code",
   "execution_count": 10,
   "id": "6ccdbbce",
   "metadata": {},
   "outputs": [
    {
     "name": "stdout",
     "output_type": "stream",
     "text": [
      "{1: 4, 2: 3, 3: 5, 4: 1, 5: 2, 8: 0}\n"
     ]
    }
   ],
   "source": [
    "a=[1 , 2 , 3 , 4, 5, 8]\n",
    "b = [8,4 , 5,2 , 1,3]\n",
    "\n",
    "re={i:b.index(i) for i in a}\n",
    "print(re)"
   ]
  },
  {
   "cell_type": "code",
   "execution_count": 11,
   "id": "0c47c85d",
   "metadata": {},
   "outputs": [
    {
     "name": "stdout",
     "output_type": "stream",
     "text": [
      "0 4\n",
      "1 3\n",
      "2 5\n",
      "3 1\n",
      "4 2\n",
      "5 0\n",
      "{1: 8, 2: 4, 3: 5, 4: 2, 5: 1, 8: 3}\n"
     ]
    }
   ],
   "source": [
    "for i in range(len(a)):\n",
    "    for j in range(len(b)):\n",
    "        if a[i] ==b[j]:\n",
    "            print(i , j)\n",
    "            \n",
    "d=dict(zip(a,b))\n",
    "print(d)"
   ]
  },
  {
   "cell_type": "code",
   "execution_count": 65,
   "id": "60d3fdbb",
   "metadata": {},
   "outputs": [
    {
     "name": "stdout",
     "output_type": "stream",
     "text": [
      "[-1, -1, -7, -15, -15]\n"
     ]
    }
   ],
   "source": [
    "def first_negative_in_window(arr, n):\n",
    "    result = []\n",
    "    \n",
    "    for i in range(len(arr) - n + 1):\n",
    "        # Get the current window\n",
    "        window = arr[i:i+n]\n",
    "        \n",
    "        # Find the first negative number in the current window\n",
    "        for num in window:\n",
    "            if num < 0:\n",
    "                result.append(num)\n",
    "                found = True\n",
    "                break\n",
    "        \n",
    "        # If no negative number is found, append 0\n",
    "        if not found:\n",
    "            result.append(0)\n",
    "    \n",
    "    return result\n",
    "\n",
    "# Example usage\n",
    "array = [12, -1, -7, 8, -15, 30, 16, 28]\n",
    "window_size = 3\n",
    "output = first_negative_in_window(array, window_size)\n",
    "print(output)"
   ]
  },
  {
   "cell_type": "code",
   "execution_count": 2,
   "id": "120d0f78",
   "metadata": {},
   "outputs": [
    {
     "name": "stdout",
     "output_type": "stream",
     "text": [
      "my eman is nitin\n"
     ]
    }
   ],
   "source": [
    "def reverse_alternate_words(input_string):\n",
    "    words = input_string.split()  # Split the string into a list of words\n",
    "    for i in range(1 ,len(words), 2):  # Reverse alternate words (index 1, 3, 5, etc.)\n",
    "        words[i] = words[i][::-1]  # Reverse the word\n",
    "    return ' '.join(words)  # Join the words back into a string\n",
    "\n",
    "# Example usage\n",
    "input_string =\"my name is nitin\"\n",
    "output = reverse_alternate_words(input_string)\n",
    "print(output)"
   ]
  },
  {
   "cell_type": "code",
   "execution_count": 4,
   "id": "8e8ed269",
   "metadata": {},
   "outputs": [
    {
     "name": "stdout",
     "output_type": "stream",
     "text": [
      "my eman is nitin\n"
     ]
    }
   ],
   "source": [
    "\n",
    "nam=\"my name is nitin\"\n",
    "name=nam.split()    #\"\".join(i for i in nam if i.isalnum())\n",
    "for i in range(1 , len(name) , 2):\n",
    "    name[i]=name[i][::-1]\n",
    "print(\" \".join(name))"
   ]
  },
  {
   "cell_type": "code",
   "execution_count": 2,
   "id": "cfdc5e0c",
   "metadata": {},
   "outputs": [
    {
     "name": "stdout",
     "output_type": "stream",
     "text": [
      "36\n"
     ]
    }
   ],
   "source": [
    "a = [3, 4 , 5 , 7 ,8 ,9 ]\n",
    "total=0\n",
    "for i in a:\n",
    "    total =total+i\n",
    "    \n",
    "print(total)"
   ]
  },
  {
   "cell_type": "code",
   "execution_count": 6,
   "id": "b4782ea3",
   "metadata": {},
   "outputs": [
    {
     "name": "stdout",
     "output_type": "stream",
     "text": [
      "[9, 16, 25, 49, 64, 81]\n"
     ]
    }
   ],
   "source": [
    "a = [3, 4 , 5 , 7 ,8 ,9 ]\n",
    "product=[]\n",
    "for i in range(len(a)):\n",
    "    product.append(a[i]**2)\n",
    "    \n",
    "print(product)"
   ]
  },
  {
   "cell_type": "markdown",
   "id": "13e2ca8d-4f90-4274-bacb-7c85551cb69e",
   "metadata": {},
   "source": [
    "## Swap Number Uisng without third variable"
   ]
  },
  {
   "cell_type": "code",
   "execution_count": 19,
   "id": "053c68ee",
   "metadata": {},
   "outputs": [
    {
     "name": "stdout",
     "output_type": "stream",
     "text": [
      "4 5 7\n",
      "7 4 5\n"
     ]
    }
   ],
   "source": [
    "a , b, c=4 , 5 , 7\n",
    "print(a , b ,c)\n",
    "a=a^b^c\n",
    "b=a^b^c\n",
    "c=a^b^c\n",
    "a=a^b^c\n",
    "print(a , b , c)"
   ]
  },
  {
   "cell_type": "code",
   "execution_count": 15,
   "id": "b285540c",
   "metadata": {},
   "outputs": [
    {
     "name": "stdout",
     "output_type": "stream",
     "text": [
      "5 4\n"
     ]
    }
   ],
   "source": [
    "a , b=4 , 5\n",
    "a=a^b\n",
    "b=a^b\n",
    "a=a^b\n",
    "print(a,b)"
   ]
  },
  {
   "cell_type": "code",
   "execution_count": 2,
   "id": "6065d71c",
   "metadata": {},
   "outputs": [
    {
     "name": "stdout",
     "output_type": "stream",
     "text": [
      "[3, 5, 7, 9, 22, 77, 355]\n"
     ]
    }
   ],
   "source": [
    "def bubblesort(arr):\n",
    "    n=len(arr)\n",
    "    for i in range(n):\n",
    "        for j in range(0, n-i-1):\n",
    "            if arr[j] > arr[j+1]:\n",
    "                arr[j] ,arr[j+1]=arr[j+1] ,arr[j]\n",
    "            \n",
    "    return arr\n",
    "\n",
    "arr=[5 , 7 , 355 , 77 , 22 , 3 ,9]\n",
    "print(bubblesort(arr))"
   ]
  },
  {
   "cell_type": "code",
   "execution_count": 1,
   "id": "b5e50477",
   "metadata": {},
   "outputs": [
    {
     "name": "stdout",
     "output_type": "stream",
     "text": [
      "30\n"
     ]
    }
   ],
   "source": [
    "a=9\n",
    "b=0\n",
    "def subclass(a , b):\n",
    "    a=10\n",
    "    b=20\n",
    "    c=a+b\n",
    "    return c\n",
    "a=7\n",
    "b=8\n",
    "a =subclass(a, b)\n",
    "print(a)"
   ]
  },
  {
   "cell_type": "code",
   "execution_count": 3,
   "id": "bab75ac0",
   "metadata": {},
   "outputs": [
    {
     "name": "stdout",
     "output_type": "stream",
     "text": [
      "not a anagram\n"
     ]
    }
   ],
   "source": [
    "n = 'rahul'\n",
    "b = 'nitin'\n",
    "if sorted(n) ==sorted(b):\n",
    "    print('anagram')\n",
    "else:\n",
    "    print('not a anagram')"
   ]
  },
  {
   "cell_type": "markdown",
   "id": "213fbc27-d174-4af5-88c9-2e6e2bae7d8c",
   "metadata": {},
   "source": [
    "## Nested Anagram"
   ]
  },
  {
   "cell_type": "code",
   "execution_count": 13,
   "id": "569a1fc5",
   "metadata": {},
   "outputs": [
    {
     "name": "stdout",
     "output_type": "stream",
     "text": [
      "[['abc', 'bca', 'cab'], ['dog'], ['bat', 'tab']]\n"
     ]
    }
   ],
   "source": [
    "def anagram(arr):\n",
    "    anagrame={}\n",
    "    for i in arr:\n",
    "        sorted_anagram=''.join(sorted(i))\n",
    "        if sorted_anagram in anagrame:\n",
    "            anagrame[sorted_anagram].append(i)\n",
    "        else:\n",
    "            anagrame[sorted_anagram]=[i]\n",
    "    return list(anagrame.values())\n",
    "a = ['abc' , 'bca'  , 'cab' , 'dog' ,'bat', 'tab'] \n",
    "c=anagram(a)\n",
    "print(c)\n",
    "\n",
    "\n",
    "# for group in c:\n",
    "#     print(c)"
   ]
  },
  {
   "cell_type": "code",
   "execution_count": 8,
   "id": "74ccd796",
   "metadata": {},
   "outputs": [
    {
     "name": "stdout",
     "output_type": "stream",
     "text": [
      "not a angram\n"
     ]
    }
   ],
   "source": [
    "a=\"abc\"\n",
    "b=\"bcad\"\n",
    "if sorted(a)==sorted(b):\n",
    "    print(\"is anagram\")\n",
    "else:\n",
    "    print(\"not a angram\")"
   ]
  },
  {
   "cell_type": "code",
   "execution_count": 1,
   "id": "ea99b202",
   "metadata": {},
   "outputs": [
    {
     "name": "stdout",
     "output_type": "stream",
     "text": [
      "9 1\n"
     ]
    }
   ],
   "source": [
    "arr = [3, 5, 1, 9, 2]\n",
    "max_element=arr[0]\n",
    "min_element=arr[0]\n",
    "for i in arr:\n",
    "    if i > max_element:\n",
    "        max_element=i\n",
    "    elif i <min_element:\n",
    "        min_element =i\n",
    "print(max_element , min_element)"
   ]
  },
  {
   "cell_type": "code",
   "execution_count": 15,
   "id": "ae08eed1",
   "metadata": {},
   "outputs": [
    {
     "name": "stdout",
     "output_type": "stream",
     "text": [
      "rahul: not aplindrome\n",
      "False\n"
     ]
    }
   ],
   "source": [
    "def plaindrome(arr):\n",
    "    \n",
    "    left = 0\n",
    "    right = len(arr)-1\n",
    "    \n",
    "    while left < right:\n",
    "        if arr[left] != arr[right]:\n",
    "            print(f\"{arr}: not aplindrome\")\n",
    "            return False\n",
    "    left+=1\n",
    "    right-=1\n",
    "    print(f\"{arr}: is a palindrome\")   \n",
    "    return True\n",
    "           \n",
    "arr = 'rahul'\n",
    "print(plaindrome(arr))"
   ]
  },
  {
   "cell_type": "code",
   "execution_count": 2,
   "id": "20189870",
   "metadata": {},
   "outputs": [
    {
     "name": "stdout",
     "output_type": "stream",
     "text": [
      "0\n",
      "1\n",
      "1\n",
      "2\n"
     ]
    }
   ],
   "source": [
    "def fib():\n",
    "    a , b=0 , 1\n",
    "    while True:\n",
    "        yield a\n",
    "        a , b=b,a +b\n",
    "f1=fib()       \n",
    "print(next(f1))\n",
    "print(next(f1))\n",
    "print(next(f1))\n",
    "print(next(f1))"
   ]
  },
  {
   "cell_type": "code",
   "execution_count": 9,
   "id": "9c756ee9",
   "metadata": {},
   "outputs": [
    {
     "name": "stdout",
     "output_type": "stream",
     "text": [
      "['I', 'Love', 'Coding']\n"
     ]
    }
   ],
   "source": [
    "s = 'i love coding'\n",
    "s=s.split()\n",
    "word=[]\n",
    "for i in s:\n",
    "    word.append(i[0].upper()+ i[1:].lower())\n",
    "print(word)"
   ]
  },
  {
   "cell_type": "markdown",
   "id": "8207b4a3-534a-4477-8a1a-21524ecaee79",
   "metadata": {},
   "source": [
    "## Missing Number Number"
   ]
  },
  {
   "cell_type": "code",
   "execution_count": 8,
   "id": "c41e74fd",
   "metadata": {},
   "outputs": [
    {
     "name": "stdout",
     "output_type": "stream",
     "text": [
      "Missing elements: [5, 7, 9]\n"
     ]
    }
   ],
   "source": [
    "#find the missing element in sported array\n",
    "#a=[1 , 2 , 3 , 4 , 6 , 8 , 10]\n",
    "\n",
    "def missingnumber(arr):\n",
    "    miss=[]\n",
    "    for i in range(arr[0] ,   arr[-1]  +1):\n",
    "        if i not in arr:\n",
    "            miss.append(i)\n",
    "            \n",
    "    return miss\n",
    "a = [1, 2, 3, 4, 6, 8, 10]\n",
    "missing_elements = missingnumber(a)\n",
    "print(\"Missing elements:\", missing_elements)"
   ]
  },
  {
   "cell_type": "markdown",
   "id": "6fcf9404-3812-408c-884c-c6cc01a22e7a",
   "metadata": {},
   "source": [
    "## Palindrome"
   ]
  },
  {
   "cell_type": "code",
   "execution_count": 24,
   "id": "846e3176",
   "metadata": {},
   "outputs": [
    {
     "name": "stdout",
     "output_type": "stream",
     "text": [
      "not a palindrome\n"
     ]
    }
   ],
   "source": [
    "def is_palindrome(arr):\n",
    "    arr=arr.lower()\n",
    "    \n",
    "    left = 0\n",
    "    right= len(arr)-1\n",
    "    \n",
    "    while left < right:\n",
    "        if arr[left] != arr[right]:\n",
    "            return False\n",
    "        left +=1\n",
    "        right -=1\n",
    "        \n",
    "    return True\n",
    "arr='rahul'\n",
    "if is_palindrome(arr):\n",
    "    print('palindrome')\n",
    "else:\n",
    "    print(\"not a palindrome\")"
   ]
  },
  {
   "cell_type": "code",
   "execution_count": 45,
   "id": "4c87c1b0",
   "metadata": {},
   "outputs": [
    {
     "name": "stdout",
     "output_type": "stream",
     "text": [
      "1\n",
      "3\n",
      "5\n",
      "7\n",
      "9\n"
     ]
    }
   ],
   "source": [
    "num = 0\n",
    "while  num <=10:\n",
    "    if num %2==0:\n",
    "        num +=1\n",
    "        continue\n",
    "    print(num)\n",
    "    num+=1"
   ]
  },
  {
   "cell_type": "markdown",
   "id": "1d63da73-b042-4aa0-9d4a-c2da7541a1c2",
   "metadata": {},
   "source": [
    "## Consecutive number "
   ]
  },
  {
   "cell_type": "code",
   "execution_count": 5,
   "id": "9999203c",
   "metadata": {},
   "outputs": [
    {
     "name": "stdout",
     "output_type": "stream",
     "text": [
      "(12, [44, 45, 46, 47, 48, 49, 50, 51, 52, 53, 54, 55])\n"
     ]
    }
   ],
   "source": [
    "def consecutive(num):\n",
    "    arr_set=set(num)\n",
    "    max_length=0\n",
    "    word=[]\n",
    "    \n",
    "    for num in arr_set:\n",
    "        if num-1 not in arr_set:\n",
    "            current_num=num\n",
    "            current_legth=1\n",
    "            current_consecutiv=[current_num]\n",
    "            \n",
    "            while current_num +1 in arr_set:\n",
    "                current_num+=1\n",
    "                current_legth+=1\n",
    "                current_consecutiv.append(current_num)\n",
    "                \n",
    "            if current_legth > max_length:\n",
    "                max_length=current_legth\n",
    "                \n",
    "                word =current_consecutiv\n",
    "    return max_length , word\n",
    "    \n",
    "arr = [1, 2, 7, 8, 44,45,46,47,48,49,50,51,52,53,54,55, 1, 2, 5, 3, 4, 7, 6]\n",
    "s = consecutive(arr)\n",
    "print(s)"
   ]
  },
  {
   "cell_type": "code",
   "execution_count": 7,
   "id": "1c43f089",
   "metadata": {},
   "outputs": [
    {
     "name": "stdout",
     "output_type": "stream",
     "text": [
      "(8, [1, 2, 3, 4, 5, 6, 7, 8])\n"
     ]
    }
   ],
   "source": [
    "def consec(num):\n",
    "    arr_set=set(num)\n",
    "    \n",
    "    max_lenghth=0\n",
    "    word=[]\n",
    "    \n",
    "    for i in arr_set:\n",
    "        if i-1 not in arr_set:\n",
    "            current_num=i\n",
    "            current_legth=1\n",
    "            currrecnt_seq=[current_num]\n",
    "            \n",
    "            while current_num+1 in arr_set:\n",
    "                current_num+=1\n",
    "                current_legth+=1\n",
    "                currrecnt_seq.append(current_num)\n",
    "                \n",
    "            if current_legth>max_lenghth:\n",
    "                max_lenghth=current_legth\n",
    "                word=currrecnt_seq\n",
    "                \n",
    "    return max_lenghth , word\n",
    "\n",
    "arr = [1, 2, 7, 8, 44, 1, 2, 5, 3, 4, 7, 6]\n",
    "s = consec(arr)\n",
    "print(s)"
   ]
  }
 ],
 "metadata": {
  "kernelspec": {
   "display_name": "Python 3 (ipykernel)",
   "language": "python",
   "name": "python3"
  },
  "language_info": {
   "codemirror_mode": {
    "name": "ipython",
    "version": 3
   },
   "file_extension": ".py",
   "mimetype": "text/x-python",
   "name": "python",
   "nbconvert_exporter": "python",
   "pygments_lexer": "ipython3",
   "version": "3.12.7"
  }
 },
 "nbformat": 4,
 "nbformat_minor": 5
}
