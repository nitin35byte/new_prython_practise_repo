{
 "cells": [
  {
   "cell_type": "code",
   "execution_count": null,
   "id": "a7e9201c",
   "metadata": {},
   "outputs": [],
   "source": [
    "Static Variables and Instance Variables in Python\n",
    "In Python, the distinction between static variables and instance variables lies in their scope, lifetime, and how they are shared or bound to objects of a class.\n",
    "\n",
    "1. Instance Variables\n",
    "Definition: Instance variables are attributes defined inside a class that are unique to each object (instance). They are created using the self keyword and are stored as part of the object's state.\n",
    "Scope: Bound to the specific object (instance) they belong to.\n",
    "Lifetime: Exist as long as the object exists.\n",
    "Usage: Used to store data specific to an object.\n",
    "Example of Instance Variables:\n",
    "python\n",
    "Copy code\n",
    "class Employee:\n",
    "    def __init__(self, name, salary):\n",
    "        self.name = name  # Instance variable\n",
    "        self.salary = salary  # Instance variable\n",
    "\n",
    "# Create two objects of Employee\n",
    "emp1 = Employee(\"Alice\", 50000)\n",
    "emp2 = Employee(\"Bob\", 60000)\n",
    "\n",
    "# Each object has its own instance variables\n",
    "print(emp1.name, emp1.salary)  # Output: Alice 50000\n",
    "print(emp2.name, emp2.salary)  # Output: Bob 60000\n",
    "\n",
    "# Modify instance variable for emp1\n",
    "emp1.salary = 55000\n",
    "print(emp1.salary)  # Output: 55000\n",
    "print(emp2.salary)  # Output: 60000  (Unchanged)\n",
    "Characteristics:\n",
    "Unique to each object: Changes to one instance variable don't affect another.\n",
    "Defined with self: Created inside methods using self.variable_name.\n",
    "Accessible using object references: Accessed or modified using object_name.variable_name.\n",
    "2. Static Variables\n",
    "Definition: Static variables are attributes that are shared by all objects of a class. They belong to the class rather than any specific instance.\n",
    "Scope: Shared across all objects of the class.\n",
    "Lifetime: Exists as long as the class is loaded into memory.\n",
    "Usage: Used to store class-wide data, such as constants or counters.\n",
    "Example of Static Variables:\n",
    "python\n",
    "Copy code\n",
    "class Employee:\n",
    "    company = \"TechCorp\"  # Static variable (shared by all instances)\n",
    "\n",
    "    def __init__(self, name, salary):\n",
    "        self.name = name  # Instance variable\n",
    "        self.salary = salary  # Instance variable\n",
    "\n",
    "# Create two objects of Employee\n",
    "emp1 = Employee(\"Alice\", 50000)\n",
    "emp2 = Employee(\"Bob\", 60000)\n",
    "\n",
    "# Access static variable using class or instance\n",
    "print(Employee.company)  # Output: TechCorp\n",
    "print(emp1.company)      # Output: TechCorp\n",
    "print(emp2.company)      # Output: TechCorp\n",
    "\n",
    "# Modify static variable\n",
    "Employee.company = \"NewTech\"\n",
    "print(emp1.company)  # Output: NewTech\n",
    "print(emp2.company)  # Output: NewTech\n",
    "Characteristics:\n",
    "Shared by all objects: Any change to a static variable is reflected across all objects.\n",
    "Defined outside instance methods: Declared directly inside the class body.\n",
    "Accessed via class or objects: Can be accessed using ClassName.variable_name or object_name.variable_name.\n",
    "Differences Between Static and Instance Variables\n",
    "Aspect\tStatic Variable\tInstance Variable\n",
    "Definition\tShared by all objects of a class.\tUnique to each object (instance).\n",
    "Scope\tBelongs to the class.\tBelongs to the object (instance).\n",
    "Access\tAccessed using ClassName or objects.\tAccessed using object_name.\n",
    "Declaration\tDeclared in the class body.\tDeclared inside instance methods.\n",
    "Lifetime\tExists as long as the class exists.\tExists as long as the object exists.\n",
    "Modification\tChanges affect all objects.\tChanges affect only the specific object.\n",
    "3. Hybrid Example with Static and Instance Variables\n",
    "Here’s an example where static and instance variables are used together:\n",
    "\n",
    "python\n",
    "Copy code\n",
    "class Employee:\n",
    "    company = \"TechCorp\"  # Static variable (shared across all instances)\n",
    "    employee_count = 0    # Static variable to count employees\n",
    "\n",
    "    def __init__(self, name, salary):\n",
    "        self.name = name  # Instance variable\n",
    "        self.salary = salary  # Instance variable\n",
    "        Employee.employee_count += 1  # Increment static variable\n",
    "\n",
    "    def show_details(self):\n",
    "        print(f\"Name: {self.name}, Salary: {self.salary}, Company: {Employee.company}\")\n",
    "\n",
    "# Create employee objects\n",
    "emp1 = Employee(\"Alice\", 50000)\n",
    "emp2 = Employee(\"Bob\", 60000)\n",
    "\n",
    "# Show details for each employee\n",
    "emp1.show_details()  # Output: Name: Alice, Salary: 50000, Company: TechCorp\n",
    "emp2.show_details()  # Output: Name: Bob, Salary: 60000, Company: TechCorp\n",
    "\n",
    "# Static variable is shared\n",
    "print(\"Total Employees:\", Employee.employee_count)  # Output: Total Employees: 2\n",
    "Key Takeaways\n",
    "Instance Variables:\n",
    "\n",
    "Store data specific to an object.\n",
    "Created and modified using the self keyword.\n",
    "Each object has its own copy.\n",
    "Static Variables:\n",
    "\n",
    "Store class-wide data shared by all objects.\n",
    "Declared directly in the class body.\n",
    "Useful for constants, counters, or properties common to all objects.\n",
    "Understanding the difference between instance and static variables is crucial for designing clean and efficient classes in object-oriented programming."
   ]
  },
  {
   "cell_type": "code",
   "execution_count": 5,
   "id": "2a27384b",
   "metadata": {},
   "outputs": [
    {
     "name": "stdout",
     "output_type": "stream",
     "text": [
      "{'y', 'a', 'e', 't', 'm', 's', 'n', 'i'}\n",
      "{'m', 'n', 'i'}\n"
     ]
    }
   ],
   "source": [
    "name='my name is nitin'\n",
    "name=[c for c in name if c.isalnum()]\n",
    "seen = set()\n",
    "duplicat=set()\n",
    "\n",
    "for i in name:\n",
    "    if i in seen:\n",
    "        duplicat.add(i)\n",
    "    seen.add(i)\n",
    "print(seen)\n",
    "print(duplicat)"
   ]
  },
  {
   "cell_type": "code",
   "execution_count": 10,
   "id": "e7f257e4",
   "metadata": {},
   "outputs": [
    {
     "name": "stdout",
     "output_type": "stream",
     "text": [
      "Longest Substring Length: 6\n",
      "Longest Substring: abcdef\n"
     ]
    }
   ],
   "source": [
    "def longestsubstring(arr):\n",
    "    longets_string=0\n",
    "    word=\"\"\n",
    "    start=0\n",
    "    char_index={}\n",
    "    for i in range(len(arr)):\n",
    "        if arr[i] in char_index and char_index[arr[i]] >=start:\n",
    "#             if s[i] in char_index and char_index[s[i]] >=start:\n",
    "            start=char_index[arr[i]]+1\n",
    "        char_index[arr[i]]=i\n",
    "        \n",
    "        current_max=i-start+1\n",
    "        if current_max > longets_string:\n",
    "            longets_string =current_max\n",
    "            word=arr[start:i+1]\n",
    "    return longets_string , word\n",
    "    \n",
    "arr = 'abcdabcdefabcdef'\n",
    "char_index, strn = longestsubstring(arr)\n",
    "print(\"Longest Substring Length:\", char_index)\n",
    "print(\"Longest Substring:\", strn)"
   ]
  },
  {
   "cell_type": "code",
   "execution_count": 15,
   "id": "1f526a02",
   "metadata": {},
   "outputs": [
    {
     "data": {
      "text/plain": [
       "'fl'"
      ]
     },
     "execution_count": 15,
     "metadata": {},
     "output_type": "execute_result"
    }
   ],
   "source": [
    "def prefix(arr):\n",
    "    max_str=max(arr)\n",
    "    min_str=min(arr)\n",
    "    prefix=\"\"\n",
    "    len_minstr=len(min_str)\n",
    "    \n",
    "    for i in range(len_minstr):\n",
    "        if min_str[i] ==max_str[i]:\n",
    "            prefix +=min_str[i]\n",
    "            \n",
    "        else:\n",
    "            break\n",
    "            \n",
    "    return prefix\n",
    "\n",
    "arr = [\"fly\" , \"flat\" ,\"flruit\"]\n",
    "prefix(arr)"
   ]
  },
  {
   "cell_type": "code",
   "execution_count": 4,
   "id": "e2c89b5e",
   "metadata": {},
   "outputs": [
    {
     "name": "stdout",
     "output_type": "stream",
     "text": [
      "enter number5\n",
      "enter number7\n",
      "The factorial of 5 is 7\n",
      "The factorial of 5 is 14\n",
      "The factorial of 5 is 42\n",
      "The factorial of 5 is 168\n",
      "The factorial of 5 is 840\n"
     ]
    }
   ],
   "source": [
    "input_one=int(input(\"enter number\"))\n",
    "factorial=int(input(\"enter number\"))\n",
    "if input_one <0:\n",
    "    print(\"factirial of 0 is 1\")\n",
    "\n",
    "elif input_one ==1:\n",
    "    print(\"factorial of 1 is one\")\n",
    "    \n",
    "else:\n",
    "    for i in range(1 , input_one+1):\n",
    "        factorial=factorial*i\n",
    "        \n",
    "        print(\"The factorial of\", input_one, \"is\", factorial)\n",
    "    "
   ]
  },
  {
   "cell_type": "code",
   "execution_count": 15,
   "id": "2d90ea59",
   "metadata": {},
   "outputs": [
    {
     "name": "stdout",
     "output_type": "stream",
     "text": [
      "121  is palindrome\n"
     ]
    }
   ],
   "source": [
    "def is_palindrome(arr):\n",
    "    left =0\n",
    "    right=len(arr)-1\n",
    "    while left < right:\n",
    "        if arr[left] !=arr[right]:\n",
    "            return False\n",
    "        left +=1\n",
    "        right-=1\n",
    "    \n",
    "    return True\n",
    "arr='121'\n",
    "if is_palindrome(arr):\n",
    "    print(f\"{arr}  is palindrome\")\n",
    "else:\n",
    "    print(f\"{arr}  is not palindrome\")"
   ]
  },
  {
   "cell_type": "code",
   "execution_count": 8,
   "id": "734ea812",
   "metadata": {},
   "outputs": [
    {
     "name": "stdout",
     "output_type": "stream",
     "text": [
      "bhaag sa sale\n",
      "False\n"
     ]
    }
   ],
   "source": []
  }
 ],
 "metadata": {
  "kernelspec": {
   "display_name": "Python 3 (ipykernel)",
   "language": "python",
   "name": "python3"
  },
  "language_info": {
   "codemirror_mode": {
    "name": "ipython",
    "version": 3
   },
   "file_extension": ".py",
   "mimetype": "text/x-python",
   "name": "python",
   "nbconvert_exporter": "python",
   "pygments_lexer": "ipython3",
   "version": "3.9.13"
  }
 },
 "nbformat": 4,
 "nbformat_minor": 5
}
